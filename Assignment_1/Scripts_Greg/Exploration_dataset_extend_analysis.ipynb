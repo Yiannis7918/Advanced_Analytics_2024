{
 "cells": [
  {
   "cell_type": "markdown",
   "metadata": {},
   "source": [
    "<h1> Exploration dataset: further analysis</h1>"
   ]
  },
  {
   "cell_type": "markdown",
   "metadata": {},
   "source": [
    "Python version: 3.10 </br>\n",
    "Author: Grégoire Corlùy"
   ]
  },
  {
   "cell_type": "markdown",
   "metadata": {},
   "source": [
    "Do some preprocessing of the features, do a correlation analysis of the features and perform a PCA analysis"
   ]
  },
  {
   "cell_type": "markdown",
   "metadata": {},
   "source": [
    "Import data"
   ]
  },
  {
   "cell_type": "code",
   "execution_count": 12,
   "metadata": {},
   "outputs": [],
   "source": [
    "import pandas as pd\n",
    "import numpy as np\n",
    "import time\n",
    "import datetime"
   ]
  },
  {
   "cell_type": "code",
   "execution_count": 6,
   "metadata": {},
   "outputs": [
    {
     "name": "stdout",
     "output_type": "stream",
     "text": [
      "Size of the dataset is (5044, 39)\n"
     ]
    }
   ],
   "source": [
    "dataset = pd.read_csv('../datasets/train.csv')\n",
    "print(f\"Size of the dataset is {dataset.shape}\")"
   ]
  },
  {
   "cell_type": "code",
   "execution_count": 7,
   "metadata": {},
   "outputs": [
    {
     "name": "stdout",
     "output_type": "stream",
     "text": [
      "0    F\n",
      "1    M\n",
      "2    F\n",
      "3    F\n",
      "4    F\n",
      "Name: Gender, dtype: object\n"
     ]
    }
   ],
   "source": [
    "print(dataset[\"Gender\"].head())"
   ]
  },
  {
   "cell_type": "code",
   "execution_count": 9,
   "metadata": {},
   "outputs": [],
   "source": [
    "#convert gender labels to 0-1 encoding\n",
    "\n",
    "dataset[\"Gender\"] = dataset[\"Gender\"].replace({'M': 0, 'F': 1}).infer_objects(copy=False) #add last command to remove the warning of depreciation"
   ]
  },
  {
   "cell_type": "code",
   "execution_count": 10,
   "metadata": {},
   "outputs": [
    {
     "name": "stdout",
     "output_type": "stream",
     "text": [
      "0    1\n",
      "1    0\n",
      "2    1\n",
      "3    1\n",
      "4    1\n",
      "Name: Gender, dtype: int64\n"
     ]
    }
   ],
   "source": [
    "#check correctly implemented\n",
    "print(dataset[\"Gender\"].head())"
   ]
  },
  {
   "cell_type": "code",
   "execution_count": 14,
   "metadata": {},
   "outputs": [
    {
     "name": "stdout",
     "output_type": "stream",
     "text": [
      "<bound method NDFrame.head of 0       10365.916667\n",
      "1        9845.958333\n",
      "2       10099.916667\n",
      "3       10419.916667\n",
      "4       10598.958333\n",
      "            ...     \n",
      "5039    10118.916667\n",
      "5040     9766.916667\n",
      "5041    10749.916667\n",
      "5042    10285.958333\n",
      "5043    10541.958333\n",
      "Name: Connect_Date_tmstp, Length: 5044, dtype: float64>\n",
      "<bound method NDFrame.head of 0        869.958333\n",
      "1        350.000000\n",
      "2        603.958333\n",
      "3        923.958333\n",
      "4       1103.000000\n",
      "           ...     \n",
      "5039     622.958333\n",
      "5040     270.958333\n",
      "5041    1253.958333\n",
      "5042     790.000000\n",
      "5043    1046.000000\n",
      "Name: Connect_Date_tmstp_shift, Length: 5044, dtype: float64>\n"
     ]
    }
   ],
   "source": [
    "#convert Connect_Date to \"integer\"\n",
    "#transform all dates to a number\n",
    "def convert_to_timestamp(date_str):\n",
    "    return time.mktime(datetime.datetime.strptime(date_str, \"%d/%m/%y\").timetuple())/3600/24 #expressed in second I think, so I convert it to days\n",
    "\n",
    "dataset['Connect_Date_tmstp'] = dataset['Connect_Date'].apply(convert_to_timestamp)\n",
    "print(dataset[\"Connect_Date_tmstp\"].head)\n",
    "#expressed in days\n",
    "\n",
    "#shift by removing the minimal value to every observation, try to have smaller numbers\n",
    "dataset['Connect_Date_tmstp_shift'] = dataset['Connect_Date_tmstp'] - np.min(dataset['Connect_Date_tmstp'])\n",
    "print(dataset[\"Connect_Date_tmstp_shift\"].head)\n",
    "#expressed in days relative to the first date in the dataset"
   ]
  },
  {
   "cell_type": "code",
   "execution_count": 16,
   "metadata": {},
   "outputs": [
    {
     "name": "stdout",
     "output_type": "stream",
     "text": [
      "Index(['Gender', 'Age', 'Connect_Date', 'L_O_S', 'Dropped_Calls', 'tariff',\n",
      "       'Handset', 'Peak_calls_Sum', 'Peak_mins_Sum', 'OffPeak_calls_Sum',\n",
      "       'OffPeak_mins_Sum', 'Weekend_calls_Sum', 'Weekend_mins_Sum',\n",
      "       'International_mins_Sum', 'Nat_call_cost_Sum', 'AvePeak', 'AveOffPeak',\n",
      "       'AveWeekend', 'National_calls', 'National mins', 'AveNational',\n",
      "       'All_calls_mins', 'Dropped_calls_ratio', 'Usage_Band', 'Mins_charge',\n",
      "       'call_cost_per_min', 'actual call cost', 'Total_call_cost',\n",
      "       'Total_Cost', 'Tariff_OK', 'average cost min', 'Peak ratio',\n",
      "       'OffPeak ratio', 'Weekend ratio', 'Nat-InterNat Ratio',\n",
      "       'high Dropped calls', 'No Usage', 'target', 'id', 'Connect_Date_tmstp',\n",
      "       'Connect_Date_tmstp_shift'],\n",
      "      dtype='object')\n"
     ]
    }
   ],
   "source": [
    "print(dataset.columns)"
   ]
  },
  {
   "cell_type": "code",
   "execution_count": 18,
   "metadata": {},
   "outputs": [
    {
     "name": "stdout",
     "output_type": "stream",
     "text": [
      "(5044, 35)\n"
     ]
    }
   ],
   "source": [
    "#keep \"continuous\" features\n",
    "dataset_ctu = dataset.drop(columns=[\"id\",\"Connect_Date\",\"Connect_Date_tmstp\",\"tariff\",\"Handset\",\"Usage_Band\"])\n",
    "print(dataset_ctu.shape)\n",
    "\n",
    "#39-4=35 (Correct)\n",
    "#Connect date is still present with another name, so not really removed"
   ]
  }
 ],
 "metadata": {
  "kernelspec": {
   "display_name": "venvOne",
   "language": "python",
   "name": "python3"
  },
  "language_info": {
   "codemirror_mode": {
    "name": "ipython",
    "version": 3
   },
   "file_extension": ".py",
   "mimetype": "text/x-python",
   "name": "python",
   "nbconvert_exporter": "python",
   "pygments_lexer": "ipython3",
   "version": "3.10.10"
  }
 },
 "nbformat": 4,
 "nbformat_minor": 2
}
