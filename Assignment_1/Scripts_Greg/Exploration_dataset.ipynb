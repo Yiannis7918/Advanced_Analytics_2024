{
 "cells": [
  {
   "cell_type": "markdown",
   "metadata": {},
   "source": [
    "<h1>Exploration dataset by Grégoire Corluy</h1>"
   ]
  },
  {
   "cell_type": "markdown",
   "metadata": {},
   "source": [
    "Python version: 3.10 </br>\n",
    "Author: Grégoire Corlùy"
   ]
  },
  {
   "cell_type": "markdown",
   "metadata": {},
   "source": [
    "<h4>Load the data</h4>"
   ]
  },
  {
   "cell_type": "code",
   "execution_count": 5,
   "metadata": {},
   "outputs": [],
   "source": [
    "import pandas as pd"
   ]
  },
  {
   "cell_type": "code",
   "execution_count": 6,
   "metadata": {},
   "outputs": [
    {
     "name": "stdout",
     "output_type": "stream",
     "text": [
      "Size of the dataset is (5044, 39)\n"
     ]
    }
   ],
   "source": [
    "dataset = pd.read_csv('../datasets/train.csv')\n",
    "print(f\"Size of the dataset is {dataset.shape}\")"
   ]
  },
  {
   "cell_type": "markdown",
   "metadata": {},
   "source": [
    "Explore the data"
   ]
  },
  {
   "cell_type": "code",
   "execution_count": 7,
   "metadata": {},
   "outputs": [
    {
     "name": "stdout",
     "output_type": "stream",
     "text": [
      "Index(['Gender', 'Age', 'Connect_Date', 'L_O_S', 'Dropped_Calls', 'tariff',\n",
      "       'Handset', 'Peak_calls_Sum', 'Peak_mins_Sum', 'OffPeak_calls_Sum',\n",
      "       'OffPeak_mins_Sum', 'Weekend_calls_Sum', 'Weekend_mins_Sum',\n",
      "       'International_mins_Sum', 'Nat_call_cost_Sum', 'AvePeak', 'AveOffPeak',\n",
      "       'AveWeekend', 'National_calls', 'National mins', 'AveNational',\n",
      "       'All_calls_mins', 'Dropped_calls_ratio', 'Usage_Band', 'Mins_charge',\n",
      "       'call_cost_per_min', 'actual call cost', 'Total_call_cost',\n",
      "       'Total_Cost', 'Tariff_OK', 'average cost min', 'Peak ratio',\n",
      "       'OffPeak ratio', 'Weekend ratio', 'Nat-InterNat Ratio',\n",
      "       'high Dropped calls', 'No Usage', 'target', 'id'],\n",
      "      dtype='object')\n"
     ]
    }
   ],
   "source": [
    "#print the labels of the columns\n",
    "print(dataset.columns)"
   ]
  },
  {
   "cell_type": "markdown",
   "metadata": {},
   "source": [
    "Number of positive and negative targets"
   ]
  },
  {
   "cell_type": "code",
   "execution_count": 8,
   "metadata": {},
   "outputs": [
    {
     "name": "stdout",
     "output_type": "stream",
     "text": [
      "<bound method NDFrame.head of      Gender   Age Connect_Date      L_O_S  Dropped_Calls    tariff Handset  \\\n",
      "0         F  50.0     20/05/98  29.200000            2.0  Play 100   BS210   \n",
      "1         M  25.0     16/12/96  46.533333            1.0   CAT 100  ASAD90   \n",
      "2         F  46.0     27/08/97  38.066667            1.0    CAT 50    WC95   \n",
      "3         F  59.0     13/07/98  27.400000            1.0    CAT 50   BS110   \n",
      "4         F  25.0     08/01/99  21.433333            1.0  Play 300    WC95   \n",
      "...     ...   ...          ...        ...            ...       ...     ...   \n",
      "5039      F  16.0     15/09/97  37.433333            2.0   CAT 200  ASAD90   \n",
      "5040      F  29.0     28/09/96  49.166667            1.0   CAT 100   CAS30   \n",
      "5041      M  23.0     08/06/99  16.400000            0.0   CAT 200   BS110   \n",
      "5042      M  46.0     01/03/98  31.866667            2.0  Play 100     S50   \n",
      "5043      M  61.0     12/11/98  23.333333            0.0   CAT 100     S50   \n",
      "\n",
      "      Peak_calls_Sum  Peak_mins_Sum  OffPeak_calls_Sum  ...  Tariff_OK  \\\n",
      "0               62.0     153.000000              185.0  ...         OK   \n",
      "1              146.0     718.800000               98.0  ...         OK   \n",
      "2              160.0     322.800000                7.0  ...         OK   \n",
      "3               84.0     317.400001               57.0  ...         OK   \n",
      "4               14.0     309.600000              326.0  ...         OK   \n",
      "...              ...            ...                ...  ...        ...   \n",
      "5039           151.0    1169.400001              201.0  ...         OK   \n",
      "5040           135.0     405.600000              124.0  ...         OK   \n",
      "5041           566.0    2382.000000                4.0  ...         OK   \n",
      "5042            72.0     112.200000               31.0  ...         OK   \n",
      "5043           148.0     403.200000              187.0  ...         OK   \n",
      "\n",
      "      average cost min  Peak ratio  OffPeak ratio  Weekend ratio  \\\n",
      "0             0.150531    0.246536       0.706735       0.046729   \n",
      "1             0.188988    0.780710       0.178886       0.040404   \n",
      "2             0.239300    0.722633       0.277367       0.000000   \n",
      "3             0.221467    0.662492       0.337508       0.000000   \n",
      "4             0.107509    0.321896       0.663132       0.014972   \n",
      "...                ...         ...            ...            ...   \n",
      "5039          0.130433    0.615895       0.346500       0.037605   \n",
      "5040          0.189112    0.555769       0.412716       0.031515   \n",
      "5041          0.112657    0.810121       0.162330       0.027548   \n",
      "5042          0.205957    0.323250       0.664650       0.012100   \n",
      "5043          0.187393    0.553314       0.398930       0.047756   \n",
      "\n",
      "      Nat-InterNat Ratio  high Dropped calls  No Usage  target       id  \n",
      "0               0.203034                   F         F       0  K262360  \n",
      "1               0.273249                   F         F       1  K170160  \n",
      "2               0.205025                   F         F       0  K331610  \n",
      "3               0.050090                   F         F       0  K332460  \n",
      "4               0.090509                   F         F       0  K394220  \n",
      "...                  ...                 ...       ...     ...      ...  \n",
      "5039            0.127974                   F         F       1  K192650  \n",
      "5040            0.238615                   F         F       1  K295600  \n",
      "5041            0.043094                   F         F       0  K366420  \n",
      "5042            0.171451                   F         F       1  K219850  \n",
      "5043            0.219329                   F         F       0  K289480  \n",
      "\n",
      "[5044 rows x 39 columns]>\n"
     ]
    }
   ],
   "source": [
    "print(dataset.head)"
   ]
  },
  {
   "cell_type": "code",
   "execution_count": 12,
   "metadata": {},
   "outputs": [
    {
     "name": "stdout",
     "output_type": "stream",
     "text": [
      "number of ones as target: 745\n",
      "number of zeros as target: 4299\n",
      "\n",
      "Missing values in target? No\n"
     ]
    }
   ],
   "source": [
    "#count number of ones and zeros as target\n",
    "nbr_ones = dataset[\"target\"].value_counts()[1]\n",
    "nbr_zeros = dataset[\"target\"].value_counts()[0]\n",
    "\n",
    "print(f\"number of ones as target: {nbr_ones}\")\n",
    "print(f\"number of zeros as target: {nbr_zeros}\")\n",
    "\n",
    "#Check total number of rows is equal to number of zeros and ones\n",
    "missing_targets = (nbr_ones+nbr_zeros != dataset.shape[0])\n",
    "Missing_question = \"Yes\" if missing_targets else \"No\"\n",
    "\n",
    "print()\n",
    "print(f\"Missing values in target? {Missing_question}\")"
   ]
  },
  {
   "cell_type": "markdown",
   "metadata": {},
   "source": [
    "This unbalance has to be taken into account during the train-validation split and during the training.</br>\n",
    "Can the used model handle this unbalance or will it biased?"
   ]
  },
  {
   "cell_type": "markdown",
   "metadata": {},
   "source": [
    "Analyze all the other features:</br>\n",
    "Check for missing values, outliers, distribution of the data"
   ]
  },
  {
   "cell_type": "code",
   "execution_count": 13,
   "metadata": {},
   "outputs": [
    {
     "name": "stdout",
     "output_type": "stream",
     "text": [
      "<bound method NDFrame.head of 0       F\n",
      "1       M\n",
      "2       F\n",
      "3       F\n",
      "4       F\n",
      "       ..\n",
      "5039    F\n",
      "5040    F\n",
      "5041    M\n",
      "5042    M\n",
      "5043    M\n",
      "Name: Gender, Length: 5044, dtype: object>\n"
     ]
    }
   ],
   "source": [
    "#Gender\n",
    "print(dataset[\"Gender\"].head)"
   ]
  },
  {
   "cell_type": "code",
   "execution_count": 15,
   "metadata": {},
   "outputs": [
    {
     "name": "stdout",
     "output_type": "stream",
     "text": [
      "number of males as target: 2447\n",
      "number of females as target: 2597\n",
      "\n",
      "Missing values in gender? No\n"
     ]
    }
   ],
   "source": [
    "#check for missing values\n",
    "nbr_Male = dataset[\"Gender\"].value_counts()[\"M\"]\n",
    "nbr_Female = dataset[\"Gender\"].value_counts()[\"F\"]\n",
    "\n",
    "print(f\"number of males as target: {nbr_Male}\")\n",
    "print(f\"number of females as target: {nbr_Female}\")\n",
    "\n",
    "missing_gender= (nbr_Male+nbr_Female != dataset.shape[0])\n",
    "Missing_question = \"Yes\" if missing_gender else \"No\"\n",
    "\n",
    "print()\n",
    "print(f\"Missing values in gender? {Missing_question}\")"
   ]
  },
  {
   "cell_type": "markdown",
   "metadata": {},
   "source": [
    "Number of males and females is more or less balanced"
   ]
  }
 ],
 "metadata": {
  "kernelspec": {
   "display_name": ".venv",
   "language": "python",
   "name": "python3"
  },
  "language_info": {
   "codemirror_mode": {
    "name": "ipython",
    "version": 3
   },
   "file_extension": ".py",
   "mimetype": "text/x-python",
   "name": "python",
   "nbconvert_exporter": "python",
   "pygments_lexer": "ipython3",
   "version": "3.10.10"
  }
 },
 "nbformat": 4,
 "nbformat_minor": 2
}
