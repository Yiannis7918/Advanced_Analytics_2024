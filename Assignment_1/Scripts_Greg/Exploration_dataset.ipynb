{
 "cells": [
  {
   "cell_type": "markdown",
   "metadata": {},
   "source": [
    "<h1>Exploration dataset by Grégoire Corluy</h1>"
   ]
  },
  {
   "cell_type": "markdown",
   "metadata": {},
   "source": [
    "Python version: 3.10 </br>\n",
    "Author: Grégoire Corlùy"
   ]
  },
  {
   "cell_type": "markdown",
   "metadata": {},
   "source": [
    "<h4>Load the data</h4>"
   ]
  },
  {
   "cell_type": "code",
   "execution_count": 44,
   "metadata": {},
   "outputs": [],
   "source": [
    "import pandas as pd\n",
    "import matplotlib.pyplot as plt\n",
    "import numpy as np\n",
    "import time\n",
    "import datetime"
   ]
  },
  {
   "cell_type": "code",
   "execution_count": 6,
   "metadata": {},
   "outputs": [
    {
     "name": "stdout",
     "output_type": "stream",
     "text": [
      "Size of the dataset is (5044, 39)\n"
     ]
    }
   ],
   "source": [
    "dataset = pd.read_csv('../datasets/train.csv')\n",
    "print(f\"Size of the dataset is {dataset.shape}\")"
   ]
  },
  {
   "cell_type": "markdown",
   "metadata": {},
   "source": [
    "Explore the data"
   ]
  },
  {
   "cell_type": "code",
   "execution_count": 7,
   "metadata": {},
   "outputs": [
    {
     "name": "stdout",
     "output_type": "stream",
     "text": [
      "Index(['Gender', 'Age', 'Connect_Date', 'L_O_S', 'Dropped_Calls', 'tariff',\n",
      "       'Handset', 'Peak_calls_Sum', 'Peak_mins_Sum', 'OffPeak_calls_Sum',\n",
      "       'OffPeak_mins_Sum', 'Weekend_calls_Sum', 'Weekend_mins_Sum',\n",
      "       'International_mins_Sum', 'Nat_call_cost_Sum', 'AvePeak', 'AveOffPeak',\n",
      "       'AveWeekend', 'National_calls', 'National mins', 'AveNational',\n",
      "       'All_calls_mins', 'Dropped_calls_ratio', 'Usage_Band', 'Mins_charge',\n",
      "       'call_cost_per_min', 'actual call cost', 'Total_call_cost',\n",
      "       'Total_Cost', 'Tariff_OK', 'average cost min', 'Peak ratio',\n",
      "       'OffPeak ratio', 'Weekend ratio', 'Nat-InterNat Ratio',\n",
      "       'high Dropped calls', 'No Usage', 'target', 'id'],\n",
      "      dtype='object')\n"
     ]
    }
   ],
   "source": [
    "#print the labels of the columns\n",
    "print(dataset.columns)"
   ]
  },
  {
   "cell_type": "markdown",
   "metadata": {},
   "source": [
    "Number of positive and negative targets"
   ]
  },
  {
   "cell_type": "code",
   "execution_count": 8,
   "metadata": {},
   "outputs": [
    {
     "name": "stdout",
     "output_type": "stream",
     "text": [
      "<bound method NDFrame.head of      Gender   Age Connect_Date      L_O_S  Dropped_Calls    tariff Handset  \\\n",
      "0         F  50.0     20/05/98  29.200000            2.0  Play 100   BS210   \n",
      "1         M  25.0     16/12/96  46.533333            1.0   CAT 100  ASAD90   \n",
      "2         F  46.0     27/08/97  38.066667            1.0    CAT 50    WC95   \n",
      "3         F  59.0     13/07/98  27.400000            1.0    CAT 50   BS110   \n",
      "4         F  25.0     08/01/99  21.433333            1.0  Play 300    WC95   \n",
      "...     ...   ...          ...        ...            ...       ...     ...   \n",
      "5039      F  16.0     15/09/97  37.433333            2.0   CAT 200  ASAD90   \n",
      "5040      F  29.0     28/09/96  49.166667            1.0   CAT 100   CAS30   \n",
      "5041      M  23.0     08/06/99  16.400000            0.0   CAT 200   BS110   \n",
      "5042      M  46.0     01/03/98  31.866667            2.0  Play 100     S50   \n",
      "5043      M  61.0     12/11/98  23.333333            0.0   CAT 100     S50   \n",
      "\n",
      "      Peak_calls_Sum  Peak_mins_Sum  OffPeak_calls_Sum  ...  Tariff_OK  \\\n",
      "0               62.0     153.000000              185.0  ...         OK   \n",
      "1              146.0     718.800000               98.0  ...         OK   \n",
      "2              160.0     322.800000                7.0  ...         OK   \n",
      "3               84.0     317.400001               57.0  ...         OK   \n",
      "4               14.0     309.600000              326.0  ...         OK   \n",
      "...              ...            ...                ...  ...        ...   \n",
      "5039           151.0    1169.400001              201.0  ...         OK   \n",
      "5040           135.0     405.600000              124.0  ...         OK   \n",
      "5041           566.0    2382.000000                4.0  ...         OK   \n",
      "5042            72.0     112.200000               31.0  ...         OK   \n",
      "5043           148.0     403.200000              187.0  ...         OK   \n",
      "\n",
      "      average cost min  Peak ratio  OffPeak ratio  Weekend ratio  \\\n",
      "0             0.150531    0.246536       0.706735       0.046729   \n",
      "1             0.188988    0.780710       0.178886       0.040404   \n",
      "2             0.239300    0.722633       0.277367       0.000000   \n",
      "3             0.221467    0.662492       0.337508       0.000000   \n",
      "4             0.107509    0.321896       0.663132       0.014972   \n",
      "...                ...         ...            ...            ...   \n",
      "5039          0.130433    0.615895       0.346500       0.037605   \n",
      "5040          0.189112    0.555769       0.412716       0.031515   \n",
      "5041          0.112657    0.810121       0.162330       0.027548   \n",
      "5042          0.205957    0.323250       0.664650       0.012100   \n",
      "5043          0.187393    0.553314       0.398930       0.047756   \n",
      "\n",
      "      Nat-InterNat Ratio  high Dropped calls  No Usage  target       id  \n",
      "0               0.203034                   F         F       0  K262360  \n",
      "1               0.273249                   F         F       1  K170160  \n",
      "2               0.205025                   F         F       0  K331610  \n",
      "3               0.050090                   F         F       0  K332460  \n",
      "4               0.090509                   F         F       0  K394220  \n",
      "...                  ...                 ...       ...     ...      ...  \n",
      "5039            0.127974                   F         F       1  K192650  \n",
      "5040            0.238615                   F         F       1  K295600  \n",
      "5041            0.043094                   F         F       0  K366420  \n",
      "5042            0.171451                   F         F       1  K219850  \n",
      "5043            0.219329                   F         F       0  K289480  \n",
      "\n",
      "[5044 rows x 39 columns]>\n"
     ]
    }
   ],
   "source": [
    "print(dataset.head)"
   ]
  },
  {
   "cell_type": "code",
   "execution_count": 12,
   "metadata": {},
   "outputs": [
    {
     "name": "stdout",
     "output_type": "stream",
     "text": [
      "number of ones as target: 745\n",
      "number of zeros as target: 4299\n",
      "\n",
      "Missing values in target? No\n"
     ]
    }
   ],
   "source": [
    "#count number of ones and zeros as target\n",
    "nbr_ones = dataset[\"target\"].value_counts()[1]\n",
    "nbr_zeros = dataset[\"target\"].value_counts()[0]\n",
    "\n",
    "print(f\"number of ones as target: {nbr_ones}\")\n",
    "print(f\"number of zeros as target: {nbr_zeros}\")\n",
    "\n",
    "#Check total number of rows is equal to number of zeros and ones\n",
    "missing_targets = (nbr_ones+nbr_zeros != dataset.shape[0])\n",
    "Missing_question = \"Yes\" if missing_targets else \"No\"\n",
    "\n",
    "print()\n",
    "print(f\"Missing values in target? {Missing_question}\")"
   ]
  },
  {
   "cell_type": "markdown",
   "metadata": {},
   "source": [
    "This unbalance has to be taken into account during the train-validation split and during the training.</br>\n",
    "Can the used model handle this unbalance or will it biased?"
   ]
  },
  {
   "cell_type": "markdown",
   "metadata": {},
   "source": [
    "Analyze all the other features:</br>\n",
    "Check for missing values, outliers, distribution of the data"
   ]
  },
  {
   "cell_type": "code",
   "execution_count": 13,
   "metadata": {},
   "outputs": [
    {
     "name": "stdout",
     "output_type": "stream",
     "text": [
      "<bound method NDFrame.head of 0       F\n",
      "1       M\n",
      "2       F\n",
      "3       F\n",
      "4       F\n",
      "       ..\n",
      "5039    F\n",
      "5040    F\n",
      "5041    M\n",
      "5042    M\n",
      "5043    M\n",
      "Name: Gender, Length: 5044, dtype: object>\n"
     ]
    }
   ],
   "source": [
    "#Gender\n",
    "print(dataset[\"Gender\"].head)"
   ]
  },
  {
   "cell_type": "code",
   "execution_count": 15,
   "metadata": {},
   "outputs": [
    {
     "name": "stdout",
     "output_type": "stream",
     "text": [
      "number of males as target: 2447\n",
      "number of females as target: 2597\n",
      "\n",
      "Missing values in gender? No\n"
     ]
    }
   ],
   "source": [
    "#check for missing values\n",
    "nbr_Male = dataset[\"Gender\"].value_counts()[\"M\"]\n",
    "nbr_Female = dataset[\"Gender\"].value_counts()[\"F\"]\n",
    "\n",
    "print(f\"number of males as target: {nbr_Male}\")\n",
    "print(f\"number of females as target: {nbr_Female}\")\n",
    "\n",
    "missing_gender= (nbr_Male+nbr_Female != dataset.shape[0])\n",
    "Missing_question = \"Yes\" if missing_gender else \"No\"\n",
    "\n",
    "print()\n",
    "print(f\"Missing values in gender? {Missing_question}\")"
   ]
  },
  {
   "cell_type": "markdown",
   "metadata": {},
   "source": [
    "Number of males and females is more or less balanced"
   ]
  },
  {
   "cell_type": "markdown",
   "metadata": {},
   "source": [
    "<h4>Age feature</h4>"
   ]
  },
  {
   "cell_type": "code",
   "execution_count": 16,
   "metadata": {},
   "outputs": [
    {
     "name": "stdout",
     "output_type": "stream",
     "text": [
      "<bound method NDFrame.head of 0       50.0\n",
      "1       25.0\n",
      "2       46.0\n",
      "3       59.0\n",
      "4       25.0\n",
      "        ... \n",
      "5039    16.0\n",
      "5040    29.0\n",
      "5041    23.0\n",
      "5042    46.0\n",
      "5043    61.0\n",
      "Name: Age, Length: 5044, dtype: float64>\n"
     ]
    }
   ],
   "source": [
    "print(dataset[\"Age\"].head)"
   ]
  },
  {
   "cell_type": "code",
   "execution_count": 38,
   "metadata": {},
   "outputs": [
    {
     "data": {
      "image/png": "[encoded data removed]",
      "text/plain": [
       "<Figure size 640x480 with 2 Axes>"
      ]
     },
     "metadata": {},
     "output_type": "display_data"
    }
   ],
   "source": [
    "fig, ax = plt.subplots(1,2)\n",
    "ax[0].boxplot(dataset[\"Age\"])\n",
    "ax[0].set_title(\"Age distribution (boxplot)\")\n",
    "ax[0].set_ylabel(\"Age\")\n",
    "ax[1].hist(dataset[\"Age\"])\n",
    "ax[1].set_title(\"Age distribution (histogram)\")\n",
    "ax[1].set_xlabel(\"Age\")\n",
    "#ax[1].set_ylabel(\"Counts\")\n",
    "plt.show()"
   ]
  },
  {
   "cell_type": "code",
   "execution_count": 27,
   "metadata": {},
   "outputs": [
    {
     "name": "stdout",
     "output_type": "stream",
     "text": [
      "Min age 12.0 and max age 80.0\n"
     ]
    }
   ],
   "source": [
    "min_age = np.min(dataset[\"Age\"])\n",
    "max_age = np.max(dataset[\"Age\"])\n",
    "print(f\"Min age {min_age} and max age {max_age}\")\n"
   ]
  },
  {
   "cell_type": "code",
   "execution_count": 39,
   "metadata": {},
   "outputs": [
    {
     "name": "stdout",
     "output_type": "stream",
     "text": [
      "Number of NA values in Age: 0\n"
     ]
    }
   ],
   "source": [
    "age_NA_count = dataset[\"Age\"].isna().sum()\n",
    "\n",
    "print(f\"Number of NA values in Age: {age_NA_count}\")"
   ]
  },
  {
   "cell_type": "markdown",
   "metadata": {},
   "source": [
    "There seems to be no missing values in the age feature and no outliers present."
   ]
  },
  {
   "cell_type": "markdown",
   "metadata": {},
   "source": [
    "<h4>Connect_Date feature</h4>"
   ]
  },
  {
   "cell_type": "markdown",
   "metadata": {},
   "source": [
    "Meanng: Last time the user was connected?"
   ]
  },
  {
   "cell_type": "code",
   "execution_count": 40,
   "metadata": {},
   "outputs": [
    {
     "name": "stdout",
     "output_type": "stream",
     "text": [
      "<bound method NDFrame.head of 0       20/05/98\n",
      "1       16/12/96\n",
      "2       27/08/97\n",
      "3       13/07/98\n",
      "4       08/01/99\n",
      "          ...   \n",
      "5039    15/09/97\n",
      "5040    28/09/96\n",
      "5041    08/06/99\n",
      "5042    01/03/98\n",
      "5043    12/11/98\n",
      "Name: Connect_Date, Length: 5044, dtype: object>\n"
     ]
    }
   ],
   "source": [
    "#Connect_Date\n",
    "print(dataset[\"Connect_Date\"].head)"
   ]
  },
  {
   "cell_type": "code",
   "execution_count": 43,
   "metadata": {},
   "outputs": [
    {
     "name": "stdout",
     "output_type": "stream",
     "text": [
      "number of missing connect date: 0\n"
     ]
    }
   ],
   "source": [
    "age_Connect_Date_count = dataset[\"Connect_Date\"].isna().sum()\n",
    "print(f\"number of missing connect date: {age_Connect_Date_count}\")"
   ]
  },
  {
   "cell_type": "code",
   "execution_count": 56,
   "metadata": {},
   "outputs": [
    {
     "name": "stdout",
     "output_type": "stream",
     "text": [
      "<bound method NDFrame.head of 0       10365.916667\n",
      "1        9845.958333\n",
      "2       10099.916667\n",
      "3       10419.916667\n",
      "4       10598.958333\n",
      "            ...     \n",
      "5039    10118.916667\n",
      "5040     9766.916667\n",
      "5041    10749.916667\n",
      "5042    10285.958333\n",
      "5043    10541.958333\n",
      "Name: Connect_Date_tmstp, Length: 5044, dtype: float64>\n",
      "<bound method NDFrame.head of 0        869.958333\n",
      "1        350.000000\n",
      "2        603.958333\n",
      "3        923.958333\n",
      "4       1103.000000\n",
      "           ...     \n",
      "5039     622.958333\n",
      "5040     270.958333\n",
      "5041    1253.958333\n",
      "5042     790.000000\n",
      "5043    1046.000000\n",
      "Name: Connect_Date_tmstp_shift, Length: 5044, dtype: float64>\n"
     ]
    }
   ],
   "source": [
    "#transform all dates to a number\n",
    "def convert_to_timestamp(date_str):\n",
    "    return time.mktime(datetime.datetime.strptime(date_str, \"%d/%m/%y\").timetuple())/3600/24 #expressed in second I think, so I convert it to days\n",
    "\n",
    "dataset['Connect_Date_tmstp'] = dataset['Connect_Date'].apply(convert_to_timestamp)\n",
    "print(dataset[\"Connect_Date_tmstp\"].head)\n",
    "#expressed in days\n",
    "\n",
    "#shift by removing the minimal value to every observation, try to have smaller numbers\n",
    "dataset['Connect_Date_tmstp_shift'] = dataset['Connect_Date_tmstp'] - np.min(dataset['Connect_Date_tmstp'])\n",
    "print(dataset[\"Connect_Date_tmstp_shift\"].head)\n",
    "#expressed in days relative to the first date in the dataset"
   ]
  },
  {
   "cell_type": "code",
   "execution_count": 55,
   "metadata": {},
   "outputs": [
    {
     "name": "stdout",
     "output_type": "stream",
     "text": [
      "min and max connect date: (0.0, 1460.0)\n",
      "data spread over 4.0 years\n"
     ]
    }
   ],
   "source": [
    "min_Connect_Date = np.min(dataset[\"Connect_Date_tmstp_shift\"])\n",
    "max_Connect_Date = np.max(dataset[\"Connect_Date_tmstp_shift\"])\n",
    "\n",
    "print(f\"min and max connect date: {min_Connect_Date, max_Connect_Date}\")\n",
    "print(f\"data spread over {1460/365} years\")"
   ]
  },
  {
   "cell_type": "code",
   "execution_count": 57,
   "metadata": {},
   "outputs": [
    {
     "data": {
      "image/png": "[encoded data removed]",
      "text/plain": [
       "<Figure size 640x480 with 1 Axes>"
      ]
     },
     "metadata": {},
     "output_type": "display_data"
    }
   ],
   "source": [
    "plt.hist(dataset[\"Connect_Date_tmstp_shift\"])\n",
    "plt.title(\"Distribution of Connect Date expressed in days relative to first date\")\n",
    "plt.show()"
   ]
  },
  {
   "cell_type": "markdown",
   "metadata": {},
   "source": [
    "Data very well uniformly distributed"
   ]
  },
  {
   "cell_type": "markdown",
   "metadata": {},
   "source": [
    "<h4>L_O_S feature</h4>"
   ]
  },
  {
   "cell_type": "markdown",
   "metadata": {},
   "source": [
    "Meaning? Distance between the user and the receiver? Distance between the user and the antenna?</br>\n",
    "LOS = Line of sight? </br>\n",
    "https://www.techtarget.com/whatis/definition/line-of-sight-LOS"
   ]
  },
  {
   "cell_type": "code",
   "execution_count": 58,
   "metadata": {},
   "outputs": [
    {
     "name": "stdout",
     "output_type": "stream",
     "text": [
      "<bound method NDFrame.head of 0       29.200000\n",
      "1       46.533333\n",
      "2       38.066667\n",
      "3       27.400000\n",
      "4       21.433333\n",
      "          ...    \n",
      "5039    37.433333\n",
      "5040    49.166667\n",
      "5041    16.400000\n",
      "5042    31.866667\n",
      "5043    23.333333\n",
      "Name: L_O_S, Length: 5044, dtype: float64>\n"
     ]
    }
   ],
   "source": [
    "print(dataset[\"L_O_S\"].head)"
   ]
  },
  {
   "cell_type": "code",
   "execution_count": 61,
   "metadata": {},
   "outputs": [
    {
     "data": {
      "image/png": "[encoded data removed]",
      "text/plain": [
       "<Figure size 640x480 with 1 Axes>"
      ]
     },
     "metadata": {},
     "output_type": "display_data"
    },
    {
     "name": "stdout",
     "output_type": "stream",
     "text": [
      "min and max value of L_O_S: (9.533333, 58.2)\n"
     ]
    }
   ],
   "source": [
    "plt.hist(dataset[\"L_O_S\"])\n",
    "plt.title(\"distribution of L_O_S\")\n",
    "plt.show()\n",
    "\n",
    "min_LOS = np.min(dataset[\"L_O_S\"])\n",
    "max_LOS = np.max(dataset[\"L_O_S\"])\n",
    "\n",
    "print(f\"min and max value of L_O_S: {min_LOS, max_LOS}\")"
   ]
  },
  {
   "cell_type": "code",
   "execution_count": 60,
   "metadata": {},
   "outputs": [
    {
     "name": "stdout",
     "output_type": "stream",
     "text": [
      "number of missin LOS: 0\n"
     ]
    }
   ],
   "source": [
    "LOS_NA_count = dataset[\"L_O_S\"].isna().sum()\n",
    "print(f\"number of missing LOS: {LOS_NA_count}\")"
   ]
  },
  {
   "cell_type": "markdown",
   "metadata": {},
   "source": [
    "Seems to be distributed uniformly"
   ]
  },
  {
   "cell_type": "markdown",
   "metadata": {},
   "source": [
    "<h4>Dropped calls feature</h4>"
   ]
  },
  {
   "cell_type": "code",
   "execution_count": 62,
   "metadata": {},
   "outputs": [
    {
     "name": "stdout",
     "output_type": "stream",
     "text": [
      "<bound method NDFrame.head of 0       2.0\n",
      "1       1.0\n",
      "2       1.0\n",
      "3       1.0\n",
      "4       1.0\n",
      "       ... \n",
      "5039    2.0\n",
      "5040    1.0\n",
      "5041    0.0\n",
      "5042    2.0\n",
      "5043    0.0\n",
      "Name: Dropped_Calls, Length: 5044, dtype: float64>\n"
     ]
    }
   ],
   "source": [
    "print(dataset[\"Dropped_Calls\"].head)"
   ]
  },
  {
   "cell_type": "code",
   "execution_count": 64,
   "metadata": {},
   "outputs": [
    {
     "data": {
      "image/png": "[encoded data removed]",
      "text/plain": [
       "<Figure size 640x480 with 1 Axes>"
      ]
     },
     "metadata": {},
     "output_type": "display_data"
    },
    {
     "name": "stdout",
     "output_type": "stream",
     "text": [
      "min and max value of dropped calls: (0.0, 15.0)\n"
     ]
    }
   ],
   "source": [
    "plt.hist(dataset[\"Dropped_Calls\"])\n",
    "plt.title(\"distribution dropped calls\")\n",
    "plt.show()\n",
    "\n",
    "min_dropped_calls = np.min(dataset[\"Dropped_Calls\"])\n",
    "max_dropped_calls = np.max(dataset[\"Dropped_Calls\"])\n",
    "print(f\"min and max value of dropped calls: {min_dropped_calls, max_dropped_calls}\")"
   ]
  },
  {
   "cell_type": "code",
   "execution_count": 65,
   "metadata": {},
   "outputs": [
    {
     "name": "stdout",
     "output_type": "stream",
     "text": [
      "Number of dropped calls: 0\n"
     ]
    }
   ],
   "source": [
    "count_NA_dropped_calls = dataset[\"Dropped_Calls\"].isna().sum()\n",
    "print(f\"Number of dropped calls: {count_NA_dropped_calls}\")"
   ]
  },
  {
   "cell_type": "markdown",
   "metadata": {},
   "source": [
    "Follows kind of a Poisson distribution as expected"
   ]
  },
  {
   "cell_type": "markdown",
   "metadata": {},
   "source": [
    "<h4>Tariff feature </h4>"
   ]
  },
  {
   "cell_type": "markdown",
   "metadata": {},
   "source": [
    "Name/label of the type of subscription (abonnement) to the phone/telecom company"
   ]
  },
  {
   "cell_type": "code",
   "execution_count": 66,
   "metadata": {},
   "outputs": [
    {
     "name": "stdout",
     "output_type": "stream",
     "text": [
      "<bound method NDFrame.head of 0       Play 100\n",
      "1        CAT 100\n",
      "2         CAT 50\n",
      "3         CAT 50\n",
      "4       Play 300\n",
      "          ...   \n",
      "5039     CAT 200\n",
      "5040     CAT 100\n",
      "5041     CAT 200\n",
      "5042    Play 100\n",
      "5043     CAT 100\n",
      "Name: tariff, Length: 5044, dtype: object>\n"
     ]
    }
   ],
   "source": [
    "print(dataset[\"tariff\"].head)"
   ]
  },
  {
   "cell_type": "code",
   "execution_count": 71,
   "metadata": {},
   "outputs": [
    {
     "name": "stdout",
     "output_type": "stream",
     "text": [
      "different types of subscriptions: ['Play 100', 'CAT 100', 'CAT 50', 'Play 300', 'CAT 200']\n"
     ]
    }
   ],
   "source": [
    "unique_values_tariff = dataset[\"tariff\"].unique().tolist()\n",
    "print(f\"different types of subscriptions: {unique_values_tariff}\")"
   ]
  },
  {
   "cell_type": "code",
   "execution_count": 75,
   "metadata": {},
   "outputs": [
    {
     "name": "stdout",
     "output_type": "stream",
     "text": [
      "Count of subscriptions for every type of subscription:\n",
      "\n",
      "tariff\n",
      "CAT 200     2246\n",
      "CAT 100     1047\n",
      "Play 100     788\n",
      "Play 300     648\n",
      "CAT 50       315\n",
      "Name: count, dtype: int64\n"
     ]
    }
   ],
   "source": [
    "value_counts_tariff = dataset[\"tariff\"].value_counts()\n",
    "print(\"Count of subscriptions for every type of subscription:\")\n",
    "print()\n",
    "print(value_counts_tariff)"
   ]
  },
  {
   "cell_type": "code",
   "execution_count": 76,
   "metadata": {},
   "outputs": [
    {
     "name": "stdout",
     "output_type": "stream",
     "text": [
      "count missing values of tariff: 0\n"
     ]
    }
   ],
   "source": [
    "count_NA_tariff = dataset[\"tariff\"].isna().sum()\n",
    "print(f\"count missing values of tariff: {count_NA_tariff}\")"
   ]
  },
  {
   "cell_type": "markdown",
   "metadata": {},
   "source": [
    "<h4> Handset feature </h4>"
   ]
  },
  {
   "cell_type": "markdown",
   "metadata": {},
   "source": [
    "Brand of the phone?"
   ]
  },
  {
   "cell_type": "code",
   "execution_count": 77,
   "metadata": {},
   "outputs": [
    {
     "name": "stdout",
     "output_type": "stream",
     "text": [
      "<bound method NDFrame.head of 0        BS210\n",
      "1       ASAD90\n",
      "2         WC95\n",
      "3        BS110\n",
      "4         WC95\n",
      "         ...  \n",
      "5039    ASAD90\n",
      "5040     CAS30\n",
      "5041     BS110\n",
      "5042       S50\n",
      "5043       S50\n",
      "Name: Handset, Length: 5044, dtype: object>\n"
     ]
    }
   ],
   "source": [
    "print(dataset[\"Handset\"].head)"
   ]
  },
  {
   "cell_type": "code",
   "execution_count": 79,
   "metadata": {},
   "outputs": [
    {
     "name": "stdout",
     "output_type": "stream",
     "text": [
      "different types of handsets: ['BS210', 'ASAD90', 'WC95', 'BS110', 'S50', 'S80', 'CAS30', 'CAS60', 'ASAD170', 'SOP10', 'SOP20']\n"
     ]
    }
   ],
   "source": [
    "unique_values_handset = dataset[\"Handset\"].unique().tolist()\n",
    "print(f\"different types of handsets: {unique_values_handset}\")"
   ]
  },
  {
   "cell_type": "code",
   "execution_count": 80,
   "metadata": {},
   "outputs": [
    {
     "name": "stdout",
     "output_type": "stream",
     "text": [
      "Count of handsets per type:\n",
      "\n",
      "Handset\n",
      "S50        1175\n",
      "BS110       854\n",
      "S80         741\n",
      "WC95        686\n",
      "ASAD170     665\n",
      "BS210       283\n",
      "ASAD90      270\n",
      "CAS30       180\n",
      "CAS60       106\n",
      "SOP20        48\n",
      "SOP10        36\n",
      "Name: count, dtype: int64\n"
     ]
    }
   ],
   "source": [
    "value_counts_handset = dataset[\"Handset\"].value_counts()\n",
    "print(\"Count of handsets per type:\")\n",
    "print()\n",
    "print(value_counts_handset)"
   ]
  },
  {
   "cell_type": "code",
   "execution_count": 81,
   "metadata": {},
   "outputs": [
    {
     "name": "stdout",
     "output_type": "stream",
     "text": [
      "count missing values of handset: 0\n"
     ]
    }
   ],
   "source": [
    "count_NA_handset = dataset[\"Handset\"].isna().sum()\n",
    "print(f\"count missing values of handset: {count_NA_handset}\")"
   ]
  },
  {
   "cell_type": "markdown",
   "metadata": {},
   "source": [
    "<h4> Peak calls sum feature </h4>"
   ]
  },
  {
   "cell_type": "markdown",
   "metadata": {},
   "source": [
    "Don't really understand the meaning of the feature: peak versus calls sum? I understand both terms, but not combined</br>\n",
    "Peak =?= during \"peak\" moments (when a lot of people are calling?), because there is also offpeak features."
   ]
  },
  {
   "cell_type": "code",
   "execution_count": 84,
   "metadata": {},
   "outputs": [
    {
     "name": "stdout",
     "output_type": "stream",
     "text": [
      "<bound method NDFrame.head of 0        62.0\n",
      "1       146.0\n",
      "2       160.0\n",
      "3        84.0\n",
      "4        14.0\n",
      "        ...  \n",
      "5039    151.0\n",
      "5040    135.0\n",
      "5041    566.0\n",
      "5042     72.0\n",
      "5043    148.0\n",
      "Name: Peak_calls_Sum, Length: 5044, dtype: float64>\n"
     ]
    }
   ],
   "source": [
    "print(dataset[\"Peak_calls_Sum\"].head)"
   ]
  },
  {
   "cell_type": "code",
   "execution_count": 86,
   "metadata": {},
   "outputs": [
    {
     "data": {
      "image/png": "[encoded data removed]",
      "text/plain": [
       "<Figure size 640x480 with 1 Axes>"
      ]
     },
     "metadata": {},
     "output_type": "display_data"
    },
    {
     "name": "stdout",
     "output_type": "stream",
     "text": [
      "min and max of peak calls sum: (0.0, 1626.0)\n"
     ]
    }
   ],
   "source": [
    "plt.hist(dataset[\"Peak_calls_Sum\"])\n",
    "plt.title(\"distribution peak calls sum\")\n",
    "plt.show()\n",
    "\n",
    "min_peak_calls_sum = np.min(dataset[\"Peak_calls_Sum\"])\n",
    "max_peak_calls_sum = np.max(dataset[\"Peak_calls_Sum\"])\n",
    "print(f\"min and max of peak calls sum: {min_peak_calls_sum, max_peak_calls_sum}\")"
   ]
  },
  {
   "cell_type": "code",
   "execution_count": 88,
   "metadata": {},
   "outputs": [
    {
     "name": "stdout",
     "output_type": "stream",
     "text": [
      "count missing values for peak calls sum: 0\n"
     ]
    }
   ],
   "source": [
    "count_NA_peak_calls_sum = dataset[\"Peak_calls_Sum\"].isna().sum()\n",
    "print(f\"count missing values for peak calls sum: {count_NA_peak_calls_sum}\")"
   ]
  },
  {
   "cell_type": "markdown",
   "metadata": {},
   "source": [
    "Also kind of following a Poisson distribution"
   ]
  },
  {
   "cell_type": "markdown",
   "metadata": {},
   "source": [
    "<h4> Peak mins sum</h4>"
   ]
  },
  {
   "cell_type": "markdown",
   "metadata": {},
   "source": [
    "Meaning?</br>\n",
    "Mins = minutes</br>\n",
    "But I don't understand the complete feature"
   ]
  },
  {
   "cell_type": "code",
   "execution_count": 87,
   "metadata": {},
   "outputs": [
    {
     "name": "stdout",
     "output_type": "stream",
     "text": [
      "<bound method NDFrame.head of 0        153.000000\n",
      "1        718.800000\n",
      "2        322.800000\n",
      "3        317.400001\n",
      "4        309.600000\n",
      "           ...     \n",
      "5039    1169.400001\n",
      "5040     405.600000\n",
      "5041    2382.000000\n",
      "5042     112.200000\n",
      "5043     403.200000\n",
      "Name: Peak_mins_Sum, Length: 5044, dtype: float64>\n"
     ]
    }
   ],
   "source": [
    "print(dataset[\"Peak_mins_Sum\"].head)"
   ]
  },
  {
   "cell_type": "code",
   "execution_count": 89,
   "metadata": {},
   "outputs": [
    {
     "data": {
      "image/png": "[encoded data removed]",
      "text/plain": [
       "<Figure size 640x480 with 1 Axes>"
      ]
     },
     "metadata": {},
     "output_type": "display_data"
    },
    {
     "name": "stdout",
     "output_type": "stream",
     "text": [
      "min and max of peaks min sum: (0.0, 2901.600001)\n"
     ]
    }
   ],
   "source": [
    "plt.hist(dataset[\"Peak_mins_Sum\"])\n",
    "plt.title(\"distribution peak mins sum\")\n",
    "plt.show()\n",
    "\n",
    "min_peaks_mins_sum = np.min(dataset[\"Peak_mins_Sum\"])\n",
    "max_peaks_mins_sum = np.max(dataset[\"Peak_mins_Sum\"])\n",
    "\n",
    "print(f\"min and max of peaks min sum: {min_peaks_mins_sum, max_peaks_mins_sum}\")"
   ]
  },
  {
   "cell_type": "code",
   "execution_count": 90,
   "metadata": {},
   "outputs": [
    {
     "name": "stdout",
     "output_type": "stream",
     "text": [
      "count missing values for peak mins sum: 0\n"
     ]
    }
   ],
   "source": [
    "count_NA_peak_mins_sum = dataset[\"Peak_mins_Sum\"].isna().sum()\n",
    "print(f\"count missing values for peak mins sum: {count_NA_peak_mins_sum}\")"
   ]
  },
  {
   "cell_type": "markdown",
   "metadata": {},
   "source": [
    "Again more or less Poisson distributed"
   ]
  },
  {
   "cell_type": "markdown",
   "metadata": {},
   "source": [
    "<h4>Off peak calls sum </h4>"
   ]
  }
 ],
 "metadata": {
  "kernelspec": {
   "display_name": ".venv",
   "language": "python",
   "name": "python3"
  },
  "language_info": {
   "codemirror_mode": {
    "name": "ipython",
    "version": 3
   },
   "file_extension": ".py",
   "mimetype": "text/x-python",
   "name": "python",
   "nbconvert_exporter": "python",
   "pygments_lexer": "ipython3",
   "version": "3.10.10"
  }
 },
 "nbformat": 4,
 "nbformat_minor": 2
}
