{
 "cells": [
  {
   "cell_type": "markdown",
   "metadata": {},
   "source": [
    "## Preprocessing (pipeline)"
   ]
  },
  {
   "cell_type": "code",
   "execution_count": 34,
   "metadata": {},
   "outputs": [],
   "source": [
    "import pandas as pd\n",
    "import numpy as np\n",
    "from sklearn import set_config\n",
    "set_config(transform_output = \"pandas\")\n",
    "\n",
    "from sklearn.pipeline import Pipeline\n",
    "from sklearn.compose import ColumnTransformer\n",
    "from sklearn.ensemble import RandomForestClassifier\n",
    "from sklearn.model_selection import train_test_split, StratifiedKFold\n",
    "from sklearn.preprocessing import OneHotEncoder, OrdinalEncoder\n",
    "from sklearn.impute import SimpleImputer\n",
    "from category_encoders import WOEEncoder \n",
    "from sklearn.model_selection import GridSearchCV\n",
    "from skopt import BayesSearchCV\n",
    "\n",
    "from sklearn.metrics import roc_auc_score, make_scorer\n",
    "\n",
    "from sklearn.compose import ColumnTransformer, TransformedTargetRegressor\n",
    "from sklearn.pipeline import Pipeline, FeatureUnion, make_pipeline, make_union\n",
    "from sklearn.preprocessing import FunctionTransformer, OneHotEncoder, StandardScaler\n",
    "from sklearn.impute import SimpleImputer\n",
    "from sklearn.base import BaseEstimator, TransformerMixin\n",
    "from sklearn.ensemble import RandomForestClassifier\n",
    "import xgboost as xgb\n",
    "import lightgbm as lgb"
   ]
  },
  {
   "cell_type": "markdown",
   "metadata": {},
   "source": [
    "BayesSearchCV uses Bayesian optimization techniques to search for the best hyperparameters.\n",
    "It employs a probabilistic model to approximate the objective function (model performance) and decides the next set of hyperparameters to evaluate based on this approximation.\n",
    "Unlike GridSearchCV, it does not search through all possible combinations of hyperparameters. Instead, it iteratively selects the most promising set of hyperparameters based on the model's performance observed so far.\n",
    "Bayesian optimization tends to be more efficient in finding good hyperparameters compared to grid search, especially for high-dimensional or continuous hyperparameter spaces.\n",
    "\n",
    "In summary, while GridSearchCV performs an exhaustive search over a predefined grid of hyperparameters, BayesSearchCV uses Bayesian optimization to efficiently explore the hyperparameter space and find promising configurations. BayesSearchCV is often preferred when dealing with complex or high-dimensional hyperparameter spaces where an exhaustive search becomes impractical."
   ]
  },
  {
   "cell_type": "markdown",
   "metadata": {},
   "source": [
    "#### Load the data"
   ]
  },
  {
   "cell_type": "code",
   "execution_count": 35,
   "metadata": {},
   "outputs": [],
   "source": [
    "data_train = pd.read_csv('../datasets/train.csv')\n",
    "data_test = pd.read_csv('../datasets/test.csv')\n",
    "pd.set_option('display.max_columns', None)"
   ]
  },
  {
   "cell_type": "markdown",
   "metadata": {},
   "source": [
    "### **missing for now: outlier detection**\n",
    "### **also look into this encoder for categorical variables: from category_encoders.cat_boost import CatBoostEncoder**"
   ]
  },
  {
   "cell_type": "markdown",
   "metadata": {},
   "source": [
    "Random Forests, being an ensemble of decision trees, are generally not sensitive to the scale of numeric features. The reason is that decision trees make splits based on feature values but do not rely on the absolute scale of those values. Therefore, in many cases, scaling is not a strict requirement when using Random Forests. --> no standardization for now so we keep interpretability"
   ]
  },
  {
   "cell_type": "markdown",
   "metadata": {},
   "source": [
    "### Modeling\n",
    "- we get (1) a labeled dataset (train.csv) and (2) an unlabeled dataset (test.csv)\n",
    "- split train.csv into a train and test set\n",
    "- that train set, u should split into train and validation sets (stratified CV split because imbalance)\n",
    "- that test set has labels, so u can compare the predictions on X_test, y_test with the labels to evaluate performance of the different models **NOTE: to fit a model on the test set that is coming from train.csv, u need to pass the tuned values of the hyperparameters (tuned on the validation set)**\n",
    "- choose the best performing model \n",
    "- then make predictions on test.csv (unlabeled) and export to a csv file which you upload to the website"
   ]
  },
  {
   "cell_type": "markdown",
   "metadata": {},
   "source": [
    " note: after finding the optimal parameters, put the values in the pipeline (paramters of RandomForestRegressor)"
   ]
  },
  {
   "cell_type": "markdown",
   "metadata": {},
   "source": [
    "### Other ideas \n",
    "- change objective function? to account for top 20 evaluation metric?\n",
    "- use proftree? proflogit?"
   ]
  },
  {
   "cell_type": "markdown",
   "metadata": {},
   "source": [
    "#### Missing values"
   ]
  },
  {
   "cell_type": "code",
   "execution_count": 36,
   "metadata": {},
   "outputs": [
    {
     "data": {
      "text/html": [
       "<div>\n",
       "<style scoped>\n",
       "    .dataframe tbody tr th:only-of-type {\n",
       "        vertical-align: middle;\n",
       "    }\n",
       "\n",
       "    .dataframe tbody tr th {\n",
       "        vertical-align: top;\n",
       "    }\n",
       "\n",
       "    .dataframe thead th {\n",
       "        text-align: right;\n",
       "    }\n",
       "</style>\n",
       "<table border=\"1\" class=\"dataframe\">\n",
       "  <thead>\n",
       "    <tr style=\"text-align: right;\">\n",
       "      <th></th>\n",
       "      <th>Column Name</th>\n",
       "      <th>Missing Count</th>\n",
       "    </tr>\n",
       "  </thead>\n",
       "  <tbody>\n",
       "    <tr>\n",
       "      <th>22</th>\n",
       "      <td>Dropped_calls_ratio</td>\n",
       "      <td>4</td>\n",
       "    </tr>\n",
       "    <tr>\n",
       "      <th>23</th>\n",
       "      <td>Usage_Band</td>\n",
       "      <td>4</td>\n",
       "    </tr>\n",
       "    <tr>\n",
       "      <th>25</th>\n",
       "      <td>call_cost_per_min</td>\n",
       "      <td>4</td>\n",
       "    </tr>\n",
       "  </tbody>\n",
       "</table>\n",
       "</div>"
      ],
      "text/plain": [
       "            Column Name  Missing Count\n",
       "22  Dropped_calls_ratio              4\n",
       "23           Usage_Band              4\n",
       "25    call_cost_per_min              4"
      ]
     },
     "execution_count": 36,
     "metadata": {},
     "output_type": "execute_result"
    }
   ],
   "source": [
    "# For training data\n",
    "missing_count = data_train.isnull().sum() \n",
    "missing_data = pd.DataFrame({'Column Name': missing_count.index, 'Missing Count': missing_count.values})\n",
    "missing_data = missing_data.sort_values(by='Missing Count', ascending=False)\n",
    "missing_data = missing_data[missing_data['Missing Count'] > 0]\n",
    "missing_data"
   ]
  },
  {
   "cell_type": "code",
   "execution_count": 37,
   "metadata": {},
   "outputs": [
    {
     "name": "stdout",
     "output_type": "stream",
     "text": [
      "Rows with Missing Values in training data:\n"
     ]
    },
    {
     "data": {
      "text/html": [
       "<div>\n",
       "<style scoped>\n",
       "    .dataframe tbody tr th:only-of-type {\n",
       "        vertical-align: middle;\n",
       "    }\n",
       "\n",
       "    .dataframe tbody tr th {\n",
       "        vertical-align: top;\n",
       "    }\n",
       "\n",
       "    .dataframe thead th {\n",
       "        text-align: right;\n",
       "    }\n",
       "</style>\n",
       "<table border=\"1\" class=\"dataframe\">\n",
       "  <thead>\n",
       "    <tr style=\"text-align: right;\">\n",
       "      <th></th>\n",
       "      <th>Gender</th>\n",
       "      <th>Age</th>\n",
       "      <th>Connect_Date</th>\n",
       "      <th>L_O_S</th>\n",
       "      <th>Dropped_Calls</th>\n",
       "      <th>tariff</th>\n",
       "      <th>Handset</th>\n",
       "      <th>Peak_calls_Sum</th>\n",
       "      <th>Peak_mins_Sum</th>\n",
       "      <th>OffPeak_calls_Sum</th>\n",
       "      <th>OffPeak_mins_Sum</th>\n",
       "      <th>Weekend_calls_Sum</th>\n",
       "      <th>Weekend_mins_Sum</th>\n",
       "      <th>International_mins_Sum</th>\n",
       "      <th>Nat_call_cost_Sum</th>\n",
       "      <th>AvePeak</th>\n",
       "      <th>AveOffPeak</th>\n",
       "      <th>AveWeekend</th>\n",
       "      <th>National_calls</th>\n",
       "      <th>National mins</th>\n",
       "      <th>AveNational</th>\n",
       "      <th>All_calls_mins</th>\n",
       "      <th>Dropped_calls_ratio</th>\n",
       "      <th>Usage_Band</th>\n",
       "      <th>Mins_charge</th>\n",
       "      <th>call_cost_per_min</th>\n",
       "      <th>actual call cost</th>\n",
       "      <th>Total_call_cost</th>\n",
       "      <th>Total_Cost</th>\n",
       "      <th>Tariff_OK</th>\n",
       "      <th>average cost min</th>\n",
       "      <th>Peak ratio</th>\n",
       "      <th>OffPeak ratio</th>\n",
       "      <th>Weekend ratio</th>\n",
       "      <th>Nat-InterNat Ratio</th>\n",
       "      <th>high Dropped calls</th>\n",
       "      <th>No Usage</th>\n",
       "      <th>target</th>\n",
       "      <th>id</th>\n",
       "    </tr>\n",
       "  </thead>\n",
       "  <tbody>\n",
       "    <tr>\n",
       "      <th>1736</th>\n",
       "      <td>F</td>\n",
       "      <td>48.0</td>\n",
       "      <td>26/07/98</td>\n",
       "      <td>26.966667</td>\n",
       "      <td>2.0</td>\n",
       "      <td>Play 100</td>\n",
       "      <td>BS110</td>\n",
       "      <td>0.0</td>\n",
       "      <td>0.0</td>\n",
       "      <td>0.0</td>\n",
       "      <td>0.0</td>\n",
       "      <td>0.0</td>\n",
       "      <td>0.0</td>\n",
       "      <td>0.0</td>\n",
       "      <td>0.0</td>\n",
       "      <td>0.0</td>\n",
       "      <td>0.0</td>\n",
       "      <td>0.0</td>\n",
       "      <td>0.0</td>\n",
       "      <td>0.0</td>\n",
       "      <td>0.0</td>\n",
       "      <td>0.0</td>\n",
       "      <td>NaN</td>\n",
       "      <td>NaN</td>\n",
       "      <td>-600.0</td>\n",
       "      <td>NaN</td>\n",
       "      <td>0.0</td>\n",
       "      <td>0.0</td>\n",
       "      <td>59.94</td>\n",
       "      <td>OK</td>\n",
       "      <td>0.5</td>\n",
       "      <td>0.0</td>\n",
       "      <td>0.0</td>\n",
       "      <td>0.0</td>\n",
       "      <td>0.0</td>\n",
       "      <td>F</td>\n",
       "      <td>T</td>\n",
       "      <td>0</td>\n",
       "      <td>K244380</td>\n",
       "    </tr>\n",
       "    <tr>\n",
       "      <th>3237</th>\n",
       "      <td>F</td>\n",
       "      <td>34.0</td>\n",
       "      <td>22/03/97</td>\n",
       "      <td>43.333333</td>\n",
       "      <td>2.0</td>\n",
       "      <td>Play 100</td>\n",
       "      <td>BS110</td>\n",
       "      <td>0.0</td>\n",
       "      <td>0.0</td>\n",
       "      <td>0.0</td>\n",
       "      <td>0.0</td>\n",
       "      <td>0.0</td>\n",
       "      <td>0.0</td>\n",
       "      <td>0.0</td>\n",
       "      <td>0.0</td>\n",
       "      <td>0.0</td>\n",
       "      <td>0.0</td>\n",
       "      <td>0.0</td>\n",
       "      <td>0.0</td>\n",
       "      <td>0.0</td>\n",
       "      <td>0.0</td>\n",
       "      <td>0.0</td>\n",
       "      <td>NaN</td>\n",
       "      <td>NaN</td>\n",
       "      <td>-600.0</td>\n",
       "      <td>NaN</td>\n",
       "      <td>0.0</td>\n",
       "      <td>0.0</td>\n",
       "      <td>59.94</td>\n",
       "      <td>OK</td>\n",
       "      <td>0.5</td>\n",
       "      <td>0.0</td>\n",
       "      <td>0.0</td>\n",
       "      <td>0.0</td>\n",
       "      <td>0.0</td>\n",
       "      <td>F</td>\n",
       "      <td>T</td>\n",
       "      <td>0</td>\n",
       "      <td>K244320</td>\n",
       "    </tr>\n",
       "    <tr>\n",
       "      <th>3836</th>\n",
       "      <td>M</td>\n",
       "      <td>21.0</td>\n",
       "      <td>03/01/96</td>\n",
       "      <td>58.133333</td>\n",
       "      <td>2.0</td>\n",
       "      <td>Play 100</td>\n",
       "      <td>CAS30</td>\n",
       "      <td>0.0</td>\n",
       "      <td>0.0</td>\n",
       "      <td>0.0</td>\n",
       "      <td>0.0</td>\n",
       "      <td>0.0</td>\n",
       "      <td>0.0</td>\n",
       "      <td>0.0</td>\n",
       "      <td>0.0</td>\n",
       "      <td>0.0</td>\n",
       "      <td>0.0</td>\n",
       "      <td>0.0</td>\n",
       "      <td>0.0</td>\n",
       "      <td>0.0</td>\n",
       "      <td>0.0</td>\n",
       "      <td>0.0</td>\n",
       "      <td>NaN</td>\n",
       "      <td>NaN</td>\n",
       "      <td>-600.0</td>\n",
       "      <td>NaN</td>\n",
       "      <td>0.0</td>\n",
       "      <td>0.0</td>\n",
       "      <td>59.94</td>\n",
       "      <td>OK</td>\n",
       "      <td>0.5</td>\n",
       "      <td>0.0</td>\n",
       "      <td>0.0</td>\n",
       "      <td>0.0</td>\n",
       "      <td>0.0</td>\n",
       "      <td>F</td>\n",
       "      <td>T</td>\n",
       "      <td>1</td>\n",
       "      <td>K213590</td>\n",
       "    </tr>\n",
       "    <tr>\n",
       "      <th>4301</th>\n",
       "      <td>F</td>\n",
       "      <td>22.0</td>\n",
       "      <td>08/08/98</td>\n",
       "      <td>26.533333</td>\n",
       "      <td>5.0</td>\n",
       "      <td>Play 100</td>\n",
       "      <td>CAS30</td>\n",
       "      <td>0.0</td>\n",
       "      <td>0.0</td>\n",
       "      <td>0.0</td>\n",
       "      <td>0.0</td>\n",
       "      <td>0.0</td>\n",
       "      <td>0.0</td>\n",
       "      <td>0.0</td>\n",
       "      <td>0.0</td>\n",
       "      <td>0.0</td>\n",
       "      <td>0.0</td>\n",
       "      <td>0.0</td>\n",
       "      <td>0.0</td>\n",
       "      <td>0.0</td>\n",
       "      <td>0.0</td>\n",
       "      <td>0.0</td>\n",
       "      <td>NaN</td>\n",
       "      <td>NaN</td>\n",
       "      <td>-600.0</td>\n",
       "      <td>NaN</td>\n",
       "      <td>0.0</td>\n",
       "      <td>0.0</td>\n",
       "      <td>59.94</td>\n",
       "      <td>OK</td>\n",
       "      <td>0.5</td>\n",
       "      <td>0.0</td>\n",
       "      <td>0.0</td>\n",
       "      <td>0.0</td>\n",
       "      <td>0.0</td>\n",
       "      <td>F</td>\n",
       "      <td>T</td>\n",
       "      <td>1</td>\n",
       "      <td>K212820</td>\n",
       "    </tr>\n",
       "  </tbody>\n",
       "</table>\n",
       "</div>"
      ],
      "text/plain": [
       "     Gender   Age Connect_Date      L_O_S  Dropped_Calls    tariff Handset  \\\n",
       "1736      F  48.0     26/07/98  26.966667            2.0  Play 100   BS110   \n",
       "3237      F  34.0     22/03/97  43.333333            2.0  Play 100   BS110   \n",
       "3836      M  21.0     03/01/96  58.133333            2.0  Play 100   CAS30   \n",
       "4301      F  22.0     08/08/98  26.533333            5.0  Play 100   CAS30   \n",
       "\n",
       "      Peak_calls_Sum  Peak_mins_Sum  OffPeak_calls_Sum  OffPeak_mins_Sum  \\\n",
       "1736             0.0            0.0                0.0               0.0   \n",
       "3237             0.0            0.0                0.0               0.0   \n",
       "3836             0.0            0.0                0.0               0.0   \n",
       "4301             0.0            0.0                0.0               0.0   \n",
       "\n",
       "      Weekend_calls_Sum  Weekend_mins_Sum  International_mins_Sum  \\\n",
       "1736                0.0               0.0                     0.0   \n",
       "3237                0.0               0.0                     0.0   \n",
       "3836                0.0               0.0                     0.0   \n",
       "4301                0.0               0.0                     0.0   \n",
       "\n",
       "      Nat_call_cost_Sum  AvePeak  AveOffPeak  AveWeekend  National_calls  \\\n",
       "1736                0.0      0.0         0.0         0.0             0.0   \n",
       "3237                0.0      0.0         0.0         0.0             0.0   \n",
       "3836                0.0      0.0         0.0         0.0             0.0   \n",
       "4301                0.0      0.0         0.0         0.0             0.0   \n",
       "\n",
       "      National mins  AveNational  All_calls_mins  Dropped_calls_ratio  \\\n",
       "1736            0.0          0.0             0.0                  NaN   \n",
       "3237            0.0          0.0             0.0                  NaN   \n",
       "3836            0.0          0.0             0.0                  NaN   \n",
       "4301            0.0          0.0             0.0                  NaN   \n",
       "\n",
       "     Usage_Band  Mins_charge  call_cost_per_min  actual call cost  \\\n",
       "1736        NaN       -600.0                NaN               0.0   \n",
       "3237        NaN       -600.0                NaN               0.0   \n",
       "3836        NaN       -600.0                NaN               0.0   \n",
       "4301        NaN       -600.0                NaN               0.0   \n",
       "\n",
       "      Total_call_cost  Total_Cost Tariff_OK  average cost min  Peak ratio  \\\n",
       "1736              0.0       59.94        OK               0.5         0.0   \n",
       "3237              0.0       59.94        OK               0.5         0.0   \n",
       "3836              0.0       59.94        OK               0.5         0.0   \n",
       "4301              0.0       59.94        OK               0.5         0.0   \n",
       "\n",
       "      OffPeak ratio  Weekend ratio  Nat-InterNat Ratio high Dropped calls  \\\n",
       "1736            0.0            0.0                 0.0                  F   \n",
       "3237            0.0            0.0                 0.0                  F   \n",
       "3836            0.0            0.0                 0.0                  F   \n",
       "4301            0.0            0.0                 0.0                  F   \n",
       "\n",
       "     No Usage  target       id  \n",
       "1736        T       0  K244380  \n",
       "3237        T       0  K244320  \n",
       "3836        T       1  K213590  \n",
       "4301        T       1  K212820  "
      ]
     },
     "execution_count": 37,
     "metadata": {},
     "output_type": "execute_result"
    }
   ],
   "source": [
    "rows_with_missing_values_train = data_train[data_train.isnull().any(axis=1)]\n",
    "print(\"Rows with Missing Values in training data:\")\n",
    "rows_with_missing_values_train"
   ]
  },
  {
   "cell_type": "code",
   "execution_count": 38,
   "metadata": {},
   "outputs": [
    {
     "data": {
      "text/html": [
       "<div>\n",
       "<style scoped>\n",
       "    .dataframe tbody tr th:only-of-type {\n",
       "        vertical-align: middle;\n",
       "    }\n",
       "\n",
       "    .dataframe tbody tr th {\n",
       "        vertical-align: top;\n",
       "    }\n",
       "\n",
       "    .dataframe thead th {\n",
       "        text-align: right;\n",
       "    }\n",
       "</style>\n",
       "<table border=\"1\" class=\"dataframe\">\n",
       "  <thead>\n",
       "    <tr style=\"text-align: right;\">\n",
       "      <th></th>\n",
       "      <th>Column Name</th>\n",
       "      <th>Missing Count</th>\n",
       "    </tr>\n",
       "  </thead>\n",
       "  <tbody>\n",
       "    <tr>\n",
       "      <th>22</th>\n",
       "      <td>Dropped_calls_ratio</td>\n",
       "      <td>1</td>\n",
       "    </tr>\n",
       "    <tr>\n",
       "      <th>23</th>\n",
       "      <td>Usage_Band</td>\n",
       "      <td>1</td>\n",
       "    </tr>\n",
       "    <tr>\n",
       "      <th>25</th>\n",
       "      <td>call_cost_per_min</td>\n",
       "      <td>1</td>\n",
       "    </tr>\n",
       "  </tbody>\n",
       "</table>\n",
       "</div>"
      ],
      "text/plain": [
       "            Column Name  Missing Count\n",
       "22  Dropped_calls_ratio              1\n",
       "23           Usage_Band              1\n",
       "25    call_cost_per_min              1"
      ]
     },
     "execution_count": 38,
     "metadata": {},
     "output_type": "execute_result"
    }
   ],
   "source": [
    "# For test data\n",
    "missing_count = data_test.isnull().sum() \n",
    "missing_data = pd.DataFrame({'Column Name': missing_count.index, 'Missing Count': missing_count.values})\n",
    "missing_data = missing_data.sort_values(by='Missing Count', ascending=False)\n",
    "missing_data = missing_data[missing_data['Missing Count'] > 0]\n",
    "missing_data"
   ]
  },
  {
   "cell_type": "code",
   "execution_count": 39,
   "metadata": {},
   "outputs": [
    {
     "name": "stdout",
     "output_type": "stream",
     "text": [
      "\n",
      "Rows with Missing Values in test data:\n"
     ]
    },
    {
     "data": {
      "text/html": [
       "<div>\n",
       "<style scoped>\n",
       "    .dataframe tbody tr th:only-of-type {\n",
       "        vertical-align: middle;\n",
       "    }\n",
       "\n",
       "    .dataframe tbody tr th {\n",
       "        vertical-align: top;\n",
       "    }\n",
       "\n",
       "    .dataframe thead th {\n",
       "        text-align: right;\n",
       "    }\n",
       "</style>\n",
       "<table border=\"1\" class=\"dataframe\">\n",
       "  <thead>\n",
       "    <tr style=\"text-align: right;\">\n",
       "      <th></th>\n",
       "      <th>Gender</th>\n",
       "      <th>Age</th>\n",
       "      <th>Connect_Date</th>\n",
       "      <th>L_O_S</th>\n",
       "      <th>Dropped_Calls</th>\n",
       "      <th>tariff</th>\n",
       "      <th>Handset</th>\n",
       "      <th>Peak_calls_Sum</th>\n",
       "      <th>Peak_mins_Sum</th>\n",
       "      <th>OffPeak_calls_Sum</th>\n",
       "      <th>OffPeak_mins_Sum</th>\n",
       "      <th>Weekend_calls_Sum</th>\n",
       "      <th>Weekend_mins_Sum</th>\n",
       "      <th>International_mins_Sum</th>\n",
       "      <th>Nat_call_cost_Sum</th>\n",
       "      <th>AvePeak</th>\n",
       "      <th>AveOffPeak</th>\n",
       "      <th>AveWeekend</th>\n",
       "      <th>National_calls</th>\n",
       "      <th>National mins</th>\n",
       "      <th>AveNational</th>\n",
       "      <th>All_calls_mins</th>\n",
       "      <th>Dropped_calls_ratio</th>\n",
       "      <th>Usage_Band</th>\n",
       "      <th>Mins_charge</th>\n",
       "      <th>call_cost_per_min</th>\n",
       "      <th>actual call cost</th>\n",
       "      <th>Total_call_cost</th>\n",
       "      <th>Total_Cost</th>\n",
       "      <th>Tariff_OK</th>\n",
       "      <th>average cost min</th>\n",
       "      <th>Peak ratio</th>\n",
       "      <th>OffPeak ratio</th>\n",
       "      <th>Weekend ratio</th>\n",
       "      <th>Nat-InterNat Ratio</th>\n",
       "      <th>high Dropped calls</th>\n",
       "      <th>No Usage</th>\n",
       "      <th>id</th>\n",
       "    </tr>\n",
       "  </thead>\n",
       "  <tbody>\n",
       "    <tr>\n",
       "      <th>1389</th>\n",
       "      <td>F</td>\n",
       "      <td>34.0</td>\n",
       "      <td>07/09/98</td>\n",
       "      <td>24.858347</td>\n",
       "      <td>2.0</td>\n",
       "      <td>Play 100</td>\n",
       "      <td>BS110</td>\n",
       "      <td>7.0</td>\n",
       "      <td>0.092169</td>\n",
       "      <td>2.0</td>\n",
       "      <td>12.29251</td>\n",
       "      <td>2.0</td>\n",
       "      <td>-3.12627</td>\n",
       "      <td>-3.215572</td>\n",
       "      <td>-5.011147</td>\n",
       "      <td>3.519628</td>\n",
       "      <td>2.912569</td>\n",
       "      <td>0.27729</td>\n",
       "      <td>-22.0</td>\n",
       "      <td>-2.090036</td>\n",
       "      <td>-0.10749</td>\n",
       "      <td>-20.274408</td>\n",
       "      <td>NaN</td>\n",
       "      <td>NaN</td>\n",
       "      <td>-599.241325</td>\n",
       "      <td>NaN</td>\n",
       "      <td>-3.291928</td>\n",
       "      <td>-2.74686</td>\n",
       "      <td>66.563274</td>\n",
       "      <td>OK</td>\n",
       "      <td>0.510543</td>\n",
       "      <td>0.001085</td>\n",
       "      <td>-0.017429</td>\n",
       "      <td>-0.003596</td>\n",
       "      <td>-0.004193</td>\n",
       "      <td>F</td>\n",
       "      <td>T</td>\n",
       "      <td>K689673</td>\n",
       "    </tr>\n",
       "  </tbody>\n",
       "</table>\n",
       "</div>"
      ],
      "text/plain": [
       "     Gender   Age Connect_Date      L_O_S  Dropped_Calls    tariff Handset  \\\n",
       "1389      F  34.0     07/09/98  24.858347            2.0  Play 100   BS110   \n",
       "\n",
       "      Peak_calls_Sum  Peak_mins_Sum  OffPeak_calls_Sum  OffPeak_mins_Sum  \\\n",
       "1389             7.0       0.092169                2.0          12.29251   \n",
       "\n",
       "      Weekend_calls_Sum  Weekend_mins_Sum  International_mins_Sum  \\\n",
       "1389                2.0          -3.12627               -3.215572   \n",
       "\n",
       "      Nat_call_cost_Sum   AvePeak  AveOffPeak  AveWeekend  National_calls  \\\n",
       "1389          -5.011147  3.519628    2.912569     0.27729           -22.0   \n",
       "\n",
       "      National mins  AveNational  All_calls_mins  Dropped_calls_ratio  \\\n",
       "1389      -2.090036     -0.10749      -20.274408                  NaN   \n",
       "\n",
       "     Usage_Band  Mins_charge  call_cost_per_min  actual call cost  \\\n",
       "1389        NaN  -599.241325                NaN         -3.291928   \n",
       "\n",
       "      Total_call_cost  Total_Cost Tariff_OK  average cost min  Peak ratio  \\\n",
       "1389         -2.74686   66.563274        OK          0.510543    0.001085   \n",
       "\n",
       "      OffPeak ratio  Weekend ratio  Nat-InterNat Ratio high Dropped calls  \\\n",
       "1389      -0.017429      -0.003596           -0.004193                  F   \n",
       "\n",
       "     No Usage       id  \n",
       "1389        T  K689673  "
      ]
     },
     "execution_count": 39,
     "metadata": {},
     "output_type": "execute_result"
    }
   ],
   "source": [
    "rows_with_missing_values_test = data_test[data_test.isnull().any(axis=1)]\n",
    "print(\"\\nRows with Missing Values in test data:\")\n",
    "rows_with_missing_values_test"
   ]
  },
  {
   "cell_type": "markdown",
   "metadata": {},
   "source": [
    "**we will impute this since it's so little rows**"
   ]
  },
  {
   "cell_type": "code",
   "execution_count": 40,
   "metadata": {},
   "outputs": [],
   "source": [
    "target_column = 'target'\n",
    "\n",
    "# Separate features and target variable\n",
    "X_train = data_train.drop(target_column, axis=1)\n",
    "y_train = data_train[target_column]\n",
    "\n",
    "X_test = data_test"
   ]
  },
  {
   "cell_type": "markdown",
   "metadata": {},
   "source": [
    "don't know if this should be done after splitting or not -- still need to change this so that test uses the same day 1 as train data"
   ]
  },
  {
   "cell_type": "code",
   "execution_count": 41,
   "metadata": {},
   "outputs": [],
   "source": [
    "def process_date_column(data, date_column):\n",
    "    # Convert the date column to datetime format\n",
    "    data[date_column] = pd.to_datetime(data[date_column], format='%d/%m/%y')\n",
    "\n",
    "    # Find the earliest date\n",
    "    earliest_date = data[date_column].min()\n",
    "\n",
    "    # Convert the date column to days since the earliest date\n",
    "    data[date_column] = (data[date_column] - earliest_date).dt.days\n",
    "\n",
    "    return data\n",
    "\n",
    "X_train = process_date_column(X_train, 'Connect_Date')\n",
    "X_test = process_date_column(X_test, 'Connect_Date')"
   ]
  },
  {
   "cell_type": "markdown",
   "metadata": {},
   "source": [
    "#### Check the correlation"
   ]
  },
  {
   "cell_type": "code",
   "execution_count": null,
   "metadata": {},
   "outputs": [],
   "source": []
  },
  {
   "cell_type": "markdown",
   "metadata": {},
   "source": [
    "#### Split data into train and validation set "
   ]
  },
  {
   "cell_type": "markdown",
   "metadata": {},
   "source": [
    "target variable is binary and imbalanced (with the minority class having a frequency of 15%), so using a stratified splitting approach is recommended to ensure that both the training and validation sets have a similar distribution of the target variable."
   ]
  },
  {
   "cell_type": "code",
   "execution_count": 42,
   "metadata": {},
   "outputs": [],
   "source": [
    "stratified_splitter = StratifiedKFold(n_splits=5, shuffle=True, random_state=42)\n",
    "\n",
    "for train_index, valid_index in stratified_splitter.split(X_train, y_train):\n",
    "    X_train_split, X_valid_split = X_train.iloc[train_index], X_train.iloc[valid_index]\n",
    "    y_train_split, y_valid_split = y_train.iloc[train_index], y_train.iloc[valid_index]\n",
    "    # Now you can use X_train_split, y_train_split for training and X_valid_split, y_valid_split for validation"
   ]
  },
  {
   "cell_type": "code",
   "execution_count": 43,
   "metadata": {},
   "outputs": [
    {
     "name": "stdout",
     "output_type": "stream",
     "text": [
      "Training Set Distribution: 80.02% (4036 rows)\n",
      "Validation Set Distribution: 19.98% (1008 rows)\n"
     ]
    }
   ],
   "source": [
    "total_train_samples = X_train_split.shape[0] + X_valid_split.shape[0]\n",
    "train_distribution_percentage = (X_train_split.shape[0]/ total_train_samples) * 100\n",
    "validation_distribution_percentage = (X_valid_split.shape[0] / total_train_samples) * 100\n",
    "\n",
    "print(f\"Training Set Distribution: {train_distribution_percentage:.2f}% ({X_train_split.shape[0]} rows)\")\n",
    "print(f\"Validation Set Distribution: {validation_distribution_percentage:.2f}% ({X_valid_split.shape[0]} rows)\")"
   ]
  },
  {
   "cell_type": "markdown",
   "metadata": {},
   "source": [
    "#### Pipeline"
   ]
  },
  {
   "cell_type": "code",
   "execution_count": 44,
   "metadata": {},
   "outputs": [
    {
     "name": "stderr",
     "output_type": "stream",
     "text": [
      "C:\\Users\\lenne\\AppData\\Local\\Temp\\ipykernel_11580\\328505691.py:1: SettingWithCopyWarning: \n",
      "A value is trying to be set on a copy of a slice from a DataFrame.\n",
      "Try using .loc[row_indexer,col_indexer] = value instead\n",
      "\n",
      "See the caveats in the documentation: https://pandas.pydata.org/pandas-docs/stable/user_guide/indexing.html#returning-a-view-versus-a-copy\n",
      "  X_train_split['Tariff_OK'] = np.where(X_train_split['Tariff_OK'] == 'OK', 1, 0)\n",
      "C:\\Users\\lenne\\AppData\\Local\\Temp\\ipykernel_11580\\328505691.py:2: SettingWithCopyWarning: \n",
      "A value is trying to be set on a copy of a slice from a DataFrame.\n",
      "Try using .loc[row_indexer,col_indexer] = value instead\n",
      "\n",
      "See the caveats in the documentation: https://pandas.pydata.org/pandas-docs/stable/user_guide/indexing.html#returning-a-view-versus-a-copy\n",
      "  X_valid_split['Tariff_OK'] = np.where(X_valid_split['Tariff_OK'] == 'OK', 1, 0)\n"
     ]
    }
   ],
   "source": [
    "X_train_split['Tariff_OK'] = np.where(X_train_split['Tariff_OK'] == 'OK', 1, 0)\n",
    "X_valid_split['Tariff_OK'] = np.where(X_valid_split['Tariff_OK'] == 'OK', 1, 0)\n",
    "X_test['Tariff_OK'] = np.where(X_test['Tariff_OK'] == 'OK', 1, 0)"
   ]
  },
  {
   "cell_type": "code",
   "execution_count": 45,
   "metadata": {},
   "outputs": [],
   "source": [
    "# Custom transformer to remove prefix from column names\n",
    "class RemovePrefixTransformer(BaseEstimator, TransformerMixin):\n",
    "    def __init__(self, prefixes):\n",
    "        self.prefixes = prefixes\n",
    "\n",
    "    def fit(self, X, y=None):\n",
    "        return self\n",
    "\n",
    "    def transform(self, X):\n",
    "        for prefix in self.prefixes:\n",
    "            X.columns = [col.split(f'{prefix}__')[1] if f'{prefix}__' in col else col for col in X.columns]\n",
    "        return X"
   ]
  },
  {
   "cell_type": "markdown",
   "metadata": {},
   "source": [
    "you can handle them explicitly before preprocessing, for example, by replacing them with the most frequent category using fillna()"
   ]
  },
  {
   "cell_type": "code",
   "execution_count": 46,
   "metadata": {},
   "outputs": [
    {
     "name": "stdout",
     "output_type": "stream",
     "text": [
      "['Med' 'MedLow' 'MedHigh' 'Low' 'High']\n"
     ]
    }
   ],
   "source": [
    "X_train_split = X_train_split.copy()\n",
    "X_train_split['Usage_Band'] = X_train_split['Usage_Band'].fillna(X_train_split['Usage_Band'].mode()[0])\n",
    "print(X_train_split['Usage_Band'].unique())\n",
    "\n",
    "# Handle missing values in 'Dropped_calls_ratio' by filling with the median\n",
    "X_train_split['Dropped_calls_ratio'] = X_train_split['Dropped_calls_ratio'].fillna(X_train_split['Dropped_calls_ratio'].median())\n",
    "\n",
    "# Handle missing values in 'call_cost_per_min' by filling with the median\n",
    "X_train_split['call_cost_per_min'] = X_train_split['call_cost_per_min'].fillna(X_train_split['call_cost_per_min'].median())"
   ]
  },
  {
   "cell_type": "code",
   "execution_count": 47,
   "metadata": {},
   "outputs": [],
   "source": [
    "y_train_split = y_train_split.fillna(y_train_split.mode()[0])\n",
    "y_valid_split = y_valid_split.fillna(y_train_split.mode()[0])"
   ]
  },
  {
   "cell_type": "code",
   "execution_count": 48,
   "metadata": {},
   "outputs": [],
   "source": [
    "X_valid_split = X_valid_split.copy()\n",
    "\n",
    "# Handle missing values in 'Dropped_calls_ratio' by filling with the median\n",
    "X_valid_split['Dropped_calls_ratio'] = X_valid_split['Dropped_calls_ratio'].fillna(X_train_split['Dropped_calls_ratio'].median())\n",
    "\n",
    "# Handle missing values in 'call_cost_per_min' by filling with the median\n",
    "X_valid_split['call_cost_per_min'] = X_valid_split['call_cost_per_min'].fillna(X_train_split['call_cost_per_min'].median())\n",
    "\n",
    "# Handle missing values in 'Usage_Band' for X_validation_split\n",
    "X_valid_split['Usage_Band'] = X_valid_split['Usage_Band'].fillna(X_train_split['Usage_Band'].mode()[0])"
   ]
  },
  {
   "cell_type": "code",
   "execution_count": 49,
   "metadata": {},
   "outputs": [
    {
     "name": "stdout",
     "output_type": "stream",
     "text": [
      "['MedHigh' 'Med' 'High' 'MedLow' 'Low']\n"
     ]
    }
   ],
   "source": [
    "X_test = X_test.copy()\n",
    "X_test['Usage_Band'] = X_test['Usage_Band'].fillna(X_train_split['Usage_Band'].mode()[0])\n",
    "print(X_test['Usage_Band'].unique())\n",
    "\n",
    "# Handle missing values in 'Dropped_calls_ratio' by filling with the median\n",
    "X_test['Dropped_calls_ratio'] = X_test['Dropped_calls_ratio'].fillna(X_train_split['Dropped_calls_ratio'].median())\n",
    "\n",
    "# Handle missing values in 'call_cost_per_min' by filling with the median\n",
    "X_test['call_cost_per_min'] = X_test['call_cost_per_min'].fillna(X_train_split['call_cost_per_min'].median())"
   ]
  },
  {
   "cell_type": "code",
   "execution_count": 50,
   "metadata": {},
   "outputs": [],
   "source": [
    "# Define columns to drop\n",
    "columns_to_drop = ['id']  # Drop because it's not numerical, later on add it back to know which prediction corresponds to which individual\n",
    "\n",
    "# Define columns for different encoding methods\n",
    "one_hot_encode_columns = ['Gender', 'high Dropped calls', 'No Usage']\n",
    "woe_encode_columns = ['tariff', 'Handset', 'Usage_Band'] #ipv ordinal endoding\n",
    "\n",
    "preprocessor = ColumnTransformer(\n",
    "    transformers=[\n",
    "        ('drop_columns', 'drop', columns_to_drop),\n",
    "        ('one_hot_encode', OneHotEncoder(drop='first', sparse_output=False), one_hot_encode_columns),\n",
    "        ('WOE_encode', WOEEncoder(), woe_encode_columns),\n",
    "    ],\n",
    "    remainder='passthrough'  # Keep the remaining columns as they are\n",
    ")\n",
    "\n",
    "# Build the preprocessing pipeline\n",
    "preprocessing_pipeline = Pipeline(steps=[\n",
    "    ('preprocessor', preprocessor),\n",
    "    ('remove_prefix', RemovePrefixTransformer(prefixes=['one_hot_encode', 'WOE_encode', 'remainder']))   # Add this step to remove the prefix\n",
    "])\n",
    "\n",
    "positive_fraction = y_train_split.sum() / len(y_train_split)\n",
    "lgb_classifier = lgb.LGBMClassifier(scale_pos_weight=1 / positive_fraction)\n",
    "######################################################################################\n",
    "#lgb_classifier = lgb.LGBMClassifier(scale_pos_weight=(1 - y_train_split.sum() / len(y_train_split)))\n",
    "\n",
    "lgb_pipeline = Pipeline(steps=[\n",
    "    ('preprocessing', preprocessing_pipeline),\n",
    "    ('model', lgb_classifier)\n",
    "])"
   ]
  },
  {
   "cell_type": "code",
   "execution_count": 51,
   "metadata": {},
   "outputs": [],
   "source": [
    "# Function to calculate profit metric on test set\n",
    "def calculate_profit_metric(y_probabilities, dataset):\n",
    "    # Extract probabilities for positive class\n",
    "    churn_probabilities = y_probabilities[:, 1]\n",
    "\n",
    "    # Create DataFrame with churn probabilities and corresponding profitability\n",
    "    profit_df = pd.DataFrame({\"churn_prob\": churn_probabilities, \"profit\": dataset[\"average cost min\"]})\n",
    "\n",
    "    # Sort customers by predicted probabilities in descending order\n",
    "    profit_df = profit_df.sort_values(by='churn_prob', ascending=False)\n",
    "\n",
    "    # Calculate profit @ top-20\n",
    "    top_20_profit = profit_df[\"profit\"][:20].sum()\n",
    "\n",
    "    return top_20_profit\n",
    "\n",
    "def calculate_profit_metric_2(y_true, y_probabilities, dataset, top_k=20):\n",
    "    # Sort customers by predicted probabilities in descending order\n",
    "    sorted_indices = sorted(range(len(y_probabilities)), key=lambda k: y_probabilities[k, 1], reverse=True)\n",
    "\n",
    "    # Identify the top-k churners\n",
    "    top_k_indices = sorted_indices[:top_k]\n",
    "\n",
    "    # Calculate profit at top-k churners\n",
    "    profit = sum(dataset.iloc[i][\"average cost min\"] for i in top_k_indices if y_true[i] == 1)\n",
    "\n",
    "    return profit\n",
    "\n",
    "'''\n",
    "# Define evaluation metrics\n",
    "def profit_at_top_20(y_true, y_pred, top_k=20):\n",
    "    # Sort customers by predicted probabilities in descending order\n",
    "    sorted_indices = sorted(range(len(y_pred)), key=lambda k: y_pred[k, 1], reverse=True)\n",
    "\n",
    "    # Identify the top-20 customers\n",
    "    top_20_indices = sorted_indices[:top_k]\n",
    "\n",
    "    # Calculate profit at top-20\n",
    "    profit = sum(y_true[i] * y_pred[i, 1] for i in top_20_indices)\n",
    "\n",
    "    return profit\n",
    "\n",
    "profit_at_top_20_scorer = make_scorer(profit_at_top_20, greater_is_better=True)\n",
    "'''\n",
    "\n",
    "\n",
    "def profit_at_top_20(y_true, y_pred, dataset, top_k=20):\n",
    "    # Sort customers by predicted probabilities in descending order\n",
    "    sorted_indices = sorted(range(len(y_pred)), key=lambda k: y_pred[k, 1], reverse=True)\n",
    "\n",
    "    # Identify the top-k churners\n",
    "    top_k_indices = sorted_indices[:top_k]\n",
    "\n",
    "    # Calculate profit at top-k churners\n",
    "    profit = sum(dataset.iloc[i][\"average cost min\"] for i in top_k_indices if y_true[i] == 1)\n",
    "\n",
    "    return profit\n",
    "'''\n",
    "def profit_at_top_20(y_true, y_pred_probability, dataset, top_k=20):\n",
    "    sorted_indices = sorted(range(len(y_pred_probability)), key=lambda k: y_pred_probability[k, 1], reverse=True)\n",
    "    top_k_indices = sorted_indices[:top_k]\n",
    "    profit = sum(dataset.iloc[i][\"average_cost_min\"] for i in top_k_indices if y_true[i] == 1)\n",
    "    return profit\n",
    "'''\n",
    "# Define custom scorer\n",
    "profit_at_top_20_scorer = make_scorer(profit_at_top_20, greater_is_better=True, needs_proba=True)"
   ]
  },
  {
   "cell_type": "markdown",
   "metadata": {},
   "source": [
    "Precision: Precision measures the proportion of true positive predictions among all positive predictions made by the model. It focuses on minimizing false positives, which is useful when the cost of incorrectly predicting a positive (churn) is high. Optimizing for precision ensures that when the model predicts churn, it's highly confident that the customer will churn. This can be important in scenarios where resources for intervention (such as retention offers) are limited, and you want to ensure that they are allocated effectively. --> try to maximize precision?"
   ]
  },
  {
   "cell_type": "code",
   "execution_count": 52,
   "metadata": {},
   "outputs": [],
   "source": [
    "from sklearn.metrics import precision_score, make_scorer\n",
    "\n",
    "# Define custom scoring function for precision\n",
    "def precision_scorer(y_true, y_pred):\n",
    "    precision = precision_score(y_true, y_pred)\n",
    "    return precision\n",
    "\n",
    "# Make a scorer from precision function\n",
    "precision_scorer = make_scorer(precision_scorer, greater_is_better=True)"
   ]
  },
  {
   "cell_type": "markdown",
   "metadata": {},
   "source": [
    "#### LGB"
   ]
  },
  {
   "cell_type": "code",
   "execution_count": 53,
   "metadata": {},
   "outputs": [
    {
     "name": "stdout",
     "output_type": "stream",
     "text": [
      "[LightGBM] [Warning] Found whitespace in feature_names, replace with underlines\n",
      "[LightGBM] [Info] Number of positive: 596, number of negative: 3440\n",
      "[LightGBM] [Info] Auto-choosing col-wise multi-threading, the overhead of testing was 0.003002 seconds.\n",
      "You can set `force_col_wise=true` to remove the overhead.\n",
      "[LightGBM] [Info] Total Bins 7077\n",
      "[LightGBM] [Info] Number of data points in the train set: 4036, number of used features: 36\n",
      "[LightGBM] [Info] [binary:BoostFromScore]: pavg=0.147671 -> initscore=-1.752986\n",
      "[LightGBM] [Info] Start training from score -1.752986\n"
     ]
    },
    {
     "data": {
      "text/html": [
       "<style>#sk-container-id-4 {color: black;}#sk-container-id-4 pre{padding: 0;}#sk-container-id-4 div.sk-toggleable {background-color: white;}#sk-container-id-4 label.sk-toggleable__label {cursor: pointer;display: block;width: 100%;margin-bottom: 0;padding: 0.3em;box-sizing: border-box;text-align: center;}#sk-container-id-4 label.sk-toggleable__label-arrow:before {content: \"▸\";float: left;margin-right: 0.25em;color: #696969;}#sk-container-id-4 label.sk-toggleable__label-arrow:hover:before {color: black;}#sk-container-id-4 div.sk-estimator:hover label.sk-toggleable__label-arrow:before {color: black;}#sk-container-id-4 div.sk-toggleable__content {max-height: 0;max-width: 0;overflow: hidden;text-align: left;background-color: #f0f8ff;}#sk-container-id-4 div.sk-toggleable__content pre {margin: 0.2em;color: black;border-radius: 0.25em;background-color: #f0f8ff;}#sk-container-id-4 input.sk-toggleable__control:checked~div.sk-toggleable__content {max-height: 200px;max-width: 100%;overflow: auto;}#sk-container-id-4 input.sk-toggleable__control:checked~label.sk-toggleable__label-arrow:before {content: \"▾\";}#sk-container-id-4 div.sk-estimator input.sk-toggleable__control:checked~label.sk-toggleable__label {background-color: #d4ebff;}#sk-container-id-4 div.sk-label input.sk-toggleable__control:checked~label.sk-toggleable__label {background-color: #d4ebff;}#sk-container-id-4 input.sk-hidden--visually {border: 0;clip: rect(1px 1px 1px 1px);clip: rect(1px, 1px, 1px, 1px);height: 1px;margin: -1px;overflow: hidden;padding: 0;position: absolute;width: 1px;}#sk-container-id-4 div.sk-estimator {font-family: monospace;background-color: #f0f8ff;border: 1px dotted black;border-radius: 0.25em;box-sizing: border-box;margin-bottom: 0.5em;}#sk-container-id-4 div.sk-estimator:hover {background-color: #d4ebff;}#sk-container-id-4 div.sk-parallel-item::after {content: \"\";width: 100%;border-bottom: 1px solid gray;flex-grow: 1;}#sk-container-id-4 div.sk-label:hover label.sk-toggleable__label {background-color: #d4ebff;}#sk-container-id-4 div.sk-serial::before {content: \"\";position: absolute;border-left: 1px solid gray;box-sizing: border-box;top: 0;bottom: 0;left: 50%;z-index: 0;}#sk-container-id-4 div.sk-serial {display: flex;flex-direction: column;align-items: center;background-color: white;padding-right: 0.2em;padding-left: 0.2em;position: relative;}#sk-container-id-4 div.sk-item {position: relative;z-index: 1;}#sk-container-id-4 div.sk-parallel {display: flex;align-items: stretch;justify-content: center;background-color: white;position: relative;}#sk-container-id-4 div.sk-item::before, #sk-container-id-4 div.sk-parallel-item::before {content: \"\";position: absolute;border-left: 1px solid gray;box-sizing: border-box;top: 0;bottom: 0;left: 50%;z-index: -1;}#sk-container-id-4 div.sk-parallel-item {display: flex;flex-direction: column;z-index: 1;position: relative;background-color: white;}#sk-container-id-4 div.sk-parallel-item:first-child::after {align-self: flex-end;width: 50%;}#sk-container-id-4 div.sk-parallel-item:last-child::after {align-self: flex-start;width: 50%;}#sk-container-id-4 div.sk-parallel-item:only-child::after {width: 0;}#sk-container-id-4 div.sk-dashed-wrapped {border: 1px dashed gray;margin: 0 0.4em 0.5em 0.4em;box-sizing: border-box;padding-bottom: 0.4em;background-color: white;}#sk-container-id-4 div.sk-label label {font-family: monospace;font-weight: bold;display: inline-block;line-height: 1.2em;}#sk-container-id-4 div.sk-label-container {text-align: center;}#sk-container-id-4 div.sk-container {/* jupyter's `normalize.less` sets `[hidden] { display: none; }` but bootstrap.min.css set `[hidden] { display: none !important; }` so we also need the `!important` here to be able to override the default hidden behavior on the sphinx rendered scikit-learn.org. See: https://github.com/scikit-learn/scikit-learn/issues/21755 */display: inline-block !important;position: relative;}#sk-container-id-4 div.sk-text-repr-fallback {display: none;}</style><div id=\"sk-container-id-4\" class=\"sk-top-container\"><div class=\"sk-text-repr-fallback\"><pre>GridSearchCV(cv=5, estimator=LGBMClassifier(scale_pos_weight=6.771812080536913),\n",
       "             n_jobs=-1,\n",
       "             param_grid={&#x27;learning_rate&#x27;: [0.015, 0.016, 0.017],\n",
       "                         &#x27;max_depth&#x27;: [1, 2, 3],\n",
       "                         &#x27;n_estimators&#x27;: [140, 145, 150, 155]},\n",
       "             refit=&#x27;precision&#x27;,\n",
       "             scoring={&#x27;precision&#x27;: make_scorer(precision_scorer)})</pre><b>In a Jupyter environment, please rerun this cell to show the HTML representation or trust the notebook. <br />On GitHub, the HTML representation is unable to render, please try loading this page with nbviewer.org.</b></div><div class=\"sk-container\" hidden><div class=\"sk-item sk-dashed-wrapped\"><div class=\"sk-label-container\"><div class=\"sk-label sk-toggleable\"><input class=\"sk-toggleable__control sk-hidden--visually\" id=\"sk-estimator-id-6\" type=\"checkbox\" ><label for=\"sk-estimator-id-6\" class=\"sk-toggleable__label sk-toggleable__label-arrow\">GridSearchCV</label><div class=\"sk-toggleable__content\"><pre>GridSearchCV(cv=5, estimator=LGBMClassifier(scale_pos_weight=6.771812080536913),\n",
       "             n_jobs=-1,\n",
       "             param_grid={&#x27;learning_rate&#x27;: [0.015, 0.016, 0.017],\n",
       "                         &#x27;max_depth&#x27;: [1, 2, 3],\n",
       "                         &#x27;n_estimators&#x27;: [140, 145, 150, 155]},\n",
       "             refit=&#x27;precision&#x27;,\n",
       "             scoring={&#x27;precision&#x27;: make_scorer(precision_scorer)})</pre></div></div></div><div class=\"sk-parallel\"><div class=\"sk-parallel-item\"><div class=\"sk-item\"><div class=\"sk-label-container\"><div class=\"sk-label sk-toggleable\"><input class=\"sk-toggleable__control sk-hidden--visually\" id=\"sk-estimator-id-7\" type=\"checkbox\" ><label for=\"sk-estimator-id-7\" class=\"sk-toggleable__label sk-toggleable__label-arrow\">estimator: LGBMClassifier</label><div class=\"sk-toggleable__content\"><pre>LGBMClassifier(scale_pos_weight=6.771812080536913)</pre></div></div></div><div class=\"sk-serial\"><div class=\"sk-item\"><div class=\"sk-estimator sk-toggleable\"><input class=\"sk-toggleable__control sk-hidden--visually\" id=\"sk-estimator-id-8\" type=\"checkbox\" ><label for=\"sk-estimator-id-8\" class=\"sk-toggleable__label sk-toggleable__label-arrow\">LGBMClassifier</label><div class=\"sk-toggleable__content\"><pre>LGBMClassifier(scale_pos_weight=6.771812080536913)</pre></div></div></div></div></div></div></div></div></div></div>"
      ],
      "text/plain": [
       "GridSearchCV(cv=5, estimator=LGBMClassifier(scale_pos_weight=6.771812080536913),\n",
       "             n_jobs=-1,\n",
       "             param_grid={'learning_rate': [0.015, 0.016, 0.017],\n",
       "                         'max_depth': [1, 2, 3],\n",
       "                         'n_estimators': [140, 145, 150, 155]},\n",
       "             refit='precision',\n",
       "             scoring={'precision': make_scorer(precision_scorer)})"
      ]
     },
     "execution_count": 53,
     "metadata": {},
     "output_type": "execute_result"
    }
   ],
   "source": [
    "# Create parameter grid for LightGBM hyperparameter tuning\n",
    "lgb_param_grid = {\n",
    "    'n_estimators': [140, 145, 150, 155],\n",
    "    'max_depth': [1, 2, 3],\n",
    "    'learning_rate': [0.015, 0.016, 0.017],\n",
    "}\n",
    "\n",
    "'''\n",
    "def profit_at_top_20_scorer(estimator, X, y):\n",
    "    y_pred_proba = estimator.predict_proba(X)\n",
    "    dataset = pd.DataFrame(X, columns=X.columns)  # Assuming X is a pandas DataFrame\n",
    "    return profit_at_top_20(y, y_pred_proba, dataset)'''\n",
    "\n",
    "X_train_preprocessed = preprocessing_pipeline.fit_transform(X_train_split, y_train_split)\n",
    "\n",
    "# Create GridSearchCV instance for LightGBM\n",
    "#lgb_grid_search = GridSearchCV(lgb_classifier, lgb_param_grid, scoring={'profit_at_top_20': profit_at_top_20_scorer}, refit='profit_at_top_20', verbose=0, cv=5, n_jobs=-1)\n",
    "lgb_grid_search = GridSearchCV(lgb_classifier, lgb_param_grid, scoring={'precision': precision_scorer}, refit='precision', verbose=0, cv=5, n_jobs=-1)\n",
    "\n",
    "\n",
    "# Fit the GridSearchCV on training data for LightGBM\n",
    "lgb_grid_search.fit(X_train_preprocessed, y_train_split)"
   ]
  },
  {
   "cell_type": "code",
   "execution_count": 54,
   "metadata": {},
   "outputs": [
    {
     "data": {
      "text/html": [
       "<style>#sk-container-id-5 {color: black;}#sk-container-id-5 pre{padding: 0;}#sk-container-id-5 div.sk-toggleable {background-color: white;}#sk-container-id-5 label.sk-toggleable__label {cursor: pointer;display: block;width: 100%;margin-bottom: 0;padding: 0.3em;box-sizing: border-box;text-align: center;}#sk-container-id-5 label.sk-toggleable__label-arrow:before {content: \"▸\";float: left;margin-right: 0.25em;color: #696969;}#sk-container-id-5 label.sk-toggleable__label-arrow:hover:before {color: black;}#sk-container-id-5 div.sk-estimator:hover label.sk-toggleable__label-arrow:before {color: black;}#sk-container-id-5 div.sk-toggleable__content {max-height: 0;max-width: 0;overflow: hidden;text-align: left;background-color: #f0f8ff;}#sk-container-id-5 div.sk-toggleable__content pre {margin: 0.2em;color: black;border-radius: 0.25em;background-color: #f0f8ff;}#sk-container-id-5 input.sk-toggleable__control:checked~div.sk-toggleable__content {max-height: 200px;max-width: 100%;overflow: auto;}#sk-container-id-5 input.sk-toggleable__control:checked~label.sk-toggleable__label-arrow:before {content: \"▾\";}#sk-container-id-5 div.sk-estimator input.sk-toggleable__control:checked~label.sk-toggleable__label {background-color: #d4ebff;}#sk-container-id-5 div.sk-label input.sk-toggleable__control:checked~label.sk-toggleable__label {background-color: #d4ebff;}#sk-container-id-5 input.sk-hidden--visually {border: 0;clip: rect(1px 1px 1px 1px);clip: rect(1px, 1px, 1px, 1px);height: 1px;margin: -1px;overflow: hidden;padding: 0;position: absolute;width: 1px;}#sk-container-id-5 div.sk-estimator {font-family: monospace;background-color: #f0f8ff;border: 1px dotted black;border-radius: 0.25em;box-sizing: border-box;margin-bottom: 0.5em;}#sk-container-id-5 div.sk-estimator:hover {background-color: #d4ebff;}#sk-container-id-5 div.sk-parallel-item::after {content: \"\";width: 100%;border-bottom: 1px solid gray;flex-grow: 1;}#sk-container-id-5 div.sk-label:hover label.sk-toggleable__label {background-color: #d4ebff;}#sk-container-id-5 div.sk-serial::before {content: \"\";position: absolute;border-left: 1px solid gray;box-sizing: border-box;top: 0;bottom: 0;left: 50%;z-index: 0;}#sk-container-id-5 div.sk-serial {display: flex;flex-direction: column;align-items: center;background-color: white;padding-right: 0.2em;padding-left: 0.2em;position: relative;}#sk-container-id-5 div.sk-item {position: relative;z-index: 1;}#sk-container-id-5 div.sk-parallel {display: flex;align-items: stretch;justify-content: center;background-color: white;position: relative;}#sk-container-id-5 div.sk-item::before, #sk-container-id-5 div.sk-parallel-item::before {content: \"\";position: absolute;border-left: 1px solid gray;box-sizing: border-box;top: 0;bottom: 0;left: 50%;z-index: -1;}#sk-container-id-5 div.sk-parallel-item {display: flex;flex-direction: column;z-index: 1;position: relative;background-color: white;}#sk-container-id-5 div.sk-parallel-item:first-child::after {align-self: flex-end;width: 50%;}#sk-container-id-5 div.sk-parallel-item:last-child::after {align-self: flex-start;width: 50%;}#sk-container-id-5 div.sk-parallel-item:only-child::after {width: 0;}#sk-container-id-5 div.sk-dashed-wrapped {border: 1px dashed gray;margin: 0 0.4em 0.5em 0.4em;box-sizing: border-box;padding-bottom: 0.4em;background-color: white;}#sk-container-id-5 div.sk-label label {font-family: monospace;font-weight: bold;display: inline-block;line-height: 1.2em;}#sk-container-id-5 div.sk-label-container {text-align: center;}#sk-container-id-5 div.sk-container {/* jupyter's `normalize.less` sets `[hidden] { display: none; }` but bootstrap.min.css set `[hidden] { display: none !important; }` so we also need the `!important` here to be able to override the default hidden behavior on the sphinx rendered scikit-learn.org. See: https://github.com/scikit-learn/scikit-learn/issues/21755 */display: inline-block !important;position: relative;}#sk-container-id-5 div.sk-text-repr-fallback {display: none;}</style><div id=\"sk-container-id-5\" class=\"sk-top-container\"><div class=\"sk-text-repr-fallback\"><pre>LGBMClassifier(learning_rate=0.015, max_depth=1, n_estimators=155,\n",
       "               scale_pos_weight=6.771812080536913)</pre><b>In a Jupyter environment, please rerun this cell to show the HTML representation or trust the notebook. <br />On GitHub, the HTML representation is unable to render, please try loading this page with nbviewer.org.</b></div><div class=\"sk-container\" hidden><div class=\"sk-item\"><div class=\"sk-estimator sk-toggleable\"><input class=\"sk-toggleable__control sk-hidden--visually\" id=\"sk-estimator-id-9\" type=\"checkbox\" checked><label for=\"sk-estimator-id-9\" class=\"sk-toggleable__label sk-toggleable__label-arrow\">LGBMClassifier</label><div class=\"sk-toggleable__content\"><pre>LGBMClassifier(learning_rate=0.015, max_depth=1, n_estimators=155,\n",
       "               scale_pos_weight=6.771812080536913)</pre></div></div></div></div></div>"
      ],
      "text/plain": [
       "LGBMClassifier(learning_rate=0.015, max_depth=1, n_estimators=155,\n",
       "               scale_pos_weight=6.771812080536913)"
      ]
     },
     "execution_count": 54,
     "metadata": {},
     "output_type": "execute_result"
    }
   ],
   "source": [
    "lgb_grid_search.best_estimator_ #has the optimal hyperparameters"
   ]
  },
  {
   "cell_type": "code",
   "execution_count": 55,
   "metadata": {},
   "outputs": [
    {
     "name": "stdout",
     "output_type": "stream",
     "text": [
      "Best Score: 0.7810562015503877\n",
      "Best Parameters: {'learning_rate': 0.015, 'max_depth': 1, 'n_estimators': 155}\n"
     ]
    }
   ],
   "source": [
    "print(\"Best Score:\", lgb_grid_search.best_score_)\n",
    "print(\"Best Parameters:\", lgb_grid_search.best_params_)"
   ]
  },
  {
   "cell_type": "code",
   "execution_count": 56,
   "metadata": {},
   "outputs": [
    {
     "name": "stdout",
     "output_type": "stream",
     "text": [
      "[LightGBM] [Warning] Found whitespace in feature_names, replace with underlines\n",
      "[LightGBM] [Info] Number of positive: 596, number of negative: 3440\n",
      "[LightGBM] [Info] Auto-choosing col-wise multi-threading, the overhead of testing was 0.003554 seconds.\n",
      "You can set `force_col_wise=true` to remove the overhead.\n",
      "[LightGBM] [Info] Total Bins 7077\n",
      "[LightGBM] [Info] Number of data points in the train set: 4036, number of used features: 36\n",
      "[LightGBM] [Info] [binary:BoostFromScore]: pavg=0.147671 -> initscore=-1.752986\n",
      "[LightGBM] [Info] Start training from score -1.752986\n"
     ]
    },
    {
     "data": {
      "text/html": [
       "<style>#sk-container-id-6 {color: black;}#sk-container-id-6 pre{padding: 0;}#sk-container-id-6 div.sk-toggleable {background-color: white;}#sk-container-id-6 label.sk-toggleable__label {cursor: pointer;display: block;width: 100%;margin-bottom: 0;padding: 0.3em;box-sizing: border-box;text-align: center;}#sk-container-id-6 label.sk-toggleable__label-arrow:before {content: \"▸\";float: left;margin-right: 0.25em;color: #696969;}#sk-container-id-6 label.sk-toggleable__label-arrow:hover:before {color: black;}#sk-container-id-6 div.sk-estimator:hover label.sk-toggleable__label-arrow:before {color: black;}#sk-container-id-6 div.sk-toggleable__content {max-height: 0;max-width: 0;overflow: hidden;text-align: left;background-color: #f0f8ff;}#sk-container-id-6 div.sk-toggleable__content pre {margin: 0.2em;color: black;border-radius: 0.25em;background-color: #f0f8ff;}#sk-container-id-6 input.sk-toggleable__control:checked~div.sk-toggleable__content {max-height: 200px;max-width: 100%;overflow: auto;}#sk-container-id-6 input.sk-toggleable__control:checked~label.sk-toggleable__label-arrow:before {content: \"▾\";}#sk-container-id-6 div.sk-estimator input.sk-toggleable__control:checked~label.sk-toggleable__label {background-color: #d4ebff;}#sk-container-id-6 div.sk-label input.sk-toggleable__control:checked~label.sk-toggleable__label {background-color: #d4ebff;}#sk-container-id-6 input.sk-hidden--visually {border: 0;clip: rect(1px 1px 1px 1px);clip: rect(1px, 1px, 1px, 1px);height: 1px;margin: -1px;overflow: hidden;padding: 0;position: absolute;width: 1px;}#sk-container-id-6 div.sk-estimator {font-family: monospace;background-color: #f0f8ff;border: 1px dotted black;border-radius: 0.25em;box-sizing: border-box;margin-bottom: 0.5em;}#sk-container-id-6 div.sk-estimator:hover {background-color: #d4ebff;}#sk-container-id-6 div.sk-parallel-item::after {content: \"\";width: 100%;border-bottom: 1px solid gray;flex-grow: 1;}#sk-container-id-6 div.sk-label:hover label.sk-toggleable__label {background-color: #d4ebff;}#sk-container-id-6 div.sk-serial::before {content: \"\";position: absolute;border-left: 1px solid gray;box-sizing: border-box;top: 0;bottom: 0;left: 50%;z-index: 0;}#sk-container-id-6 div.sk-serial {display: flex;flex-direction: column;align-items: center;background-color: white;padding-right: 0.2em;padding-left: 0.2em;position: relative;}#sk-container-id-6 div.sk-item {position: relative;z-index: 1;}#sk-container-id-6 div.sk-parallel {display: flex;align-items: stretch;justify-content: center;background-color: white;position: relative;}#sk-container-id-6 div.sk-item::before, #sk-container-id-6 div.sk-parallel-item::before {content: \"\";position: absolute;border-left: 1px solid gray;box-sizing: border-box;top: 0;bottom: 0;left: 50%;z-index: -1;}#sk-container-id-6 div.sk-parallel-item {display: flex;flex-direction: column;z-index: 1;position: relative;background-color: white;}#sk-container-id-6 div.sk-parallel-item:first-child::after {align-self: flex-end;width: 50%;}#sk-container-id-6 div.sk-parallel-item:last-child::after {align-self: flex-start;width: 50%;}#sk-container-id-6 div.sk-parallel-item:only-child::after {width: 0;}#sk-container-id-6 div.sk-dashed-wrapped {border: 1px dashed gray;margin: 0 0.4em 0.5em 0.4em;box-sizing: border-box;padding-bottom: 0.4em;background-color: white;}#sk-container-id-6 div.sk-label label {font-family: monospace;font-weight: bold;display: inline-block;line-height: 1.2em;}#sk-container-id-6 div.sk-label-container {text-align: center;}#sk-container-id-6 div.sk-container {/* jupyter's `normalize.less` sets `[hidden] { display: none; }` but bootstrap.min.css set `[hidden] { display: none !important; }` so we also need the `!important` here to be able to override the default hidden behavior on the sphinx rendered scikit-learn.org. See: https://github.com/scikit-learn/scikit-learn/issues/21755 */display: inline-block !important;position: relative;}#sk-container-id-6 div.sk-text-repr-fallback {display: none;}</style><div id=\"sk-container-id-6\" class=\"sk-top-container\"><div class=\"sk-text-repr-fallback\"><pre>LGBMClassifier(learning_rate=0.015, max_depth=1, n_estimators=155,\n",
       "               scale_pos_weight=6.771812080536913)</pre><b>In a Jupyter environment, please rerun this cell to show the HTML representation or trust the notebook. <br />On GitHub, the HTML representation is unable to render, please try loading this page with nbviewer.org.</b></div><div class=\"sk-container\" hidden><div class=\"sk-item\"><div class=\"sk-estimator sk-toggleable\"><input class=\"sk-toggleable__control sk-hidden--visually\" id=\"sk-estimator-id-10\" type=\"checkbox\" checked><label for=\"sk-estimator-id-10\" class=\"sk-toggleable__label sk-toggleable__label-arrow\">LGBMClassifier</label><div class=\"sk-toggleable__content\"><pre>LGBMClassifier(learning_rate=0.015, max_depth=1, n_estimators=155,\n",
       "               scale_pos_weight=6.771812080536913)</pre></div></div></div></div></div>"
      ],
      "text/plain": [
       "LGBMClassifier(learning_rate=0.015, max_depth=1, n_estimators=155,\n",
       "               scale_pos_weight=6.771812080536913)"
      ]
     },
     "execution_count": 56,
     "metadata": {},
     "output_type": "execute_result"
    }
   ],
   "source": [
    "# Get the best LightGBM model from the grid search\n",
    "best_lgb_model = lgb_grid_search.best_estimator_\n",
    "\n",
    "# Fit the best model on the training data\n",
    "best_lgb_model.fit(X_train_preprocessed, y_train_split) "
   ]
  },
  {
   "cell_type": "code",
   "execution_count": 57,
   "metadata": {},
   "outputs": [],
   "source": [
    "# Apply preprocessing pipeline to the validation set IPV FIT_TRANSFORM GWN TRANSFORM BC INFO VAN TRAINING SET\n",
    "X_valid_preprocessed = preprocessing_pipeline.transform(X_valid_split)"
   ]
  },
  {
   "cell_type": "code",
   "execution_count": 58,
   "metadata": {},
   "outputs": [],
   "source": [
    "pred = best_lgb_model.predict(X_valid_preprocessed)"
   ]
  },
  {
   "cell_type": "code",
   "execution_count": 59,
   "metadata": {},
   "outputs": [],
   "source": [
    "# Evaluate on the validation set for LightGBM\n",
    "y_valid_probabilities_lgb = best_lgb_model.predict_proba(X_valid_preprocessed)"
   ]
  },
  {
   "cell_type": "code",
   "execution_count": 60,
   "metadata": {},
   "outputs": [],
   "source": [
    "def calculate_profit_metric_2(y_true, y_probabilities, dataset, top_k=20):\n",
    "    # Convert y_true to a NumPy array to align with y_probabilities\n",
    "    y_true = y_true.values.flatten()\n",
    "\n",
    "    # Sort customers by predicted probabilities in descending order\n",
    "    sorted_indices = sorted(range(len(y_probabilities)), key=lambda k: y_probabilities[k, 1], reverse=True)\n",
    "\n",
    "    # Identify the top-k churners\n",
    "    top_k_indices = sorted_indices[:top_k]\n",
    "\n",
    "    # Calculate profit at top-k churners\n",
    "    profit = sum(dataset.iloc[i][\"average cost min\"] for i in top_k_indices if y_true[i] == 1)\n",
    "\n",
    "    return profit"
   ]
  },
  {
   "cell_type": "code",
   "execution_count": 61,
   "metadata": {},
   "outputs": [
    {
     "name": "stdout",
     "output_type": "stream",
     "text": [
      "AUC for LightGBM on Validation Set: 0.9141150549648023\n",
      "Profit @ Top-20 for LightGBM on Validation Set: 4.064411000000001\n",
      "Profit @ Top-20 for LightGBM on Validation Set (THIS ONE IS MORE CORRECT: 2.8355110000000003\n",
      "because models that differ in the 1st profit metric but not in the 2nd get the same score on the leaderboard!\n"
     ]
    }
   ],
   "source": [
    "# Evaluate on the validation set for LightGBM\n",
    "auc_score_lgb = roc_auc_score(y_valid_split, y_valid_probabilities_lgb[:, 1])\n",
    "\n",
    "# Calculate profit metric\n",
    "profit_metric = calculate_profit_metric(y_valid_probabilities_lgb, X_valid_split)\n",
    "\n",
    "profit_metric2 = calculate_profit_metric_2(y_valid_split, y_valid_probabilities_lgb, X_valid_split, top_k=20)\n",
    "\n",
    "print(f'AUC for LightGBM on Validation Set: {auc_score_lgb}')\n",
    "print(f'Profit @ Top-20 for LightGBM on Validation Set: {profit_metric}')\n",
    "print(f'Profit @ Top-20 for LightGBM on Validation Set (THIS ONE IS MORE CORRECT: {profit_metric2}')\n",
    "print(f'because models that differ in the 1st profit metric but not in the 2nd get the same score on the leaderboard!')"
   ]
  },
  {
   "cell_type": "code",
   "execution_count": 62,
   "metadata": {},
   "outputs": [
    {
     "name": "stdout",
     "output_type": "stream",
     "text": [
      "Best Hyperparameters for LightGBM: {'learning_rate': 0.015, 'max_depth': 1, 'n_estimators': 155}\n"
     ]
    }
   ],
   "source": [
    "# Access the best hyperparameters for LightGBM\n",
    "best_hyperparameters_LGB = lgb_grid_search.best_params_\n",
    "print(f'Best Hyperparameters for LightGBM: {best_hyperparameters_LGB}')"
   ]
  },
  {
   "cell_type": "code",
   "execution_count": 63,
   "metadata": {},
   "outputs": [
    {
     "data": {
      "text/html": [
       "<div>\n",
       "<style scoped>\n",
       "    .dataframe tbody tr th:only-of-type {\n",
       "        vertical-align: middle;\n",
       "    }\n",
       "\n",
       "    .dataframe tbody tr th {\n",
       "        vertical-align: top;\n",
       "    }\n",
       "\n",
       "    .dataframe thead th {\n",
       "        text-align: right;\n",
       "    }\n",
       "</style>\n",
       "<table border=\"1\" class=\"dataframe\">\n",
       "  <thead>\n",
       "    <tr style=\"text-align: right;\">\n",
       "      <th></th>\n",
       "      <th>id</th>\n",
       "      <th>PROB_0</th>\n",
       "      <th>PROB_1</th>\n",
       "    </tr>\n",
       "  </thead>\n",
       "  <tbody>\n",
       "    <tr>\n",
       "      <th>0</th>\n",
       "      <td>K751808</td>\n",
       "      <td>0.799097</td>\n",
       "      <td>0.200903</td>\n",
       "    </tr>\n",
       "    <tr>\n",
       "      <th>1</th>\n",
       "      <td>K837351</td>\n",
       "      <td>0.536126</td>\n",
       "      <td>0.463874</td>\n",
       "    </tr>\n",
       "    <tr>\n",
       "      <th>2</th>\n",
       "      <td>K548114</td>\n",
       "      <td>0.799097</td>\n",
       "      <td>0.200903</td>\n",
       "    </tr>\n",
       "    <tr>\n",
       "      <th>3</th>\n",
       "      <td>K736156</td>\n",
       "      <td>0.799097</td>\n",
       "      <td>0.200903</td>\n",
       "    </tr>\n",
       "    <tr>\n",
       "      <th>4</th>\n",
       "      <td>K508080</td>\n",
       "      <td>0.799097</td>\n",
       "      <td>0.200903</td>\n",
       "    </tr>\n",
       "    <tr>\n",
       "      <th>...</th>\n",
       "      <td>...</td>\n",
       "      <td>...</td>\n",
       "      <td>...</td>\n",
       "    </tr>\n",
       "    <tr>\n",
       "      <th>1677</th>\n",
       "      <td>K588314</td>\n",
       "      <td>0.536126</td>\n",
       "      <td>0.463874</td>\n",
       "    </tr>\n",
       "    <tr>\n",
       "      <th>1678</th>\n",
       "      <td>K826807</td>\n",
       "      <td>0.536126</td>\n",
       "      <td>0.463874</td>\n",
       "    </tr>\n",
       "    <tr>\n",
       "      <th>1679</th>\n",
       "      <td>K982731</td>\n",
       "      <td>0.536126</td>\n",
       "      <td>0.463874</td>\n",
       "    </tr>\n",
       "    <tr>\n",
       "      <th>1680</th>\n",
       "      <td>K623037</td>\n",
       "      <td>0.536126</td>\n",
       "      <td>0.463874</td>\n",
       "    </tr>\n",
       "    <tr>\n",
       "      <th>1681</th>\n",
       "      <td>K883413</td>\n",
       "      <td>0.788333</td>\n",
       "      <td>0.211667</td>\n",
       "    </tr>\n",
       "  </tbody>\n",
       "</table>\n",
       "<p>1682 rows × 3 columns</p>\n",
       "</div>"
      ],
      "text/plain": [
       "           id    PROB_0    PROB_1\n",
       "0     K751808  0.799097  0.200903\n",
       "1     K837351  0.536126  0.463874\n",
       "2     K548114  0.799097  0.200903\n",
       "3     K736156  0.799097  0.200903\n",
       "4     K508080  0.799097  0.200903\n",
       "...       ...       ...       ...\n",
       "1677  K588314  0.536126  0.463874\n",
       "1678  K826807  0.536126  0.463874\n",
       "1679  K982731  0.536126  0.463874\n",
       "1680  K623037  0.536126  0.463874\n",
       "1681  K883413  0.788333  0.211667\n",
       "\n",
       "[1682 rows x 3 columns]"
      ]
     },
     "execution_count": 63,
     "metadata": {},
     "output_type": "execute_result"
    }
   ],
   "source": [
    "# Apply preprocessing pipeline to the validation set\n",
    "X_test_preprocessed = preprocessing_pipeline.transform(X_test)\n",
    "# Evaluate on the test set for LightGBM\n",
    "y_test_probabilities_lgb = best_lgb_model.predict_proba(X_test_preprocessed)\n",
    "y_test_probabilities_lgb = pd.DataFrame(y_test_probabilities_lgb, columns=['PROB_0', 'PROB_1'])\n",
    "y_test_probabilities_lgb_with_id = pd.concat([data_test['id'], y_test_probabilities_lgb], axis=1)\n",
    "y_test_probabilities_lgb_with_id"
   ]
  },
  {
   "cell_type": "code",
   "execution_count": 64,
   "metadata": {},
   "outputs": [],
   "source": [
    "result_LGB = y_test_probabilities_lgb_with_id.iloc[:, [0, 2]]\n",
    "result_LGB.to_csv('result_LGB_8.csv', header=False, index=False)"
   ]
  },
  {
   "cell_type": "code",
   "execution_count": 65,
   "metadata": {},
   "outputs": [
    {
     "data": {
      "text/html": [
       "<div>\n",
       "<style scoped>\n",
       "    .dataframe tbody tr th:only-of-type {\n",
       "        vertical-align: middle;\n",
       "    }\n",
       "\n",
       "    .dataframe tbody tr th {\n",
       "        vertical-align: top;\n",
       "    }\n",
       "\n",
       "    .dataframe thead th {\n",
       "        text-align: right;\n",
       "    }\n",
       "</style>\n",
       "<table border=\"1\" class=\"dataframe\">\n",
       "  <thead>\n",
       "    <tr style=\"text-align: right;\">\n",
       "      <th></th>\n",
       "      <th>id</th>\n",
       "      <th>PROB_1</th>\n",
       "    </tr>\n",
       "  </thead>\n",
       "  <tbody>\n",
       "    <tr>\n",
       "      <th>0</th>\n",
       "      <td>K751808</td>\n",
       "      <td>0.200903</td>\n",
       "    </tr>\n",
       "    <tr>\n",
       "      <th>1</th>\n",
       "      <td>K837351</td>\n",
       "      <td>0.463874</td>\n",
       "    </tr>\n",
       "    <tr>\n",
       "      <th>2</th>\n",
       "      <td>K548114</td>\n",
       "      <td>0.200903</td>\n",
       "    </tr>\n",
       "    <tr>\n",
       "      <th>3</th>\n",
       "      <td>K736156</td>\n",
       "      <td>0.200903</td>\n",
       "    </tr>\n",
       "    <tr>\n",
       "      <th>4</th>\n",
       "      <td>K508080</td>\n",
       "      <td>0.200903</td>\n",
       "    </tr>\n",
       "    <tr>\n",
       "      <th>...</th>\n",
       "      <td>...</td>\n",
       "      <td>...</td>\n",
       "    </tr>\n",
       "    <tr>\n",
       "      <th>1677</th>\n",
       "      <td>K588314</td>\n",
       "      <td>0.463874</td>\n",
       "    </tr>\n",
       "    <tr>\n",
       "      <th>1678</th>\n",
       "      <td>K826807</td>\n",
       "      <td>0.463874</td>\n",
       "    </tr>\n",
       "    <tr>\n",
       "      <th>1679</th>\n",
       "      <td>K982731</td>\n",
       "      <td>0.463874</td>\n",
       "    </tr>\n",
       "    <tr>\n",
       "      <th>1680</th>\n",
       "      <td>K623037</td>\n",
       "      <td>0.463874</td>\n",
       "    </tr>\n",
       "    <tr>\n",
       "      <th>1681</th>\n",
       "      <td>K883413</td>\n",
       "      <td>0.211667</td>\n",
       "    </tr>\n",
       "  </tbody>\n",
       "</table>\n",
       "<p>1682 rows × 2 columns</p>\n",
       "</div>"
      ],
      "text/plain": [
       "           id    PROB_1\n",
       "0     K751808  0.200903\n",
       "1     K837351  0.463874\n",
       "2     K548114  0.200903\n",
       "3     K736156  0.200903\n",
       "4     K508080  0.200903\n",
       "...       ...       ...\n",
       "1677  K588314  0.463874\n",
       "1678  K826807  0.463874\n",
       "1679  K982731  0.463874\n",
       "1680  K623037  0.463874\n",
       "1681  K883413  0.211667\n",
       "\n",
       "[1682 rows x 2 columns]"
      ]
     },
     "execution_count": 65,
     "metadata": {},
     "output_type": "execute_result"
    }
   ],
   "source": [
    "result_LGB"
   ]
  },
  {
   "cell_type": "code",
   "execution_count": 66,
   "metadata": {},
   "outputs": [
    {
     "name": "stdout",
     "output_type": "stream",
     "text": [
      "[0 0 1 0 0 1 0 0 0 0 0 0 0 1 0 0 0 1 0 1 0 0 0 0 0 0 1 0 1 0 0 0 0 1 0 0 0\n",
      " 0 0 0 0 0 0 0 0 0 0 1 1 0 0 0 0 0 0 0 0 0 0 0 0 0 1 0 1 0 0 1 0 1 0 1 0 0\n",
      " 0 0 0 0 0 0 0 1 0 0 0 1 0 0 0 0 0 1 0 0 0 0 0 0 0 0 0 1 0 0 0 0 1 0 0 0 0\n",
      " 0 0 0 0 0 0 0 0 0 0 1 0 0 0 1 0 0 1 0 0 0 1 0 0 0 0 0 0 1 0 1 0 1 0 0 0 0\n",
      " 0 0 0 0 0 0 0 1 0 0 0 1 0 0 0 0 1 1 0 0 0 0 0 0 1 0 0 0 0 0 0 0 0 0 0 0 0\n",
      " 0 0 0 0 0 0 0 0 0 0 0 0 0 0 0 1 0 0 1 0 0 0 1 0 0 0 0 0 0 0 0 0 0 0 0 0 0\n",
      " 0 0 0 0 0 0 0 0 1 0 0 0 0 0 0 0 0 0 0 0 0 0 0 0 0 0 0 0 0 0 0 0 0 0 0 0 0\n",
      " 1 0 0 0 1 0 0 0 0 1 0 0 0 0 0 0 1 0 0 0 0 0 0 0 0 0 0 0 1 0 0 0 0 0 0 0 0\n",
      " 1 0 0 0 1 0 0 0 0 0 0 0 0 0 0 0 0 0 0 0 0 1 0 0 0 0 0 0 0 0 1 0 0 0 0 0 1\n",
      " 0 0 0 0 0 0 0 1 0 0 0 0 0 0 0 0 0 0 0 0 0 1 1 0 0 1 0 0 0 0 0 0 0 0 0 0 0\n",
      " 0 0 0 0 1 1 0 0 0 0 0 0 0 0 0 0 0 0 0 0 0 1 0 0 0 0 0 0 0 0 0 0 0 0 0 0 0\n",
      " 0 0 0 0 0 1 0 0 0 0 1 0 0 0 0 0 0 0 0 1 0 0 0 0 0 0 0 0 0 0 0 0 0 0 0 0 0\n",
      " 0 1 1 0 0 0 0 0 0 0 0 0 1 0 0 0 0 0 0 0 0 0 0 0 0 0 0 0 1 0 0 1 0 0 0 0 0\n",
      " 0 0 0 0 1 0 0 0 0 1 0 0 0 0 0 0 0 0 0 0 1 0 0 0 0 0 0 1 1 0 0 0 0 0 0 0 0\n",
      " 0 0 0 0 0 0 0 0 0 0 0 1 0 0 0 0 0 0 1 0 0 1 0 0 0 0 1 0 0 0 0 0 1 0 0 0 0\n",
      " 1 0 0 0 1 0 0 0 0 0 0 0 0 1 0 0 0 1 0 0 0 1 0 0 0 1 1 1 0 0 0 0 0 0 0 0 0\n",
      " 0 0 0 0 0 0 0 0 0 0 0 1 1 1 0 0 0 0 0 0 0 0 0 0 0 0 0 0 0 0 0 0 0 0 0 0 0\n",
      " 1 0 0 0 0 0 0 0 0 0 0 0 0 0 0 0 1 0 0 0 0 0 1 0 0 1 0 1 0 0 0 0 0 0 0 0 0\n",
      " 1 0 0 0 0 0 0 1 0 0 0 0 0 0 0 0 0 0 0 0 0 0 1 0 0 1 0 0 0 0 0 0 0 1 0 0 0\n",
      " 1 0 0 0 0 0 0 0 0 0 0 1 1 0 0 0 0 0 0 0 0 0 0 0 0 0 0 1 0 0 0 0 1 1 0 0 0\n",
      " 0 1 0 0 0 0 0 0 0 0 0 0 0 0 1 0 0 0 0 0 0 0 0 0 0 0 0 0 0 0 0 0 0 0 1 0 0\n",
      " 0 1 0 0 0 0 0 0 0 0 0 0 0 0 0 0 1 0 1 0 0 0 0 1 0 1 1 0 0 1 0 0 0 0 0 0 0\n",
      " 0 0 0 0 0 0 0 0 0 0 0 0 0 0 0 1 0 1 0 0 0 0 0 0 0 0 0 0 0 0 0 0 0 1 0 0 0\n",
      " 0 0 0 0 0 0 1 0 0 0 1 0 0 0 0 0 0 0 0 1 0 0 0 0 1 0 0 0 0 0 0 0 0 0 0 0 0\n",
      " 0 0 0 0 0 0 0 0 0 0 0 0 0 0 0 0 0 0 0 0 0 0 0 0 1 0 0 0 0 0 1 0 1 0 1 1 0\n",
      " 0 0 0 0 0 1 0 0 0 1 0 1 0 0 0 0 0 1 0 0 0 0 1 0 0 0 0 0 0 0 0 0 0 0 0 1 1\n",
      " 0 0 0 0 0 0 0 0 0 0 0 0 0 0 0 0 0 0 0 1 0 0 0 0 0 0 0 0 0 0 0 0 0 0 0 0 1\n",
      " 0 0 0 0 0 0 0 0 0]\n"
     ]
    }
   ],
   "source": [
    "pred = best_lgb_model.predict(X_valid_preprocessed)\n",
    "# Set the printing options to display all elements of the array\n",
    "np.set_printoptions(threshold=np.inf)\n",
    "\n",
    "# Print the entire array of predictions\n",
    "print(pred)"
   ]
  },
  {
   "cell_type": "markdown",
   "metadata": {},
   "source": []
  }
 ],
 "metadata": {
  "kernelspec": {
   "display_name": "AA",
   "language": "python",
   "name": "python3"
  },
  "language_info": {
   "codemirror_mode": {
    "name": "ipython",
    "version": 3
   },
   "file_extension": ".py",
   "mimetype": "text/x-python",
   "name": "python",
   "nbconvert_exporter": "python",
   "pygments_lexer": "ipython3",
   "version": "3.10.13"
  }
 },
 "nbformat": 4,
 "nbformat_minor": 2
}
