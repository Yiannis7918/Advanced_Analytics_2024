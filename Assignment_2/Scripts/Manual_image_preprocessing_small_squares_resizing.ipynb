{
 "cells": [
  {
   "cell_type": "code",
   "execution_count": 2,
   "metadata": {},
   "outputs": [],
   "source": [
    "from PIL import Image\n",
    "import os\n",
    "import cv2"
   ]
  },
  {
   "cell_type": "code",
   "execution_count": 3,
   "metadata": {},
   "outputs": [],
   "source": [
    "folder_path = \"G://Dataset//images_v2//squares\"\n",
    "output_folder = \"G://Dataset//images_v2//small_squares\""
   ]
  },
  {
   "cell_type": "code",
   "execution_count": 7,
   "metadata": {},
   "outputs": [],
   "source": [
    "def resize_to_small_square(image_path):\n",
    "    \n",
    "    image = Image.open(folder_path + \"//\" + image_path)\n",
    "\n",
    "    # Resize the image\n",
    "    new_size = (500, 500)\n",
    "    resized_image = image.resize(new_size)\n",
    "\n",
    "    return resized_image"
   ]
  },
  {
   "cell_type": "code",
   "execution_count": 9,
   "metadata": {},
   "outputs": [],
   "source": [
    "#Convert every image to a square and save it in a new folder\n",
    "for filename in os.listdir(folder_path):\n",
    "    # Check if the file is an image\n",
    "    if filename.endswith('.jpg') or filename.endswith('.png'):\n",
    "        # Save the image to a folder\n",
    "        image_small_square = resize_to_small_square(filename)\n",
    "        output_image_path = os.path.join(output_folder, filename)\n",
    "        if image_small_square is not None:\n",
    "            image_small_square.save(output_image_path)\n",
    "            #cv2.imwrite(output_image_path, image_small_square)"
   ]
  }
 ],
 "metadata": {
  "kernelspec": {
   "display_name": "venvTwo",
   "language": "python",
   "name": "python3"
  },
  "language_info": {
   "codemirror_mode": {
    "name": "ipython",
    "version": 3
   },
   "file_extension": ".py",
   "mimetype": "text/x-python",
   "name": "python",
   "nbconvert_exporter": "python",
   "pygments_lexer": "ipython3",
   "version": "3.10.10"
  }
 },
 "nbformat": 4,
 "nbformat_minor": 2
}
