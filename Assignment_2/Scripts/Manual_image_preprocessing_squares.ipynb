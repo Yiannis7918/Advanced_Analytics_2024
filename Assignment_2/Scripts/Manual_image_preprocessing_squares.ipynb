{
 "cells": [
  {
   "cell_type": "markdown",
   "metadata": {},
   "source": [
    "<h1> Preprocess the image </h1>"
   ]
  },
  {
   "cell_type": "markdown",
   "metadata": {},
   "source": [
    "Manually preprocess the image to let it have a square size. </br>\n",
    "Most of the pretrained models have a square input image. </br>\n",
    "If the image is not made \"square\", the objects will be distorted. (compressed in the horizontal dimension)"
   ]
  },
  {
   "cell_type": "code",
   "execution_count": 11,
   "metadata": {},
   "outputs": [],
   "source": [
    "import os\n",
    "import cv2"
   ]
  },
  {
   "cell_type": "code",
   "execution_count": 12,
   "metadata": {},
   "outputs": [],
   "source": [
    "folder_path = \"G://Dataset//images_v2//images\"\n",
    "output_folder = \"G://Dataset//images_v2//squares\""
   ]
  },
  {
   "cell_type": "code",
   "execution_count": 13,
   "metadata": {},
   "outputs": [],
   "source": [
    "# Function to resize images to squares\n",
    "def resize_to_square(img_path):\n",
    "    \n",
    "    img = cv2.imread(\"G://Dataset//images_v2//images//\"+img_path)\n",
    "    square_img = None\n",
    "    if img is not None:\n",
    "        height, width, _ = img.shape\n",
    "        size = min(height, width)\n",
    "\n",
    "        height_0 = 0\n",
    "        height_end = height\n",
    "        width_0 = 0\n",
    "        width_end = width\n",
    "\n",
    "        if(size!=height): #height is to large, redifine height_0 and height_end\n",
    "            height_0 = int((height-size)/2)\n",
    "            height_end = height_0 + size\n",
    "        elif(size!=width): #width is to large, redifine width_0 and width_end\n",
    "            width_0 = int((width-size)/2)\n",
    "            width_end = width_0 + size\n",
    "\n",
    "        square_img = img[height_0:height_end, width_0:width_end, :]\n",
    "    return square_img"
   ]
  },
  {
   "cell_type": "code",
   "execution_count": 14,
   "metadata": {},
   "outputs": [],
   "source": [
    "#Convert every image to a square and save it in a new folder\n",
    "for filename in os.listdir(folder_path):\n",
    "    # Check if the file is an image\n",
    "    if filename.endswith('.jpg') or filename.endswith('.png'):\n",
    "        # Save the image to a folder\n",
    "        image_square = resize_to_square(filename)\n",
    "        output_image_path = os.path.join(output_folder, filename)\n",
    "        if image_square is not None:\n",
    "            cv2.imwrite(output_image_path, image_square)"
   ]
  }
 ],
 "metadata": {
  "kernelspec": {
   "display_name": "venvTwo",
   "language": "python",
   "name": "python3"
  },
  "language_info": {
   "codemirror_mode": {
    "name": "ipython",
    "version": 3
   },
   "file_extension": ".py",
   "mimetype": "text/x-python",
   "name": "python",
   "nbconvert_exporter": "python",
   "pygments_lexer": "ipython3",
   "version": "3.10.10"
  }
 },
 "nbformat": 4,
 "nbformat_minor": 2
}
