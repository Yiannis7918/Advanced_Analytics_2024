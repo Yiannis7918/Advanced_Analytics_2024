{
 "cells": [
  {
   "cell_type": "markdown",
   "metadata": {},
   "source": [
    "<h2> Create a file linking every image name to the game and price </h2>"
   ]
  },
  {
   "cell_type": "markdown",
   "metadata": {},
   "source": [
    "Purpose of the \"metadata.csv\" file: File gives for every image name present in the dataset the name of the game and the price"
   ]
  },
  {
   "cell_type": "markdown",
   "metadata": {},
   "source": [
    "This scripts can be rerun and updated in case we want to use more images in the dataset or add other labels to the csv file"
   ]
  },
  {
   "cell_type": "markdown",
   "metadata": {},
   "source": [
    "Small remark: the price seems to be expressed in cents. I know it is unimportant, but I just wanted to mention my observation"
   ]
  },
  {
   "cell_type": "code",
   "execution_count": 1,
   "metadata": {},
   "outputs": [],
   "source": [
    "import os\n",
    "import json\n",
    "import csv"
   ]
  },
  {
   "cell_type": "code",
   "execution_count": 2,
   "metadata": {},
   "outputs": [],
   "source": [
    "\n",
    "# Path to your folder containing images\n",
    "folder_path = \"E:\\Dataset\\images\\square\"\n",
    "\n",
    "# Path to your JSON file\n",
    "json_file_path = \"../datasets/dataset.json\"\n",
    "\n",
    "# Path to save the CSV file\n",
    "csv_file_path = \"../datasets/metadata_v2.csv\"\n",
    "\n",
    "# Load JSON data into a dictionary\n",
    "with open(json_file_path, 'r') as json_file:\n",
    "    labels_dict = json.load(json_file)"
   ]
  },
  {
   "cell_type": "code",
   "execution_count": 4,
   "metadata": {},
   "outputs": [],
   "source": [
    "\n",
    "# Initialize a list to store image name and label pairs\n",
    "data = []\n",
    "\n",
    "# Iterate over the images in the folder\n",
    "for filename in os.listdir(folder_path):\n",
    "    # Check if the file is an image\n",
    "    if filename.endswith('.jpg') or filename.endswith('.png'):\n",
    "        # Check if the image filename is present in the labels dictionary\n",
    "        for element in labels_dict:\n",
    "            #print(element[\"screenshots\"])\n",
    "            if filename in element[\"screenshots\"]:\n",
    "                # Append image name and label to the data list\n",
    "                data.append([filename, element[\"price\"], element[\"title\"]])"
   ]
  },
  {
   "cell_type": "markdown",
   "metadata": {},
   "source": [
    "Remove the Chinese signs of So-called Hero needed </br> Unicode found in the dataset.json"
   ]
  },
  {
   "cell_type": "code",
   "execution_count": 5,
   "metadata": {},
   "outputs": [],
   "source": [
    "#remove Chinese and trademark characters\n",
    "for i in range(len(data)):\n",
    "    data[i][2] = data[i][2].replace(u\"\\u6240\\u8c13\\u4fa0\\u5ba2\", '') #chinese signs\n",
    "    data[i][2] = data[i][2].replace(u\"\\u2122\", '') #trademark signs"
   ]
  },
  {
   "cell_type": "code",
   "execution_count": 6,
   "metadata": {},
   "outputs": [
    {
     "name": "stdout",
     "output_type": "stream",
     "text": [
      "CSV file created successfully.\n"
     ]
    }
   ],
   "source": [
    "# Write the data to a CSV file\n",
    "with open(csv_file_path, 'w', newline='') as csvfile:\n",
    "    csv_writer = csv.writer(csvfile)\n",
    "    # Write header\n",
    "    csv_writer.writerow(['Image Name', 'Price', 'Game Name'])\n",
    "    # Write data\n",
    "    csv_writer.writerows(data)\n",
    "\n",
    "print(\"CSV file created successfully.\")"
   ]
  }
 ],
 "metadata": {
  "kernelspec": {
   "display_name": "venvTwo",
   "language": "python",
   "name": "python3"
  },
  "language_info": {
   "codemirror_mode": {
    "name": "ipython",
    "version": 3
   },
   "file_extension": ".py",
   "mimetype": "text/x-python",
   "name": "python",
   "nbconvert_exporter": "python",
   "pygments_lexer": "ipython3",
   "version": "3.10.10"
  }
 },
 "nbformat": 4,
 "nbformat_minor": 2
}
