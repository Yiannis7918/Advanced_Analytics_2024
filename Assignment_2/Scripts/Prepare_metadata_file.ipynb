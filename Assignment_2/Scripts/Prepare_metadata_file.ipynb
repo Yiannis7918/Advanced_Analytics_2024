{
 "cells": [
  {
   "cell_type": "markdown",
   "metadata": {},
   "source": [
    "<h2> Create a file linking every image name to the game and price </h2>"
   ]
  },
  {
   "cell_type": "markdown",
   "metadata": {},
   "source": [
    "Purpose of the \"metadata.csv\" file: File gives for every image name present in the dataset the name of the game and the price"
   ]
  },
  {
   "cell_type": "markdown",
   "metadata": {},
   "source": [
    "This scripts can be rerun and updated in case we want to use more images in the dataset or add other labels to the csv file"
   ]
  },
  {
   "cell_type": "markdown",
   "metadata": {},
   "source": [
    "Small remark: the price seems to be expressed in cents. I know it is unimportant, but I just wanted to mention my observation"
   ]
  },
  {
   "cell_type": "code",
   "execution_count": 4,
   "metadata": {},
   "outputs": [],
   "source": [
    "import os\n",
    "import json\n",
    "import csv"
   ]
  },
  {
   "cell_type": "code",
   "execution_count": 5,
   "metadata": {},
   "outputs": [],
   "source": [
    "\n",
    "# Path to your folder containing images\n",
    "folder_path = \"G:\\Dataset\\images_v2\\small_squares\"\n",
    "\n",
    "# Path to your JSON file\n",
    "json_file_path = \"../datasets/dataset.json\"\n",
    "\n",
    "# Path to save the CSV file\n",
    "csv_file_path = \"../datasets/metadata_large.csv\"\n",
    "\n",
    "# Load JSON data into a dictionary\n",
    "with open(json_file_path, 'r') as json_file:\n",
    "    labels_dict = json.load(json_file)"
   ]
  },
  {
   "cell_type": "code",
   "execution_count": 13,
   "metadata": {},
   "outputs": [],
   "source": [
    "#keep the special signs as unicode otherwise problems when you want to encode it at the last step and store it in a csv file\n",
    "def transform_to_unicode(string):\n",
    "    return string.encode('unicode_escape').decode()"
   ]
  },
  {
   "cell_type": "code",
   "execution_count": 14,
   "metadata": {},
   "outputs": [],
   "source": [
    "\n",
    "# Initialize a list to store image name and label pairs\n",
    "data = []\n",
    "\n",
    "# Iterate over the images in the folder\n",
    "for filename in os.listdir(folder_path):\n",
    "    # Check if the file is an image\n",
    "    if filename.endswith('.jpg') or filename.endswith('.png'):\n",
    "        # Check if the image filename is present in the labels dictionary\n",
    "        for element in labels_dict:\n",
    "            #print(element[\"screenshots\"])\n",
    "            if filename in element[\"screenshots\"]:\n",
    "                # Append image name and label to the data list\n",
    "                data.append([filename, element[\"price\"], transform_to_unicode(element[\"title\"]), element[\"sentiment\"]])"
   ]
  },
  {
   "cell_type": "code",
   "execution_count": 9,
   "metadata": {},
   "outputs": [],
   "source": [
    "game_names = []\n",
    "\n",
    "for game in range(len(data)):\n",
    "    if(data[game][2] not in game_names):\n",
    "        game_names.append(data[game][2])"
   ]
  },
  {
   "cell_type": "code",
   "execution_count": 10,
   "metadata": {},
   "outputs": [
    {
     "name": "stdout",
     "output_type": "stream",
     "text": [
      "['WRATH: Aeon of Ruin', 'Beetle Elf', 'Kebab Chefs! - Restaurant Simulator', 'Tau Cubis', 'Pixel Puzzles Trivia', 'Pixel Puzzles World War II Jigsaws', 'Repella Fella', 'Project Hedra', 'Knuckle Sandwich', 'Kingdom-Heroes', 'PERISH', 'Miles of Cubes', 'Blood Bowl 3', 'FitnessVR', 'Primal Threat', 'Supernatural Shenanigans', 'NARUTO X BORUTO Ultimate Ninja STORM CONNECTIONS', 'Sefirot Shards', 'Cyber Knights: Flashpoint', 'BOOK OF HOURS', '30XX', 'Perfect Round Disc Golf', 'Emu War!', 'Bus Driving Sim 22', 'What The Duck', 'Glimmer in Mirror', 'Definitely Not Fried Chicken', 'METAL DOGS', 'Zedfest', 'Dead Monarchy', 'Kakuro', 'RealFighter', 'ProtoCorgi', 'Princess of Zeven', 'We Are The Caretakers', 'Infinite Waves TD', 'Eternal Return', 'LUNARK', 'CONCLUSE 2 - The Drifting Prefecture', 'Fling to the Finish', 'Back To Ashes', 'Booze Masters: Freezing Moonshine', \"MY HERO ONE'S JUSTICE 2\", 'Spin Rhythm XD', 'Tribe: Primitive Builder', 'Just King', 'Inkbound', 'BattleCakes', 'Void Crew', 'Space Wreck', 'Rogue Masters', 'Unforetold: Witchstone', 'Pathogenesis: Overcome', 'Super Intern Story', 'Stuffo the Puzzle Bot', 'EarthX', 'Our Dear Kingdom', 'Netherverse', \"the jester's revenge\", 'Humanoid Huntress', 'An Update is Pending', 'Melon Journey: Bittersweet Memories', 'Dragon Spirits', 'Oirbo', 'Adore', 'Breaking Box', 'Goblin Keep', 'Sumerians', 'Cold Shell', 'Archaelund', 'Sapper - Defuse The Bomb Simulator', 'Deathbulge: Battle of the Bands', 'Jagged Alliance 3', 'My Time at Sandrock', 'Figment 2: Creed Valley', 'Purple Noise Echo', 'True Backrooms', 'Orders Of The Ruler', \"Baldur's Gate 3\", 'Royal Merchant', 'Scorchlands', 'Plantera 2: Golden Acorn', 'Anthology of Fear', 'Helvetii', \"Clive 'N' Wrench\", 'Zombie Soup', 'Operation Valor', 'Timemelters', 'Nothing Good Can Come Of This', 'Circuit Superstars', 'Fast and Low', 'Crush the Industry', 'PROTOCOL 11 - Episode 1', 'Super Space Club', 'Rest', 'Gunsmith Simulator', 'The Man Came Around', 'The Last Spell', 'The Drift Challenge', 'I Wanna Maker', 'Learn Japanese RPG: Hiragana Forbidden Speech', ' So-called Hero', 'DAVIGO: VR vs. PC', 'Sakura Shadow Monsters', 'Purple Place - Classic Games', 'Minds of Nations', 'Coal Mining Simulator', 'ISLAND', 'Ranch Simulator - Build, Farm, Hunt', 'Flunky Farm', 'Sands of Aura', 'The Anacrusis', 'Silicon City', 'Chef Life: A Restaurant Simulator', 'The Adventures of Bruce Flea', \"Active DBG: Brave's Rage\", 'VR Giants', 'Rail Route', 'Snacko', 'Gatewalkers', 'We Are Screwed!', 'Keep the Keep', 'Neon Tail', \"Landlord's Super\", 'Fractured Veil', 'EVERSPACE 2', 'Dominion', 'Bandit Brawler', \"Anarchy: Wolf's law\", 'ICONIC', 'Dice Hero: The Unoriginal Story', 'Ember Knights', 'Little Green Girl', \"Farmer's Life\", 'Esperia ~ Uprising of the Scarlet Witch ~', 'Hometopia', \"Summer Daze: Tilly's Tale\", 'Nour: Play with Your Food', 'Risnuch', 'Westale: Peelgrimage', 'Parcel Mania: Free Multiplayer Madness', 'SE VR World Demo', 'Toasterball', 'Black Skylands', 'Zombie Admin', 'Smash Dungeon', 'Ready or Not', 'BEAST: False Prophet', 'Relic Space', 'Countryballs: Modern Ballfare', 'Lifeless Moon', 'A Boy and His Blob Retro Collection', 'Forest Adventure', 'Second Front', 'Errant Kingdom', 'Advisors at the End of the Universe', 'Monster Loves You Too!', 'Nudel Tag', 'Aliens: Dark Descent', 'Wizard with a Gun', 'Hamster Scramble', 'Dark Chess', 'Kingdom Shell', 'Ilysia', 'Latte Stand Tycoon +', 'Showgunners', 'Railroads & Catacombs', 'Coral Island', 'Blazing Sails', 'Zoria: Age of Shattering', 'VReken', 'The Bloodline', 'Robin Hood - Sherwood Builders', 'Voidtrain', 'Scene Investigators', 'Human Factory', 'Grim Clicker', 'Punch Club 2: Fast Forward', \"Kowloon's Curse: Lost Report\", 'Age of Reforging:The Freelands', 'IIslands of War', 'The Making of Karateka', 'Card Hog', 'A Long Journey to an Uncertain End', 'Trepang2', 'Offroad Truck Simulator: Heavy Duty Challenge®', 'Answer Campus', 'Forbidden Art', 'Kukoro: Stream chat games', 'The Lamplighters League', 'Below the Stone', 'Outerstellar', 'Wayfinder', 'Cosplay Club', 'Super Dungeon Designer', 'Bleak Faith: Forsaken', 'Hexia', 'Eternal Kingdom Battle Peak', 'Doomsday Hunters', 'DepowerBall', 'Dark Table CCG', 'Chronicles of Galdurvale', 'Wigged Out', 'Sunny Girl', 'Unification', 'BattleGroupVR', 'KAKU: Ancient Seal', 'Pull Stay', 'Legendary Sword', 'Roto Force', 'Shardpunk', 'KartRider: Drift', 'Finnish Army Simulator', '经典扫雷', 'Dark Quest 3', 'The Kingdom of God', 'Forest Ranger Simulator', 'Bare Butt Boxing', 'FORZA POLPO!', 'Rise Of The White Sun', 'Fright Animatronics 2', 'The Black Grimoire: Cursebreaker', 'House Flipper 2', 'Rebel Transmute', 'Romancelvania', 'Bus World', 'Meet Your Maker', 'Filthy Animals | Heist Simulator', 'Scars Above', 'WizardPunk', 'Spider Queen cave', 'HRO: Adventures of a Humanoid Resources Officer', 'How To Hack In?', 'AColony', 'Immortal Life', 'A Space for the Unbound', 'HELLCARD', 'Paleo Pines', 'Enshrouded', 'The Last Haven', 'ZERONE - First Encounter', 'Dark Gravity', 'Wild Card Football', 'Project Stocks', 'Deserted', 'Small War', 'Temple Of Snek', 'Hand In Hand', 'The Adventures of Bluke Bifton: Chapter 1', 'WuJiDaoRen', 'ZED ZONE', 'EVECTOR, Acid Thirst', 'Hotel Renovator', \"Mr. Sun's Hatbox\", 'STRAYLIGHT', 'Shieldwall', 'Only Down!', 'Shaolin vs Wutang 2', 'Lightphobe', 'Intern Pursuit Game', 'Tire Friend', 'Mall Craze', 'Erra: Exordium', 'Kingpin: Reloaded', 'BeatBeat', 'Disco Simulator', 'Bang-On Balls: Chronicles', 'Kona II: Brume', \"Koumajou Remilia Ⅱ: Stranger's Requiem\", 'Gunsmith Simulator: Prologue', 'Atlas Fallen', 'Gravity Pro', 'DUBIUM', 'Moons Of Darsalon', 'Ad Infinitum', 'Outliver: Tribulation', 'Rocket Shipment', 'Interference: Dead Air', 'Gravewood High', 'Astronaut: The Best', 'A Highland Song', 'Turret', 'This Bed We Made', 'Sea of Stars', 'House Builder', 'Terraformers', 'My Supermarket', 'Cubic Juice', 'Roots of Pacha', 'Rest House II - The Wizard', 'Your Story', 'The Rule of Land: Pioneers', 'American Arcadia', 'Warspace', 'Recolit', 'Hua Mulan: A Chinese Learning Adventure', 'Bottle Journey', 'Hero Team', 'GALACTIC FIELD 《银河领域》', 'Knights of Braveland', 'Surviving the Abyss', \"Haulin' Oats\", 'Monuments Renovator', 'Torches of Fate', 'Party Animals', 'Hadean Tactics', 'Brain Tester : Mind trick quiz', 'Battle Ram', 'VIPERTRACE', 'Archery Simulator', 'The Lord of the Rings: Gollum', 'The Pale Beyond', 'Together in Battle', 'Three Skies', 'Classic Sport Driving', 'Espresso For The Demon', 'Starship Troopers: Extermination', 'Project Toon Tanks', 'This Means Warp', 'Re:Be', 'TOSS!🍌', 'Mind Over Magic', 'WHALIEN - Unexpected Guests', 'Brothers in Blood: WW2', 'The Forest Cathedral', 'Angels on Tanks', 'Destroyer: The U-Boat Hunter', 'PAYDAY 3', 'PHANTOM GALAXIES', 'Dordogne', 'Builders of Greece', 'The Highrise', 'King of Crabs', 'Empires and Tribes', 'The Last Faith', 'Sharded World', 'Twilight Struggle: Red Sea', 'Tinkertown', 'Protodroid DeLTA', 'Crying Pony', 'Ethyrial: Echoes of Yore', 'Faeland', \"Moolii's Dreamland\", 'Historica Fantasia', 'Astral Ascent', 'Unknown Ways', 'The Night is Grey', 'Frogsong', 'REMNANT II®', 'SpongeBob SquarePants: The Cosmic Shake', 'The Most Beautiful Room in the World', 'Sclash', 'Ultimate Racing 2D 2', 'Alien Hominid HD', 'World Of Mana', 'Voxelotl Garden', 'VR Skater', 'Exoprimal Deluxe Edition', 'Exoprimal', 'Dino Hazard: Chronos Blackout', 'Myth of Future Dimension', 'BeachHead', 'TasteMaker', 'Time Wasters', 'Strange Aeons', 'Deeply Dark: Found Footage', 'Lakeview Cabin 2', \"Rough Justice: '84\", 'Harvest Island', 'Bzzzt', 'Kaleidocraft', 'Space Cats Tactics', 'Roller Drama', 'Ash of Gods: The Way', 'Gemini: Binary Conflict', 'Redfall', 'The Last Shot', 'Super Buff HD', 'Can of Wormholes', 'Helskate', 'Leveling up girls in another world', 'Undercat', 'Dust & Neon', \"Don't Take It Personally, I Just Don't Like You\", 'Superior: Vengeance', 'Hex Gambit: Respawned', 'Zodiac - Hellish Memory', 'GAMECINE VR', 'HAINYA WORLD', 'Victory At Sea Ironclad', 'Vampire: The Masquerade – Swansong', 'The Zone: Stalker Stories', 'Endlight', 'EreaDrone | FPV Drone Simulator', 'Labyrinthine', 'Tails of Trainspot', 'screamdown', 'Alien Egg: Ascent', 'Voidigo', 'The Outlast Trials', 'GearBlocks', 'Love Love School Days', 'Beyond Hope', 'Golf Club Architect', 'Revival: Recolonization', 'Diluvian Ultra', 'Operation: Harsh Doorstop - Development Build', 'Ravenbound', 'GUN JAM', 'Wizardry: The Five Ordeals', 'INFINITE GUITARS', 'Shadow of Valhalla', 'Creature Lab', 'Goodbye Volcano High', 'Zero-G Gunfight', 'Achilles: Legends Untold', 'Three Kingdom: The Journey', 'Gravity Oddity', 'IVAN POE', \"Buster's TD\", '77p egg: Eggwife', 'Walthros: Renewal', 'A Knight in the Attic', 'Farlanders', 'Power of Ten', 'Small Saga', 'Magnecord', 'Cassette Beasts', 'Battle Bands: Rock & Roll Deckbuilder', 'Shanghai Summer', 'Stranded: Alien Dawn', 'Space Station Tycoon', 'Sons Of The Forest', 'Turbo Overkill', 'Lords of Exile', 'Wild West Dynasty', 'Stolen Realm', 'Hairdresser Simulator', 'Battle Talent', 'Big Ambitions', 'Thief Simulator 2', 'Kargast', 'Nienix: Cosmic Warfare', 'DuDu Kingdom', 'Song of Nunu: A League of Legends Story', 'Gangster coin pusher', 'Dead Event', 'FourthMotion', 'Dread Templar', 'Chef Chen', 'DVR Simulator', 'Circle Hitter', 'Gripper', 'Against the Storm', 'Risk of Rain Returns', 'Death in the Water 2', 'The Unbeatable Path', 'Crazy Kung Fu', 'The Cosmic Wheel Sisterhood', 'Hellsweeper VR', 'PRIMITIVE HEARTS', 'Mage of the Olekta Desert', 'Mad Games Tycoon 2', 'Survival: Lost Way', 'Fallen Hero: Retribution', 'Deep Space Gardening', 'Deliver Us Mars', 'Wargroove 2', 'Floor Chess', 'Swarm', 'Clash II', 'Patch Quest', 'Oaken', 'Orbital Strike VR', 'Song Of The Prairie', 'Gangs of Sherwood', 'Pharaoh: A New Era', 'Gord', 'Taxi Life: A City Driving Simulator', 'Touch Grass Together', 'Barely Racing', 'Dungeon Core', 'Black Spire', 'Bomb Rush Cyberfunk', 'High School Odyssey', 'Love Tavern', 'RAILGRADE', 'Uber Destruction', 'Hexarchy', 'Galactic Civilizations IV', 'Guardians of Infinity: To Save Kennedy', 'Hill Agency: PURITYdecay', 'Snake In The Cube', 'STRANGER OF PARADISE FINAL FANTASY ORIGIN', 'Artifice: War Tactics', 'MiniMap Kingdom', 'Uprising', 'The Running Man 2', 'Noch', 'The Troop', 'Farworld Pioneers', 'Boundary', 'First Racer', \"COTTOn Rock'n'Roll -SUPERLATIVE NIGHT DREAMS-\", 'Street Fighter 6', 'Kujlevka', 'Soul Device', 'BLOOD RITE', 'MiLE HiGH TAXi', 'COLD DEPTH', 'Jected - Rivals', 'Kingdom of Wreck Business', 'Park Beyond', 'Hong Kong Obscure', 'Innchanted', 'Infinite Mana', 'Myth of Empires', 'GRAVEN', 'Fish Game', 'AaaaaAAaaaAAAaaAAAAaAAAAA!!! Remastered', 'Quantum Derelict', 'Fly Corp', 'Candle In Darkness', 'VR Museum', 'Kapow Pets', 'Camp Canyonwood', 'Flame Keeper', 'Tiny Troopers: Global Ops', 'Dirge', 'Secret Of Dungeon', 'Longevity Party', 'Working Zombies Steam Edition', 'Tropicalia', 'Pin Puck', 'Swarm Grinder', 'Liberty Belle', 'AVANTI - The Joy of Driving', 'Life of Delta', 'Super Catboy', 'Rooftop Renegade', 'Now There Be Goblins: Tower Defense VR', 'Knights of Legends', 'Pandemic Train', 'chemistris', 'New Witch in Town', 'Puzzle Quest 3', 'Draft of Darkness', 'Viewfinder', 'Trail of Ayash', 'Grapple Tournament', 'Video Game Library Simulator', 'Johnny Lionface', 'Vectromirror', 'Offroad Mechanic Simulator', 'Orbitect', 'Duru – About Mole Rats and Depression', 'Cramped Room of Death', 'Hotel: A Resort Simulator', 'Ad Infernum', 'Lab Chaos', 'Deep Maze', 'Escape Condition', 'Supreme Fighters', 'Breach Wanderers', 'Super Symbol Boys', 'Winter Survival', 'Venture Valley', 'Daisy Flies to the Moon', 'Reshaping Mars', 'Primateria', 'The Break-In', 'Suspicious Shuffle', 'Jorel’s Brother and The Most Important Game of the Galaxy', 'Nimbus INFINITY', 'Legendary Journeys', 'Aza', 'Soundodger 2', 'Tea Garden Simulator', 'Keep the Lights On', 'Disney Dreamlight Valley', 'Galaxy Kart VR', 'Eternights', '9 Years of Shadows', 'Everdream Valley', 'VR Quiet Life', 'Luck be a Landlord', 'Exotic Kosmos', 'Synthwave Glider', 'Angel at Dusk', 'Bram The Toymaker', 'After Us', 'Deios I // Directors Cut', 'Lawgivers II', 'Minigame Madness', 'Plasma', 'HYPERVIOLENT', 'Rendezvous', 'Roots of the mind', 'Gardens Of Celestial Globes', 'Hellscreen', 'Love Shore', 'Astrotester', 'Divilixa', 'Avian Knights', 'Siege the Day', 'Metroplex Zero: Sci-Fi Card Battler', 'Republic of Jungle', 'Elderand', \"It's Only Money\", 'Faerie Afterlight', 'A Fox and His Robot', \"Luna's Adventure: The Overlord\", 'Moondrop', 'Antipaint', 'Fire survival', 'Retchid', 'Mystica', 'ULTRA LMAD', 'Saltsea Chronicles', 'Project F', 'Saleblazers', 'Fraymakers', 'Battle Shapers', 'Rise of the Triad: Ludicrous Edition', 'SimRail - The Railway Simulator', 'Galactic Crew II', 'NeuroNet: Mendax Proxy', 'Ancient Warfare: The Han Dynasty', 'Verne: The Shape of Fantasy', 'Bish Bash Bots', 'ForkJump', 'Gravity Field', 'HYPER METEOR', 'STASIS: BONE TOTEM', 'Super Dream-Weaver', 'Cat Attack', 'MICROVOLTS: Recharged', 'The Immortal Mayor', 'Aveliana', 'Aquamariner', 'House with Puzzles', 'ChronoDojo', 'Nucleares', 'Gladiators Tale', 'BRoS - Battle Royale of Survival', 'CONSORTIUM VR', 'Clash: Artifacts of Chaos', 'Tiny Island', 'The Tartarus Key', 'The Bookwalker: Thief of Tales', 'Lichenvale', 'Shape Quiz', 'Sun Haven', 'The Texas Chain Saw Massacre', 'Always Surrender', 'Painting Werther', 'Zoeti', 'Trine 5: A Clockwork Conspiracy', 'Project Terminus VR', 'Salt and Sacrifice', '9-Bit Armies: A Bit Too Far', 'Die After Sunset', 'Pixel Survivor - Pixel Up!', 'Tanks in Labyrinth', 'Gogte', 'Moonlight In Garland', \"Don't get lost\", 'DIG - Deep In Galaxies', 'Hauma - A Detective Noir Story', 'EVIL BELOW', 'Imposters: Countdown', 'Make Way', 'You Will Die Here Tonight', 'Merge & Blade', 'Frontline Grunt', 'AnarchyField: Infinite Euphoric Level Destruction', 'Samurai Slaughter House', 'Rogue Cards', '迷离诡夜 blurred weird night', 'QUANTAAR', 'Wo Long: Fallen Dynasty', 'Jumpy Paws - World Adventures', 'Hydrofoil Generation', 'Journey to the West', 'Chinese Empire', 'GRUNND', 'Scrap Games', 'Desynced: Autonomous Colony Simulator', 'Undisputed', 'SURVIVAL SISTERS：2048＋1', 'Unknown Planet', 'Yuri Dating Agency', 'LONE RUIN', 'Tsukisas Arena', 'Soul Shifter', 'Hellworld!', 'Tricky Typing', 'Valthirian Arc: Hero School Story 2', 'Curse of the Sea Rats', 'Shattered Heaven', 'Diary of Lucie', 'Super Star Shooter 16', 'LAPIN', 'Cube Conflict', 'To Hell With The Ugly', \"Dragon's Hoard\", 'Territory: Farming and Fighting', 'Goodbye Dr. Sanchez', 'Initial Drift Online', 'Casino Resort Tower', 'The Mageseeker: A League of Legends Story', 'Techtonica', 'Dwarves  & Dungeons', 'Pacific Drive', 'The Gap', 'Techlie', 'Cold Harvest', 'Evil Nun: The Broken Mask', 'Lodestar', 'Super Sketchy Party', 'Mohism: Battle of Words', 'YOLKED - The Egg Game', 'Netherguild', 'Legendary Tales', 'One Lonely Outpost', 'Against All Odds', 'Tainted Grail: The Fall of Avalon', 'Edge Of Dead: Under A Uranium Sky', 'Frontiers Reach', 'A Guidebook of Babel', 'LiftAir Ski Jump', 'Ultimate Epic Battle Simulator 2', '鬼谷八荒 Tale of Immortal', 'ChildStory', 'Last Train Home', 'City of Beats', 'VOENKOMAT', 'STAR FLEET II - Krellan Commander Version 2.0', 'Death Run', 'Apollyon: River of Life', '(the) Gnorp Apologue', 'Strategic Mind: Spirit of Liberty', 'Booom-Slang!', 'Rhythm Sprout: Sick Beats & Bad Sweets', 'Retro Run', 'Trouble Comes Twice', 'Empires Shall Fall', 'League of Angels: Pact', 'Nyaruru Fishy Fight', 'AI Olympius', 'AK-xolotl', 'Riffle Effect', 'Legendary Hoplite', 'Role of Hex', 'Crimson Tactics: The Rise of The White Banner', 'Guardians Frontline', 'Private Property', 'ShemHaMephorash', 'Time Bandit – Part 1: Appendages of the Machine', 'Made Marion', 'Railroad Engineer', 'Death of the Rising Sun', 'Grave Knight', 'ENDLESS Dungeon', 'Potion Tycoon', 'Microcosmum 2', 'Phase Ninja', 'Graze Counter GM', 'Super Mega Baseball 4', 'Zombies Wars', 'ANVIL', 'Broken Universe - Tower Defense', 'VRNOID', 'Infected', 'NecroCity', 'Alice Escaped!', 'War Link - 2111 AD', 'DYNABLASTER', 'Highrise City', 'We are Eva', 'Forest Grove', \"Nefasto's Misadventure: Meeting Noeroze\", 'Venba', 'Summit', 'Primal Survivors', 'Cloud Castle', 'Banishers: Ghosts of New Eden', 'Evil Dead: The Game', 'Silica', 'FWsim - Fireworks Display Simulator', 'Floating Islands of Nucifera', 'Mortal Sin', 'Bone N Soul', 'Grace Online', 'Poached : Hunt The Hunter', 'COCOON', 'Keylogger: A Sci-Fi Visual Novel', 'Troublemaker', 'HORSES.IO: Horse Herd Racing', 'The Shadows Lengthen', 'Echoes of Mayhem®', 'Poor Lucas and the Evil Duke', 'Hardwar', 'Snail Simulator', 'Far Lands', 'Nova Lands', 'Dice Kingdoms', 'BobsleighX', 'Lords of the Fallen', \"Ziggy's Cosmic Adventures\", \"Romance Coaching 101: Couple's Edition\", 'DNA: Episode 1', 'Ascendum', 'Paper Planet', 'Napoleon Maiden ~A maiden without the word impossible~', 'Surprising My Neighbors 2', \"荣光的见证 Glory's Witness\", 'Little Lives', 'RETRIS', 'Cards & Tankards', 'Stellar Mess: The Princess Conundrum (Chapter 1)', 'Elysium Above 履云录', 'Hazordhu', 'LEAD - Rally', 'Cliff & Field Tower Defense', 'InfraSpace', 'World Turtles', 'Escape from Darkness', 'Punch A Bunch', 'Malody V', \"Reek N' Havok\", 'All-In-One Sports VR', 'Zigglox', 'Base Jump', 'Kingsblood', 'Monster Tribe', 'Dice Of Olympus', 'Space Station Cargo Simulator', 'Arcadegeddon', 'Evil Seal', 'Run Tank Run', 'Spells & Secrets', 'Gravel Gang', 'SGS Taipings', 'Welcome to ParadiZe', 'Box Ninja', 'The Hopebringer', 'The Pegasus Expedition', 'Casual Pro Wrestling', 'Anemoiapolis: Chapter 1', 'VOLLEYGON', 'Stargate: Timekeepers', 'Madshot', 'KeepUp Survival', 'Wulin Chess', 'Kabaret', 'Strike Force 3', \"Bilkins' Folly\", 'Otherwar', 'Gordian Rooms 2: A curious island', 'VSCS-II', 'Gods of the Twilight', 'Quant', 'Digimon World: Next Order', 'Daymare: 1994 Sandcastle', 'Frank and Drake', 'SPECTRE', 'Mars First Logistics', 'PocketCiv', 'Rushmore', 'Nadir: A Grimdark Deckbuilder', 'Ira', 'A guard walks into a tavern', 'Glass Masquerade 3: Honeylines', 'Return', 'Disney Speedstorm', 'Chaos Galaxy 2', 'RUSA Odyssey', 'Untamed Tactics', 'Hammerwatch II', 'Baldy Bounce', 'Mocap Fusion [ VR ]', 'Arizona Sunshine® 2', 'The Fabulous Fear Machine', 'Underworld Idle', 'Daydream: Forgotten Sorrow', 'Monolith', 'Scrap Riders', 'LOCOMOTORICA: Staggering Ragdoll', 'Cyber Cult City', 'Espresso Tycoon', 'Beat Survival', 'Inward', 'Shadow Gambit: The Cursed Crew', 'My Summer Adventure: Memories of Another Life', 'RAIDBORN', 'El Paso, Elsewhere', 'Vernal Edge', 'Grand Theft Auto III – The Definitive Edition', 'Grand Theft Auto: Vice City – The Definitive Edition', 'Grand Theft Auto: San Andreas – The Definitive Edition', 'Let Them Fall', 'A Day Out', 'Six Days in Fallujah', 'Hot Hatch Adventure', 'SPRAWL', 'The Witch of Fern Island', 'Here Goes Muffin', \"Jamie's Toy Box\", 'Delivery Boy', 'Ikonei Island: An Earthlock Adventure', 'Captain Pawsome', 'Pray Game', 'Philana and the Elixir of Life', \"Loretta's Brand-New Job\", \"Nifa's First Mission\", 'Sujimon Quest', 'Mai and the Legendary Treasure', 'Sword Princess Sistina', 'Samurai Vandalism', 'Deepest Chamber: Resurrection', 'Apsis Online', \"Zhiel's Mystery\", 'Joon Shining', 'Expedition Agartha', 'War Hospital', 'Save 2020', \"Destiny's Divide\", 'Dreadhunter', '我的变色龙女友My Chameleon Girlfriend', 'Coonwood', 'Paleon', 'ZED Patrol', 'DROS', 'Rogue Spirit', 'Born of Bread', 'Pocket Bravery', 'The War Enders: First Strike | 终战：初击', 'DriveCrazy', 'Pixel Punk', 'Ex Natura: Nature Corrupted', 'REFICUL 666', 'The Romance of the Three Kingdoms: Legend of Shu Han', 'RoboDunk', 'Retail Royale', 'Raige', 'RIPOUT', 'ANCIENT SOULS TAMAG', 'The Ranch of Rivershine', 'Heroic Tale VALUE!+', 'DzombZ', 'Rising Front', 'Automatrons - Tower Defense', 'Diluvian Winds', 'Sweet Dreams Alex', 'Berserk Boy', 'RE:CALL', 'DREDGE', 'SANABI', 'MAKOTO WAKAIDO’s Case Files TRILOGY DELUXE', 'Nitrojet', 'Galaxy Drift', 'Dungeonman', 'Submachine: Legacy', 'CRIXUS: Life of free Gladiator', 'Buildest', 'Rising Spire', 'Rilla Shotgun', 'The Radiants', 'Tape to Tape', 'Terafall: Survival', 'Attack of the Karens', 'SWORD ART ONLINE Last Recollection', 'illWill', 'Shores of Plunder', 'Too Many Cooks', 'Sheepy: A Short Adventure', 'MetaPhysical', 'Plague Breaker', 'Torn Away', '24 Solar Terms', 'Fireball Wizard', 'West Hunt', 'Mori Carta', 'Passpartout 2: The Lost Artist', 'Captains of the Wacky Waters', 'Street Legal 1: REVision', 'Command Heroes', 'Galaxy Pass Station', 'WW2 Rebuilder', 'Colonize', 'Back Then', 'My Friendly Neighborhood', 'OXENFREE II: Lost Signals', 'USC: Counterforce', 'Pushing the limit', 'Seedlings', 'Fruit Ninja VR 2', 'Alder Forge', 'BlasterBeat', 'ArcRunner', 'UsoNatsu ~The Summer Romance Bloomed From A Lie~', 'Moviehouse – The Film Studio Tycoon', 'DownhillVR', 'Hijack Overdrive', 'Gamble Tower', 'Straya', 'Rat Race', 'Pixel Fixel', 'QuietMansion1', 'Midnight Girl', 'Golfie', 'Triadino', 'The Last Worker', 'Wyvia', 'The Light Brigade', 'Gunbrella', 'HUMANITY', 'Stories of Blossom', 'SpellForce: Conquest of Eo', 'Mystery at Morgoth', 'Slow living with Princess', 'Buriedbornes2 - Dungeon RPG -', 'Sanctuary Saga', 'Midautumn', 'The Palace on the Hill Prologue', 'Eternal Dread 3', 'Block Machine', 'Melody of Seasons', 'Medieval Machines Builder', 'The Hero We Need', 'Lakeburg Legacies', 'Cooperative Chess', 'Gjallarhorn', 'Gun World VR', 'OrbWars', 'Backbeat', 'Ephesus', 'Click To Eleven', 'Alterium Shift', 'Blood West', 'Anvil Saga', 'HexeD', 'Rogue Sweeper', 'Special Force Legion of Monsters', 'Above Snakes', 'Polar Penguin', 'The Power Latch Kid', 'Liberte', 'Tyrion Cuthbert: Attorney of the Arcane', 'Tamarak Trail', 'Open Mod 2024.1', 'Randy Blaster 3D', 'Evil Wizard', 'PARANOIA PLACE', 'Kitten Burst', 'Meta Sudoku', 'Loretta', 'Garbage Crew!', 'Anode Heart', 'Terra Nil', 'Warp Tango', 'Veil of Dust: A Homesteading Game', 'Lies Under Ice', 'Organs Please', 'Subluminal', 'Corsairs Legacy - Pirate Action RPG & Sea Battles', 'SUFFER 2', 'Kaya Joshi: Magical Detective', 'Dynopunk', 'Airship: Kingdoms Adrift', 'Soccer With Satan', 'Feed All Monsters', 'The Excrawlers', 'ARK and ADE', 'Wildmender', 'Corpse Keeper', 'DurDanto', 'The Many Pieces of Mr. Coo', 'Mining Mechs', 'Doomsday Paradise', 'Nuclear War Simulator', \"Tortuga - A Pirate's Tale\", 'Random Blacksmith Game', 'Dune: Spice Wars', 'Here to Stay', 'The Black Pepper Crew', 'Warhammer Age of Sigmar: Soul Arena', 'Mail Time', 'Virtual Near Death Experience', 'Bread & Fred', 'Planet of Lana', 'A-Spec First Assault', 'Warstride Challenges', 'Thyria', 'OTXO', 'Wildsilver', 'Puzzle Compound', 'Doomed Lands', 'Pure Sniper', 'SmallZ', 'Death or Glory', 'GunFu Fighter', 'Comic Company Manager', 'Prophet: Prologue', 'ShootRun', 'Roboplant', 'ARRIVAL: ZERO EARTH', 'BAD DREAMS', 'Seas of Kahtaone', 'Glitch Busters: Stuck On You', 'Solbane', 'Thirsty Suitors', 'The Faraway Land', 'Spellmasons', 'Diebrary', 'Cross Blitz', 'Death Roads: Tournament', 'Mix-A-Max', 'Avatar: The Last Airbender - Quest for Balance', 'Mondealy', 'Outer Space Shack', 'Eggcelerate! to the Tropics', 'Stray Blade', 'Hell Slayer', 'Oceanhorn 2: Knights of the Lost Realm', 'Super Dungeon Maker', 'Star Trek: Infinite', 'Chaos on Wheels', 'Empire Chronicles', 'Palworld', 'Noob - The Factionless', 'Bramble: The Mountain King', 'Eigengrau', 'Storyteller', 'Betty & Earl', \"Don't Byte Your Tongue\", 'Banish', 'Nauticalypse', 'Pekoe', 'Facteroids', 'Arithal', 'Deathchron', 'Love n War: Hero by Chance II', 'Lies of P', 'O.A.C - World Begins', 'Jetpack Jack', 'Universe For Sale', 'Deadly Broadcast', 'Adventure Light', 'EVIL', 'Paquerette Down the Bunburrows', 'World Boss', 'Big Byz Wars', 'Tales Of Aravorn: An Elven Marriage', 'Kiteboarding Pro', 'Despair: Blood Curse', 'Research Story', 'Souls of Chronos', 'The Hero Journey in Yggdrasil', 'Goldenjar Fall - Definitive Edition', 'Alien Maze', 'Tanks, But No Tanks', 'ReactorX', 'Shashingo: Learn Japanese with Photography', 'Adventures of  The Carrot Captain', 'Exo-Leviathan', 'OU', 'Firebird', 'Nocturnal: Enhanced Edition', 'No More Rainbows', 'Rytmos', 'Space Mechanic Simulator: Prologue', 'Mark Out! The Wrestling Card Game', \"It's Harvest Time!\", 'Operation F.A.T.E.', 'Dust Devil', 'Crossfire: Sierra Squad', 'Heavyarms Assemble: WWII', 'The Brew Barons', 'Xuan-Yuan Sword: Mists Beyond the Mountains', \"Indies' Lies\", 'Gatedelvers', 'Zombie Builder Defense 2', 'Desktop Dinosaurs', \"Billy's Nightmare\", 'The Ghost - Task of the Ghost Hunters', 'Hell of an Office', \"Hero's Quest\", 'Moving Out 2', 'Embrace of the Downpour', 'Forever Skies', 'Broken Spectre', 'The Isle of Elanor', 'Deepening Fire', 'Dungeons 4', 'Railway Empire 2', 'Masterplan Tycoon', 'Loddlenaut', 'Demolition Master - Destruction Simulator', 'I AM DIE']\n"
     ]
    }
   ],
   "source": [
    "print(game_names)"
   ]
  },
  {
   "cell_type": "code",
   "execution_count": 12,
   "metadata": {},
   "outputs": [
    {
     "name": "stdout",
     "output_type": "stream",
     "text": [
      "212\n",
      "经典扫雷\n"
     ]
    }
   ],
   "source": [
    "print(game_names.index(\"Finnish Army Simulator\"))\n",
    "print(game_names[game_names.index(\"Finnish Army Simulator\")+1])"
   ]
  },
  {
   "cell_type": "markdown",
   "metadata": {},
   "source": [
    "Remove the Chinese signs of So-called Hero needed </br> Unicode found in the dataset.json"
   ]
  },
  {
   "cell_type": "code",
   "execution_count": 7,
   "metadata": {},
   "outputs": [],
   "source": [
    "#remove Chinese and trademark characters\n",
    "for i in range(len(data)):\n",
    "    data[i][2] = data[i][2].replace(u\"\\u6240\\u8c13\\u4fa0\\u5ba2\", '') #chinese signs\n",
    "    data[i][2] = data[i][2].replace(u\"\\u2122\", '') #trademark signs"
   ]
  },
  {
   "cell_type": "code",
   "execution_count": 15,
   "metadata": {},
   "outputs": [
    {
     "name": "stdout",
     "output_type": "stream",
     "text": [
      "CSV file created successfully.\n"
     ]
    }
   ],
   "source": [
    "# Write the data to a CSV file\n",
    "with open(csv_file_path, 'w', newline='') as csvfile:\n",
    "    csv_writer = csv.writer(csvfile)\n",
    "    # Write header\n",
    "    csv_writer.writerow(['Image Name', 'Price', 'Game Name', 'Sentiment'])\n",
    "    # Write data\n",
    "    csv_writer.writerows(data)\n",
    "\n",
    "print(\"CSV file created successfully.\")"
   ]
  }
 ],
 "metadata": {
  "kernelspec": {
   "display_name": "venvTwo",
   "language": "python",
   "name": "python3"
  },
  "language_info": {
   "codemirror_mode": {
    "name": "ipython",
    "version": 3
   },
   "file_extension": ".py",
   "mimetype": "text/x-python",
   "name": "python",
   "nbconvert_exporter": "python",
   "pygments_lexer": "ipython3",
   "version": "3.10.10"
  }
 },
 "nbformat": 4,
 "nbformat_minor": 2
}
