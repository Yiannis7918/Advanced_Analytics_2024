{
 "cells": [
  {
   "cell_type": "markdown",
   "metadata": {},
   "source": [
    "#### Importing the data from github into a dataframe"
   ]
  },
  {
   "cell_type": "code",
   "execution_count": 8,
   "metadata": {},
   "outputs": [
    {
     "name": "stdout",
     "output_type": "stream",
     "text": [
      "                                                File  \\\n",
      "0  C:/Users/bryce/Documents/@ Education/KUL/Year ...   \n",
      "1  C:/Users/bryce/Documents/@ Education/KUL/Year ...   \n",
      "2  C:/Users/bryce/Documents/@ Education/KUL/Year ...   \n",
      "3  C:/Users/bryce/Documents/@ Education/KUL/Year ...   \n",
      "4  C:/Users/bryce/Documents/@ Education/KUL/Year ...   \n",
      "\n",
      "                                                Text  \n",
      "0  {\"aid\": \"39958086\", \"title\": \"Large Hadron Col...  \n",
      "1  {\"aid\": \"39958094\", \"title\": \"An editor for ma...  \n",
      "2  {\"aid\": \"39958109\", \"title\": \"You shouldn't ho...  \n",
      "3  {\"aid\": \"39958127\", \"title\": \"Isaac Asimov obi...  \n",
      "4  {\"aid\": \"39958129\", \"title\": \"Do people genera...  \n"
     ]
    }
   ],
   "source": [
    "import os\n",
    "import pandas as pd\n",
    "\n",
    "# Function to list all text files in a directory\n",
    "def list_text_files(directory):\n",
    "    text_files = []\n",
    "    for root, dirs, files in os.walk(directory):\n",
    "        for file in files:\n",
    "            if file.startswith(\"part-\"):\n",
    "                text_files.append(os.path.join(root, file))\n",
    "    return text_files\n",
    "\n",
    "# Function to read text data and store in DataFrame\n",
    "def create_dataframe_from_text_files(text_files):\n",
    "    data = []\n",
    "    for file in text_files:\n",
    "        with open(file, 'r', encoding='utf-8') as f:  # Adjust encoding if needed\n",
    "            text = f.read()\n",
    "            data.append({'File': file, 'Text': text})\n",
    "    df = pd.DataFrame(data)\n",
    "    return df\n",
    "\n",
    "# Specify the parent directory containing all subdirectories with text files\n",
    "parent_directory = 'C:/Users/bryce/Documents/@ Education/KUL/Year 2 Semester 2/Advanced analytics for business/Advanced_Analytics_2024/Assignment_3/datasets'\n",
    "\n",
    "# List all subdirectories within the parent directory\n",
    "all_subdirectories = [os.path.join(parent_directory, name) for name in os.listdir(parent_directory) if os.path.isdir(os.path.join(parent_directory, name))]\n",
    "\n",
    "# List all text files in all subdirectories\n",
    "all_text_files = []\n",
    "for subdirectory in all_subdirectories:\n",
    "    text_files = list_text_files(subdirectory)\n",
    "    all_text_files.extend(text_files)\n",
    "\n",
    "# Create DataFrame from text files\n",
    "text_df = create_dataframe_from_text_files(all_text_files)\n",
    "\n",
    "# Display DataFrame\n",
    "print(text_df.head())\n"
   ]
  }
 ],
 "metadata": {
  "kernelspec": {
   "display_name": "Python 3",
   "language": "python",
   "name": "python3"
  },
  "language_info": {
   "codemirror_mode": {
    "name": "ipython",
    "version": 3
   },
   "file_extension": ".py",
   "mimetype": "text/x-python",
   "name": "python",
   "nbconvert_exporter": "python",
   "pygments_lexer": "ipython3",
   "version": "3.12.0"
  }
 },
 "nbformat": 4,
 "nbformat_minor": 2
}
