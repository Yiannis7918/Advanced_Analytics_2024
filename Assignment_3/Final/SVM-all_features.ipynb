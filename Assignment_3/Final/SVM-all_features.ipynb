{
 "cells": [
  {
   "cell_type": "code",
   "execution_count": 1,
   "metadata": {},
   "outputs": [],
   "source": [
    "import threading\n",
    "\n",
    "# Helper thread to avoid the Spark StreamingContext from blocking Jupyter\n",
    "        \n",
    "class StreamingThread(threading.Thread):\n",
    "    def __init__(self, ssc):\n",
    "        super().__init__()\n",
    "        self.ssc = ssc\n",
    "    def run(self):\n",
    "        self.ssc.start()\n",
    "        self.ssc.awaitTermination()\n",
    "    def stop(self):\n",
    "        print('----- Stopping... this may take a few seconds -----')\n",
    "        self.ssc.stop(stopSparkContext=False, stopGraceFully=True)"
   ]
  },
  {
   "cell_type": "code",
   "execution_count": 2,
   "metadata": {},
   "outputs": [
    {
     "data": {
      "text/html": [
       "\n",
       "        <div>\n",
       "            <p><b>SparkContext</b></p>\n",
       "\n",
       "            <p><a href=\"http://192.168.0.236:4044\">Spark UI</a></p>\n",
       "\n",
       "            <dl>\n",
       "              <dt>Version</dt>\n",
       "                <dd><code>v3.5.1</code></dd>\n",
       "              <dt>Master</dt>\n",
       "                <dd><code>local[*]</code></dd>\n",
       "              <dt>AppName</dt>\n",
       "                <dd><code>PySparkShell</code></dd>\n",
       "            </dl>\n",
       "        </div>\n",
       "        "
      ],
      "text/plain": [
       "<SparkContext master=local[*] appName=PySparkShell>"
      ]
     },
     "execution_count": 2,
     "metadata": {},
     "output_type": "execute_result"
    }
   ],
   "source": [
    "sc"
   ]
  },
  {
   "cell_type": "code",
   "execution_count": 3,
   "metadata": {},
   "outputs": [
    {
     "data": {
      "text/html": [
       "\n",
       "            <div>\n",
       "                <p><b>SparkSession - hive</b></p>\n",
       "                \n",
       "        <div>\n",
       "            <p><b>SparkContext</b></p>\n",
       "\n",
       "            <p><a href=\"http://192.168.0.236:4044\">Spark UI</a></p>\n",
       "\n",
       "            <dl>\n",
       "              <dt>Version</dt>\n",
       "                <dd><code>v3.5.1</code></dd>\n",
       "              <dt>Master</dt>\n",
       "                <dd><code>local[*]</code></dd>\n",
       "              <dt>AppName</dt>\n",
       "                <dd><code>PySparkShell</code></dd>\n",
       "            </dl>\n",
       "        </div>\n",
       "        \n",
       "            </div>\n",
       "        "
      ],
      "text/plain": [
       "<pyspark.sql.session.SparkSession at 0x2b62caddc70>"
      ]
     },
     "execution_count": 3,
     "metadata": {},
     "output_type": "execute_result"
    }
   ],
   "source": [
    "spark"
   ]
  },
  {
   "cell_type": "code",
   "execution_count": 4,
   "metadata": {},
   "outputs": [],
   "source": [
    "import random\n",
    "from pyspark.streaming import StreamingContext\n",
    "from pyspark.sql import Row, SparkSession\n",
    "from pyspark.sql.functions import udf, struct, array, col, lit, lower, regexp_replace, when\n",
    "from pyspark.sql.types import StringType\n",
    "from pyspark.ml.feature import RegexTokenizer, StopWordsRemover, CountVectorizer, SQLTransformer, IDF\n",
    "from pyspark.ml import Pipeline\n",
    "from pyspark.ml.feature import OneHotEncoder, StringIndexer, VectorAssembler\n",
    "from pyspark.ml.tuning import CrossValidator, ParamGridBuilder\n",
    "from pyspark.ml.evaluation import BinaryClassificationEvaluator, MulticlassClassificationEvaluator\n",
    "from pyspark.ml.feature import StandardScaler\n",
    "from pyspark.ml.classification import LinearSVC"
   ]
  },
  {
   "cell_type": "markdown",
   "metadata": {},
   "source": [
    "Load in data"
   ]
  },
  {
   "cell_type": "code",
   "execution_count": 5,
   "metadata": {},
   "outputs": [
    {
     "name": "stdout",
     "output_type": "stream",
     "text": [
      "+--------+--------+--------------------+--------------------+--------------------+-----+-----+\n",
      "|     aid|comments|         source_text|        source_title|               title|votes|label|\n",
      "+--------+--------+--------------------+--------------------+--------------------+-----+-----+\n",
      "|39958086|       0|Large Hadron Coll...|Large Hadron Coll...|Large Hadron Coll...|    1|    0|\n",
      "|39958094|       0|Web Mash\\n\\n<\\---...|            Web Mash|An editor for mak...|    1|    0|\n",
      "|39958109|       0|Blocked\\n\\n# whoa...|             Blocked|You shouldn't hos...|    1|    0|\n",
      "|39958127|       0|Isaac Asimov obit...|Isaac Asimov obit...|Isaac Asimov obit...|    1|    0|\n",
      "|39958129|       0|Building Computin...|Building Computin...|Do people general...|    1|    0|\n",
      "+--------+--------+--------------------+--------------------+--------------------+-----+-----+\n",
      "only showing top 5 rows\n",
      "\n"
     ]
    }
   ],
   "source": [
    "df = spark.read.json('C:/Users/lenne/anaconda3/envs/AA/Advanced_Analytics/Assignment_3/spark/scripts/data_full.json')\n",
    "\n",
    "# Drop url column\n",
    "df = df.drop(\"url\", \"posted_at\", \"domain\", \"user\")\n",
    "\n",
    "# Convert True to 1 and False to 0 in the \"frontpage\" column\n",
    "df = df.withColumn(\"label\", when(df[\"frontpage\"] == True, 1).otherwise(0))\n",
    "\n",
    "# Drop the original \"frontpage\" column\n",
    "df = df.drop(\"frontpage\")\n",
    "\n",
    "df.show(5)"
   ]
  },
  {
   "cell_type": "code",
   "execution_count": 6,
   "metadata": {},
   "outputs": [
    {
     "name": "stdout",
     "output_type": "stream",
     "text": [
      "Shape of DataFrame: 5747 rows, 7 columns\n"
     ]
    }
   ],
   "source": [
    "num_rows = df.count()\n",
    "num_cols = len(df.columns)\n",
    "print(\"Shape of DataFrame: {} rows, {} columns\".format(num_rows, num_cols))"
   ]
  },
  {
   "cell_type": "code",
   "execution_count": 7,
   "metadata": {},
   "outputs": [
    {
     "name": "stdout",
     "output_type": "stream",
     "text": [
      "Column Names:\n",
      "aid\n",
      "comments\n",
      "source_text\n",
      "source_title\n",
      "title\n",
      "votes\n",
      "label\n"
     ]
    }
   ],
   "source": [
    "print(\"Column Names:\")\n",
    "for col in df.columns:\n",
    "    print(col)"
   ]
  },
  {
   "cell_type": "markdown",
   "metadata": {},
   "source": [
    "Clean the data"
   ]
  },
  {
   "cell_type": "code",
   "execution_count": 8,
   "metadata": {},
   "outputs": [],
   "source": [
    "from pyspark.sql.functions import col\n",
    "from pyspark.sql import functions as F\n",
    "\n",
    "text_cols = [\"title\", \"source_title\", \"source_text\"]"
   ]
  },
  {
   "cell_type": "code",
   "execution_count": 9,
   "metadata": {},
   "outputs": [],
   "source": [
    "# Filter out rows where column has an empty string\n",
    "for column in text_cols:\n",
    "    df = df.filter(F.col(column) != '')\n",
    "\n",
    "# Drop duplicates \n",
    "df = df.dropDuplicates(['aid'])\n",
    "df = df.dropDuplicates(['source_text'])\n",
    "df = df.dropDuplicates(['title'])"
   ]
  },
  {
   "cell_type": "code",
   "execution_count": 10,
   "metadata": {},
   "outputs": [
    {
     "data": {
      "text/plain": [
       "4876"
      ]
     },
     "execution_count": 10,
     "metadata": {},
     "output_type": "execute_result"
    }
   ],
   "source": [
    "df.count()"
   ]
  },
  {
   "cell_type": "code",
   "execution_count": 11,
   "metadata": {},
   "outputs": [
    {
     "name": "stdout",
     "output_type": "stream",
     "text": [
      "+-----+-----+\n",
      "|label|count|\n",
      "+-----+-----+\n",
      "|    1|  815|\n",
      "|    0| 4061|\n",
      "+-----+-----+\n",
      "\n"
     ]
    }
   ],
   "source": [
    "df.groupBy('label').count().show()"
   ]
  },
  {
   "cell_type": "code",
   "execution_count": 12,
   "metadata": {},
   "outputs": [],
   "source": [
    "# Apply lowercase transformation to specified columns\n",
    "for column in text_cols:\n",
    "    df = df.withColumn(column, F.lower(F.col(column)))\n",
    "\n",
    "# Remove newline characters (\\n), hashtags (#) and double spaces\n",
    "#df = df.withColumn(\"source_text\", regexp_replace(regexp_replace(regexp_replace(\"source_text\", \"\\\\n\", \" \"), \"#\", \"\"), \"\\\\s+\", \" \"))"
   ]
  },
  {
   "cell_type": "code",
   "execution_count": 13,
   "metadata": {},
   "outputs": [
    {
     "name": "stdout",
     "output_type": "stream",
     "text": [
      "+--------+--------+--------------------+--------------------+--------------------+-----+-----+\n",
      "|     aid|comments|         source_text|        source_title|               title|votes|label|\n",
      "+--------+--------+--------------------+--------------------+--------------------+-----+-----+\n",
      "|40017804|       0|“highly capable” ...|“highly capable” ...|\"highly capable\" ...|    4|    1|\n",
      "|40048863|       0|\"open source\" sta...|\"open source\" sta...|\"open source\" sta...|    1|    0|\n",
      "|40022702|       0|www.cbc.ca\\n\\n# t...|          www.cbc.ca|'flâneuse' honour...|    1|    0|\n",
      "|40077919|       0|'human-induced' c...|'human-induced' c...|'human-induced' c...|    3|    1|\n",
      "|40077522|       0|‘i’ve got a bridg...|‘i’ve got a bridg...|'i've got a bridg...|    1|    0|\n",
      "+--------+--------+--------------------+--------------------+--------------------+-----+-----+\n",
      "only showing top 5 rows\n",
      "\n"
     ]
    }
   ],
   "source": [
    "df.show(5)"
   ]
  },
  {
   "cell_type": "markdown",
   "metadata": {},
   "source": [
    "Create a balanced datasset (class-balanced sampling - undersampling of the majority class)"
   ]
  },
  {
   "cell_type": "code",
   "execution_count": 14,
   "metadata": {},
   "outputs": [],
   "source": [
    "from pyspark.sql.functions import col"
   ]
  },
  {
   "cell_type": "code",
   "execution_count": 15,
   "metadata": {},
   "outputs": [
    {
     "name": "stdout",
     "output_type": "stream",
     "text": [
      "+-----+-----+\n",
      "|label|count|\n",
      "+-----+-----+\n",
      "|    1|  802|\n",
      "|    0|  820|\n",
      "+-----+-----+\n",
      "\n"
     ]
    }
   ],
   "source": [
    "n = 800\n",
    "seed = 42\n",
    "\n",
    "fractions = df.groupBy(\"label\").count().withColumn(\"required_n\", n/col(\"count\"))\\\n",
    "                .drop(\"count\").rdd.collectAsMap()\n",
    "\n",
    "df_balanced = df.stat.sampleBy(\"label\", fractions, seed)\n",
    "df_balanced.groupBy(\"label\").count().show()"
   ]
  },
  {
   "cell_type": "code",
   "execution_count": 16,
   "metadata": {},
   "outputs": [
    {
     "name": "stdout",
     "output_type": "stream",
     "text": [
      "Training Dataset Count: 1145\n",
      "Test Dataset Count: 467\n"
     ]
    }
   ],
   "source": [
    "(trainingData, testData) = df_balanced.randomSplit([0.7, 0.3], seed = 42)\n",
    "print(\"Training Dataset Count: \" + str(trainingData.count()))\n",
    "print(\"Test Dataset Count: \" + str(testData.count()))"
   ]
  },
  {
   "cell_type": "markdown",
   "metadata": {},
   "source": [
    "Pipeline"
   ]
  },
  {
   "cell_type": "code",
   "execution_count": 17,
   "metadata": {},
   "outputs": [],
   "source": [
    "def create_preprocessing_pipeline(inputCol):\n",
    "    # Regular expression tokenizer: Tokenizes input text into words using a regex pattern\n",
    "    regexTokenizer = RegexTokenizer(inputCol=inputCol, outputCol=inputCol + \"_words\", pattern=\"\\\\W\")\n",
    "    \n",
    "    # Stop words: Loads default English stop words and removes them from tokenized words\n",
    "    stops = StopWordsRemover.loadDefaultStopWords('english')\n",
    "    stopwordsRemover = StopWordsRemover(inputCol=regexTokenizer.getOutputCol(), outputCol=inputCol + \"_filtered\", stopWords=stops)\n",
    "    \n",
    "    # Bag of words count: Converts tokenized words into a numerical feature vector\n",
    "    countVectors = CountVectorizer(inputCol=stopwordsRemover.getOutputCol(), outputCol=inputCol + \"_rawFeatures\", vocabSize=10000, minDF=10)\n",
    "    \n",
    "    # IDF (Inverse Document Frequency): Calculates the Inverse Document Frequency of words\n",
    "    idf = IDF(inputCol=countVectors.getOutputCol(), outputCol=inputCol + \"_features\", minDocFreq=10)\n",
    "    \n",
    "    return [regexTokenizer, stopwordsRemover, countVectors, idf]\n",
    "\n",
    "# Create preprocessing pipelines for input columns\n",
    "preprocessing_pipelines = {}\n",
    "for col_name in [\"source_text\", \"source_title\", \"title\"]:\n",
    "    preprocessing_pipelines[col_name] = create_preprocessing_pipeline(col_name)\n",
    "\n",
    "# Combine preprocessing pipelines\n",
    "all_columns_preprocessing = []\n",
    "for pipeline in preprocessing_pipelines.values():\n",
    "    all_columns_preprocessing.extend(pipeline)\n",
    "    \n",
    "# Index categorical columns\n",
    "#indexers = [\n",
    "#    StringIndexer(inputCol=\"domain\", outputCol=\"domain_indexed\"),\n",
    "#    StringIndexer(inputCol=\"user\", outputCol=\"user_indexed\")\n",
    "#]\n",
    "\n",
    "# Use VectorAssembler to combine the feature columns into a single column\n",
    "assembler = VectorAssembler(\n",
    "    inputCols=[col_name + \"_features\" for col_name in text_cols] + [\"comments\", \"votes\"], #\"domain_indexed\", \"user_indexed\",\n",
    "    outputCol=\"features\"\n",
    ")\n",
    "    \n",
    "# @maxIter: max nr of iterations; @regParam: Regularization parameter; @elasticNetParam: 0 for L2, 1 for L1 penalty)\n",
    "lsvc = LinearSVC(maxIter=10, regParam=0.1)\n",
    "\n",
    "# Append model to the preprocessing pipelines to create the final pipeline\n",
    "final_pipeline = Pipeline(stages=all_columns_preprocessing + [assembler, lsvc])"
   ]
  },
  {
   "cell_type": "code",
   "execution_count": 18,
   "metadata": {},
   "outputs": [],
   "source": [
    "paramGrid = ParamGridBuilder().addGrid(lsvc.regParam, [0.3, 0.1, 0.05]).build()"
   ]
  },
  {
   "cell_type": "code",
   "execution_count": 19,
   "metadata": {},
   "outputs": [],
   "source": [
    "# Define a binary classification evaluator\n",
    "evaluation = BinaryClassificationEvaluator(labelCol=\"label\", rawPredictionCol=\"rawPrediction\", metricName=\"areaUnderROC\")"
   ]
  },
  {
   "cell_type": "code",
   "execution_count": 20,
   "metadata": {},
   "outputs": [],
   "source": [
    "crossval = CrossValidator(estimator=final_pipeline,\n",
    "                          estimatorParamMaps=paramGrid,\n",
    "                          evaluator=evaluation,\n",
    "                          numFolds=3)"
   ]
  },
  {
   "cell_type": "code",
   "execution_count": 21,
   "metadata": {},
   "outputs": [],
   "source": [
    "# Fit the model and find the best set of parameters\n",
    "model = crossval.fit(trainingData)"
   ]
  },
  {
   "cell_type": "code",
   "execution_count": 22,
   "metadata": {},
   "outputs": [
    {
     "name": "stdout",
     "output_type": "stream",
     "text": [
      "[RegexTokenizer_720fe6fb98dc, StopWordsRemover_d5ec88f93c02, CountVectorizerModel: uid=CountVectorizer_960792bc84c3, vocabularySize=9300, IDFModel: uid=IDF_bf11e17d32d2, numDocs=1145, numFeatures=9300, RegexTokenizer_ceee4f6222da, StopWordsRemover_d69fc0255db2, CountVectorizerModel: uid=CountVectorizer_b6c6618d0b1a, vocabularySize=52, IDFModel: uid=IDF_1bec5b7d4e8f, numDocs=1145, numFeatures=52, RegexTokenizer_7b74e54b9a37, StopWordsRemover_82b3a4bfed24, CountVectorizerModel: uid=CountVectorizer_8dc8aaf32e52, vocabularySize=53, IDFModel: uid=IDF_050d68c74334, numDocs=1145, numFeatures=53, VectorAssembler_851f48e6ae10, LinearSVCModel: uid=LinearSVC_f70111964df8, numClasses=2, numFeatures=9407]\n"
     ]
    }
   ],
   "source": [
    "best = model.bestModel\n",
    "print(best.stages)"
   ]
  },
  {
   "cell_type": "code",
   "execution_count": 23,
   "metadata": {},
   "outputs": [
    {
     "name": "stdout",
     "output_type": "stream",
     "text": [
      "Optimal hyperparameters: {Param(parent='LinearSVC_f70111964df8', name='aggregationDepth', doc='suggested depth for treeAggregate (>= 2).'): 2, Param(parent='LinearSVC_f70111964df8', name='featuresCol', doc='features column name.'): 'features', Param(parent='LinearSVC_f70111964df8', name='fitIntercept', doc='whether to fit an intercept term.'): True, Param(parent='LinearSVC_f70111964df8', name='labelCol', doc='label column name.'): 'label', Param(parent='LinearSVC_f70111964df8', name='maxBlockSizeInMB', doc='maximum memory in MB for stacking input data into blocks. Data is stacked within partitions. If more than remaining data size in a partition then it is adjusted to the data size. Default 0.0 represents choosing optimal value, depends on specific algorithm. Must be >= 0.'): 0.0, Param(parent='LinearSVC_f70111964df8', name='maxIter', doc='max number of iterations (>= 0).'): 10, Param(parent='LinearSVC_f70111964df8', name='predictionCol', doc='prediction column name.'): 'prediction', Param(parent='LinearSVC_f70111964df8', name='rawPredictionCol', doc='raw prediction (a.k.a. confidence) column name.'): 'rawPrediction', Param(parent='LinearSVC_f70111964df8', name='regParam', doc='regularization parameter (>= 0).'): 0.3, Param(parent='LinearSVC_f70111964df8', name='standardization', doc='whether to standardize the training features before fitting the model.'): True, Param(parent='LinearSVC_f70111964df8', name='threshold', doc='The threshold in binary classification applied to the linear model prediction.  This threshold can be any real number, where Inf will make all predictions 0.0 and -Inf will make all predictions 1.0.'): 0.0, Param(parent='LinearSVC_f70111964df8', name='tol', doc='the convergence tolerance for iterative algorithms (>= 0).'): 1e-06}\n"
     ]
    }
   ],
   "source": [
    "print(\"Optimal hyperparameters:\", best.stages[-1].extractParamMap())"
   ]
  },
  {
   "cell_type": "markdown",
   "metadata": {},
   "source": [
    "Obtain predictions for the test data"
   ]
  },
  {
   "cell_type": "code",
   "execution_count": 24,
   "metadata": {},
   "outputs": [
    {
     "data": {
      "text/plain": [
       "['aid',\n",
       " 'comments',\n",
       " 'source_text',\n",
       " 'source_title',\n",
       " 'title',\n",
       " 'votes',\n",
       " 'label',\n",
       " 'source_text_words',\n",
       " 'source_text_filtered',\n",
       " 'source_text_rawFeatures',\n",
       " 'source_text_features',\n",
       " 'source_title_words',\n",
       " 'source_title_filtered',\n",
       " 'source_title_rawFeatures',\n",
       " 'source_title_features',\n",
       " 'title_words',\n",
       " 'title_filtered',\n",
       " 'title_rawFeatures',\n",
       " 'title_features',\n",
       " 'features',\n",
       " 'rawPrediction',\n",
       " 'prediction']"
      ]
     },
     "execution_count": 24,
     "metadata": {},
     "output_type": "execute_result"
    }
   ],
   "source": [
    "prediction = model.transform(testData)\n",
    "prediction.columns"
   ]
  },
  {
   "cell_type": "markdown",
   "metadata": {},
   "source": [
    "Evaluate the model predictions"
   ]
  },
  {
   "cell_type": "code",
   "execution_count": 25,
   "metadata": {},
   "outputs": [
    {
     "data": {
      "text/plain": [
       "0.6092769891053152"
      ]
     },
     "execution_count": 25,
     "metadata": {},
     "output_type": "execute_result"
    }
   ],
   "source": [
    "eva = evaluation.evaluate(prediction)\n",
    "eva"
   ]
  },
  {
   "cell_type": "code",
   "execution_count": 26,
   "metadata": {},
   "outputs": [
    {
     "data": {
      "text/plain": [
       "0.6092769891053152"
      ]
     },
     "execution_count": 26,
     "metadata": {},
     "output_type": "execute_result"
    }
   ],
   "source": [
    "evaluator = BinaryClassificationEvaluator()\n",
    "evaluator.evaluate(prediction)"
   ]
  },
  {
   "cell_type": "code",
   "execution_count": 27,
   "metadata": {},
   "outputs": [
    {
     "data": {
      "text/plain": [
       "0.5845824411134903"
      ]
     },
     "execution_count": 27,
     "metadata": {},
     "output_type": "execute_result"
    }
   ],
   "source": [
    "accuracy = prediction.filter(prediction.label == prediction.prediction).count() / float(testData.count())\n",
    "accuracy"
   ]
  },
  {
   "cell_type": "markdown",
   "metadata": {},
   "source": [
    "Save the model locally to access later"
   ]
  },
  {
   "cell_type": "code",
   "execution_count": 28,
   "metadata": {},
   "outputs": [],
   "source": [
    "#model.write().overwrite().save('C:/Users/lenne/anaconda3/envs/AA/Advanced_Analytics/Assignment_3/spark/models')"
   ]
  }
 ],
 "metadata": {
  "kernelspec": {
   "display_name": "Python 3 (ipykernel)",
   "language": "python",
   "name": "python3"
  },
  "language_info": {
   "codemirror_mode": {
    "name": "ipython",
    "version": 3
   },
   "file_extension": ".py",
   "mimetype": "text/x-python",
   "name": "python",
   "nbconvert_exporter": "python",
   "pygments_lexer": "ipython3",
   "version": "3.9.13"
  }
 },
 "nbformat": 4,
 "nbformat_minor": 2
}
