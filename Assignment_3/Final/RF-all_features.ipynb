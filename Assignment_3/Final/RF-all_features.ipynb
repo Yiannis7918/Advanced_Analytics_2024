{
 "cells": [
  {
   "cell_type": "code",
   "execution_count": 1,
   "metadata": {},
   "outputs": [],
   "source": [
    "import threading\n",
    "\n",
    "# Helper thread to avoid the Spark StreamingContext from blocking Jupyter\n",
    "        \n",
    "class StreamingThread(threading.Thread):\n",
    "    def __init__(self, ssc):\n",
    "        super().__init__()\n",
    "        self.ssc = ssc\n",
    "    def run(self):\n",
    "        self.ssc.start()\n",
    "        self.ssc.awaitTermination()\n",
    "    def stop(self):\n",
    "        print('----- Stopping... this may take a few seconds -----')\n",
    "        self.ssc.stop(stopSparkContext=False, stopGraceFully=True)"
   ]
  },
  {
   "cell_type": "code",
   "execution_count": 2,
   "metadata": {},
   "outputs": [
    {
     "data": {
      "text/html": [
       "\n",
       "        <div>\n",
       "            <p><b>SparkContext</b></p>\n",
       "\n",
       "            <p><a href=\"http://192.168.0.236:4041\">Spark UI</a></p>\n",
       "\n",
       "            <dl>\n",
       "              <dt>Version</dt>\n",
       "                <dd><code>v3.5.1</code></dd>\n",
       "              <dt>Master</dt>\n",
       "                <dd><code>local[*]</code></dd>\n",
       "              <dt>AppName</dt>\n",
       "                <dd><code>PySparkShell</code></dd>\n",
       "            </dl>\n",
       "        </div>\n",
       "        "
      ],
      "text/plain": [
       "<SparkContext master=local[*] appName=PySparkShell>"
      ]
     },
     "execution_count": 2,
     "metadata": {},
     "output_type": "execute_result"
    }
   ],
   "source": [
    "sc"
   ]
  },
  {
   "cell_type": "code",
   "execution_count": 3,
   "metadata": {},
   "outputs": [
    {
     "data": {
      "text/html": [
       "\n",
       "            <div>\n",
       "                <p><b>SparkSession - hive</b></p>\n",
       "                \n",
       "        <div>\n",
       "            <p><b>SparkContext</b></p>\n",
       "\n",
       "            <p><a href=\"http://192.168.0.236:4041\">Spark UI</a></p>\n",
       "\n",
       "            <dl>\n",
       "              <dt>Version</dt>\n",
       "                <dd><code>v3.5.1</code></dd>\n",
       "              <dt>Master</dt>\n",
       "                <dd><code>local[*]</code></dd>\n",
       "              <dt>AppName</dt>\n",
       "                <dd><code>PySparkShell</code></dd>\n",
       "            </dl>\n",
       "        </div>\n",
       "        \n",
       "            </div>\n",
       "        "
      ],
      "text/plain": [
       "<pyspark.sql.session.SparkSession at 0x25239c6dc70>"
      ]
     },
     "execution_count": 3,
     "metadata": {},
     "output_type": "execute_result"
    }
   ],
   "source": [
    "spark"
   ]
  },
  {
   "cell_type": "code",
   "execution_count": 4,
   "metadata": {},
   "outputs": [],
   "source": [
    "import random\n",
    "from pyspark.streaming import StreamingContext\n",
    "from pyspark.sql import Row, SparkSession\n",
    "from pyspark.sql.functions import udf, struct, array, col, lit, lower, regexp_replace, when\n",
    "from pyspark.sql.types import StringType\n",
    "from pyspark.ml.feature import RegexTokenizer, StopWordsRemover, CountVectorizer, SQLTransformer, IDF\n",
    "from pyspark.ml import Pipeline\n",
    "from pyspark.ml.feature import OneHotEncoder, StringIndexer, VectorAssembler\n",
    "from pyspark.ml.tuning import CrossValidator, ParamGridBuilder\n",
    "from pyspark.ml.evaluation import BinaryClassificationEvaluator, MulticlassClassificationEvaluator\n",
    "from pyspark.ml.feature import StandardScaler\n",
    "from pyspark.ml.classification import RandomForestClassifier"
   ]
  },
  {
   "cell_type": "markdown",
   "metadata": {},
   "source": [
    "Load in data"
   ]
  },
  {
   "cell_type": "code",
   "execution_count": 5,
   "metadata": {},
   "outputs": [
    {
     "name": "stdout",
     "output_type": "stream",
     "text": [
      "+--------+--------+--------------------+--------------------+--------------------+-----+-----+\n",
      "|     aid|comments|         source_text|        source_title|               title|votes|label|\n",
      "+--------+--------+--------------------+--------------------+--------------------+-----+-----+\n",
      "|39958086|       0|Large Hadron Coll...|Large Hadron Coll...|Large Hadron Coll...|    1|    0|\n",
      "|39958094|       0|Web Mash\\n\\n<\\---...|            Web Mash|An editor for mak...|    1|    0|\n",
      "|39958109|       0|Blocked\\n\\n# whoa...|             Blocked|You shouldn't hos...|    1|    0|\n",
      "|39958127|       0|Isaac Asimov obit...|Isaac Asimov obit...|Isaac Asimov obit...|    1|    0|\n",
      "|39958129|       0|Building Computin...|Building Computin...|Do people general...|    1|    0|\n",
      "+--------+--------+--------------------+--------------------+--------------------+-----+-----+\n",
      "only showing top 5 rows\n",
      "\n"
     ]
    }
   ],
   "source": [
    "df = spark.read.json('C:/Users/lenne/anaconda3/envs/AA/Advanced_Analytics/Assignment_3/spark/scripts/data_full.json')\n",
    "\n",
    "# Drop columns\n",
    "df = df.drop(\"url\", \"posted_at\", \"domain\", \"user\")\n",
    "\n",
    "# Convert True to 1 and False to 0 in the \"frontpage\" column\n",
    "df = df.withColumn(\"label\", when(df[\"frontpage\"] == True, 1).otherwise(0))\n",
    "\n",
    "# Drop the original \"frontpage\" column\n",
    "df = df.drop(\"frontpage\")\n",
    "\n",
    "df.show(5)"
   ]
  },
  {
   "cell_type": "code",
   "execution_count": 6,
   "metadata": {},
   "outputs": [
    {
     "name": "stdout",
     "output_type": "stream",
     "text": [
      "Shape of DataFrame: 5747 rows, 7 columns\n"
     ]
    }
   ],
   "source": [
    "num_rows = df.count()\n",
    "num_cols = len(df.columns)\n",
    "print(\"Shape of DataFrame: {} rows, {} columns\".format(num_rows, num_cols))"
   ]
  },
  {
   "cell_type": "code",
   "execution_count": 7,
   "metadata": {},
   "outputs": [
    {
     "name": "stdout",
     "output_type": "stream",
     "text": [
      "Column Names:\n",
      "aid\n",
      "comments\n",
      "source_text\n",
      "source_title\n",
      "title\n",
      "votes\n",
      "label\n"
     ]
    }
   ],
   "source": [
    "print(\"Column Names:\")\n",
    "for col in df.columns:\n",
    "    print(col)"
   ]
  },
  {
   "cell_type": "markdown",
   "metadata": {},
   "source": [
    "Clean the data"
   ]
  },
  {
   "cell_type": "code",
   "execution_count": 8,
   "metadata": {},
   "outputs": [],
   "source": [
    "from pyspark.sql.functions import col\n",
    "from pyspark.sql import functions as F\n",
    "\n",
    "text_cols = [\"title\", \"source_title\", \"source_text\"]"
   ]
  },
  {
   "cell_type": "code",
   "execution_count": 9,
   "metadata": {},
   "outputs": [],
   "source": [
    "# Filter out rows where column has an empty string\n",
    "for column in text_cols:\n",
    "    df = df.filter(F.col(column) != '')\n",
    "\n",
    "# Drop duplicates \n",
    "df = df.dropDuplicates(['aid'])\n",
    "df = df.dropDuplicates(['source_text'])\n",
    "df = df.dropDuplicates(['title'])"
   ]
  },
  {
   "cell_type": "code",
   "execution_count": 10,
   "metadata": {},
   "outputs": [
    {
     "data": {
      "text/plain": [
       "4876"
      ]
     },
     "execution_count": 10,
     "metadata": {},
     "output_type": "execute_result"
    }
   ],
   "source": [
    "df.count()"
   ]
  },
  {
   "cell_type": "code",
   "execution_count": 11,
   "metadata": {},
   "outputs": [
    {
     "name": "stdout",
     "output_type": "stream",
     "text": [
      "+-----+-----+\n",
      "|label|count|\n",
      "+-----+-----+\n",
      "|    1|  815|\n",
      "|    0| 4061|\n",
      "+-----+-----+\n",
      "\n"
     ]
    }
   ],
   "source": [
    "df.groupBy('label').count().show()"
   ]
  },
  {
   "cell_type": "code",
   "execution_count": 12,
   "metadata": {},
   "outputs": [],
   "source": [
    "# Apply lowercase transformation to specified columns\n",
    "for column in text_cols:\n",
    "    df = df.withColumn(column, F.lower(F.col(column)))\n",
    "\n",
    "# Remove newline characters (\\n), hashtags (#) and double spaces\n",
    "#df = df.withColumn(\"source_text\", regexp_replace(regexp_replace(regexp_replace(\"source_text\", \"\\\\n\", \" \"), \"#\", \"\"), \"\\\\s+\", \" \"))\n",
    "# NOT NEEDED (already taken care of in regexTokenizer!)"
   ]
  },
  {
   "cell_type": "code",
   "execution_count": 13,
   "metadata": {},
   "outputs": [
    {
     "name": "stdout",
     "output_type": "stream",
     "text": [
      "+--------+--------+--------------------+--------------------+--------------------+-----+-----+\n",
      "|     aid|comments|         source_text|        source_title|               title|votes|label|\n",
      "+--------+--------+--------------------+--------------------+--------------------+-----+-----+\n",
      "|40017804|       0|“highly capable” ...|“highly capable” ...|\"highly capable\" ...|    4|    1|\n",
      "|40048863|       0|\"open source\" sta...|\"open source\" sta...|\"open source\" sta...|    1|    0|\n",
      "|40022702|       0|www.cbc.ca\\n\\n# t...|          www.cbc.ca|'flâneuse' honour...|    1|    0|\n",
      "|40077919|       0|'human-induced' c...|'human-induced' c...|'human-induced' c...|    3|    1|\n",
      "|40077522|       0|‘i’ve got a bridg...|‘i’ve got a bridg...|'i've got a bridg...|    1|    0|\n",
      "+--------+--------+--------------------+--------------------+--------------------+-----+-----+\n",
      "only showing top 5 rows\n",
      "\n"
     ]
    }
   ],
   "source": [
    "df.show(5)"
   ]
  },
  {
   "cell_type": "markdown",
   "metadata": {},
   "source": [
    "Create a balanced datasset (class-balanced sampling - undersampling of the majority class)"
   ]
  },
  {
   "cell_type": "code",
   "execution_count": 14,
   "metadata": {},
   "outputs": [],
   "source": [
    "from pyspark.sql.functions import col"
   ]
  },
  {
   "cell_type": "code",
   "execution_count": 15,
   "metadata": {},
   "outputs": [
    {
     "name": "stdout",
     "output_type": "stream",
     "text": [
      "+-----+-----+\n",
      "|label|count|\n",
      "+-----+-----+\n",
      "|    1|  802|\n",
      "|    0|  820|\n",
      "+-----+-----+\n",
      "\n"
     ]
    }
   ],
   "source": [
    "n = 800\n",
    "seed = 42\n",
    "\n",
    "fractions = df.groupBy(\"label\").count().withColumn(\"required_n\", n/col(\"count\"))\\\n",
    "                .drop(\"count\").rdd.collectAsMap()\n",
    "\n",
    "df_balanced = df.stat.sampleBy(\"label\", fractions, seed)\n",
    "df_balanced.groupBy(\"label\").count().show()"
   ]
  },
  {
   "cell_type": "code",
   "execution_count": 16,
   "metadata": {},
   "outputs": [
    {
     "name": "stdout",
     "output_type": "stream",
     "text": [
      "Training Dataset Count: 1145\n",
      "Test Dataset Count: 467\n"
     ]
    }
   ],
   "source": [
    "(trainingData, testData) = df_balanced.randomSplit([0.7, 0.3], seed = 42)\n",
    "print(\"Training Dataset Count: \" + str(trainingData.count()))\n",
    "print(\"Test Dataset Count: \" + str(testData.count()))"
   ]
  },
  {
   "cell_type": "markdown",
   "metadata": {},
   "source": [
    "Pipeline"
   ]
  },
  {
   "cell_type": "code",
   "execution_count": 17,
   "metadata": {},
   "outputs": [],
   "source": [
    "def create_preprocessing_pipeline(inputCol):\n",
    "    # Regular expression tokenizer: Tokenizes input text into words using a regex pattern\n",
    "    regexTokenizer = RegexTokenizer(inputCol=inputCol, outputCol=inputCol + \"_words\", pattern=\"\\\\W\")\n",
    "    \n",
    "    # Stop words: Loads default English stop words and removes them from tokenized words\n",
    "    stops = StopWordsRemover.loadDefaultStopWords('english')\n",
    "    stopwordsRemover = StopWordsRemover(inputCol=regexTokenizer.getOutputCol(), outputCol=inputCol + \"_filtered\", stopWords=stops)\n",
    "\n",
    "    # Bag of words count: Converts tokenized words into a numerical feature vector\n",
    "    countVectors = CountVectorizer(inputCol=stopwordsRemover.getOutputCol(), outputCol=inputCol + \"_rawFeatures\", vocabSize=10000, minDF=10)\n",
    "    \n",
    "    # IDF (Inverse Document Frequency): Calculates the Inverse Document Frequency of words\n",
    "    idf = IDF(inputCol=countVectors.getOutputCol(), outputCol=inputCol + \"_features\", minDocFreq=10)\n",
    "    \n",
    "    return [regexTokenizer, stopwordsRemover, countVectors, idf]\n",
    "\n",
    "# Create preprocessing pipelines for input columns\n",
    "preprocessing_pipelines = {}\n",
    "for col_name in text_cols:\n",
    "    preprocessing_pipelines[col_name] = create_preprocessing_pipeline(col_name)\n",
    "\n",
    "# Combine preprocessing pipelines\n",
    "all_columns_preprocessing = []\n",
    "for pipeline in preprocessing_pipelines.values():\n",
    "    all_columns_preprocessing.extend(pipeline)\n",
    "\n",
    "# Use VectorAssembler to combine the feature columns into a single column\n",
    "assembler = VectorAssembler(\n",
    "    inputCols=[col_name + \"_features\" for col_name in text_cols] + [\"comments\", \"votes\"], \n",
    "    outputCol=\"features\"\n",
    ")\n",
    "    \n",
    "# RF model\n",
    "rf = RandomForestClassifier(numTrees=10, featuresCol=\"features\", labelCol=\"label\")\n",
    "\n",
    "# Append model to the preprocessing pipelines to create the final pipeline\n",
    "final_pipeline = Pipeline(stages=all_columns_preprocessing + [assembler, rf])"
   ]
  },
  {
   "cell_type": "code",
   "execution_count": 18,
   "metadata": {},
   "outputs": [],
   "source": [
    "paramGrid = ParamGridBuilder().addGrid(rf.numTrees, [10, 20, 30]).build()"
   ]
  },
  {
   "cell_type": "code",
   "execution_count": 19,
   "metadata": {},
   "outputs": [],
   "source": [
    "# Define a binary classification evaluator\n",
    "evaluation = BinaryClassificationEvaluator(labelCol=\"label\", rawPredictionCol=\"rawPrediction\", metricName=\"areaUnderROC\")"
   ]
  },
  {
   "cell_type": "code",
   "execution_count": 20,
   "metadata": {},
   "outputs": [],
   "source": [
    "crossval = CrossValidator(estimator=final_pipeline,\n",
    "                          estimatorParamMaps=paramGrid,\n",
    "                          evaluator=evaluation,\n",
    "                          numFolds=3)"
   ]
  },
  {
   "cell_type": "code",
   "execution_count": 21,
   "metadata": {},
   "outputs": [],
   "source": [
    "# Fit the model and find the best set of parameters\n",
    "model = crossval.fit(trainingData)"
   ]
  },
  {
   "cell_type": "code",
   "execution_count": 22,
   "metadata": {},
   "outputs": [
    {
     "name": "stdout",
     "output_type": "stream",
     "text": [
      "[RegexTokenizer_f79f50e3c561, StopWordsRemover_de1a98bf9794, CountVectorizerModel: uid=CountVectorizer_8a71a36abe73, vocabularySize=53, IDFModel: uid=IDF_28b7edbcb1f2, numDocs=1145, numFeatures=53, RegexTokenizer_9c68936512e0, StopWordsRemover_b38b4ccbf75c, CountVectorizerModel: uid=CountVectorizer_74da9065d64e, vocabularySize=52, IDFModel: uid=IDF_f69b7c60e50d, numDocs=1145, numFeatures=52, RegexTokenizer_cf5bb7d77160, StopWordsRemover_ee5f2ad0ab41, CountVectorizerModel: uid=CountVectorizer_4605a4a5a212, vocabularySize=9300, IDFModel: uid=IDF_06dbd9d1d4ae, numDocs=1145, numFeatures=9300, VectorAssembler_bf60df594d15, RandomForestClassificationModel: uid=RandomForestClassifier_d2b94fd6abe3, numTrees=30, numClasses=2, numFeatures=9407]\n"
     ]
    }
   ],
   "source": [
    "best = model.bestModel\n",
    "print(best.stages)"
   ]
  },
  {
   "cell_type": "code",
   "execution_count": 23,
   "metadata": {},
   "outputs": [
    {
     "name": "stdout",
     "output_type": "stream",
     "text": [
      "Optimal hyperparameters: {Param(parent='RandomForestClassifier_d2b94fd6abe3', name='bootstrap', doc='Whether bootstrap samples are used when building trees.'): True, Param(parent='RandomForestClassifier_d2b94fd6abe3', name='cacheNodeIds', doc='If false, the algorithm will pass trees to executors to match instances with nodes. If true, the algorithm will cache node IDs for each instance. Caching can speed up training of deeper trees. Users can set how often should the cache be checkpointed or disable it by setting checkpointInterval.'): False, Param(parent='RandomForestClassifier_d2b94fd6abe3', name='checkpointInterval', doc='set checkpoint interval (>= 1) or disable checkpoint (-1). E.g. 10 means that the cache will get checkpointed every 10 iterations. Note: this setting will be ignored if the checkpoint directory is not set in the SparkContext.'): 10, Param(parent='RandomForestClassifier_d2b94fd6abe3', name='featureSubsetStrategy', doc=\"The number of features to consider for splits at each tree node. Supported options: 'auto' (choose automatically for task: If numTrees == 1, set to 'all'. If numTrees > 1 (forest), set to 'sqrt' for classification and to 'onethird' for regression), 'all' (use all features), 'onethird' (use 1/3 of the features), 'sqrt' (use sqrt(number of features)), 'log2' (use log2(number of features)), 'n' (when n is in the range (0, 1.0], use n * number of features. When n is in the range (1, number of features), use n features). default = 'auto'\"): 'auto', Param(parent='RandomForestClassifier_d2b94fd6abe3', name='featuresCol', doc='features column name.'): 'features', Param(parent='RandomForestClassifier_d2b94fd6abe3', name='impurity', doc='Criterion used for information gain calculation (case-insensitive). Supported options: entropy, gini'): 'gini', Param(parent='RandomForestClassifier_d2b94fd6abe3', name='labelCol', doc='label column name.'): 'label', Param(parent='RandomForestClassifier_d2b94fd6abe3', name='leafCol', doc='Leaf indices column name. Predicted leaf index of each instance in each tree by preorder.'): '', Param(parent='RandomForestClassifier_d2b94fd6abe3', name='maxBins', doc='Max number of bins for discretizing continuous features.  Must be >=2 and >= number of categories for any categorical feature.'): 32, Param(parent='RandomForestClassifier_d2b94fd6abe3', name='maxDepth', doc='Maximum depth of the tree. (>= 0) E.g., depth 0 means 1 leaf node; depth 1 means 1 internal node + 2 leaf nodes. Must be in range [0, 30].'): 5, Param(parent='RandomForestClassifier_d2b94fd6abe3', name='maxMemoryInMB', doc='Maximum memory in MB allocated to histogram aggregation. If too small, then 1 node will be split per iteration, and its aggregates may exceed this size.'): 256, Param(parent='RandomForestClassifier_d2b94fd6abe3', name='minInfoGain', doc='Minimum information gain for a split to be considered at a tree node.'): 0.0, Param(parent='RandomForestClassifier_d2b94fd6abe3', name='minInstancesPerNode', doc='Minimum number of instances each child must have after split. If a split causes the left or right child to have fewer than minInstancesPerNode, the split will be discarded as invalid. Should be >= 1.'): 1, Param(parent='RandomForestClassifier_d2b94fd6abe3', name='minWeightFractionPerNode', doc='Minimum fraction of the weighted sample count that each child must have after split. If a split causes the fraction of the total weight in the left or right child to be less than minWeightFractionPerNode, the split will be discarded as invalid. Should be in interval [0.0, 0.5).'): 0.0, Param(parent='RandomForestClassifier_d2b94fd6abe3', name='numTrees', doc='Number of trees to train (>= 1).'): 30, Param(parent='RandomForestClassifier_d2b94fd6abe3', name='predictionCol', doc='prediction column name.'): 'prediction', Param(parent='RandomForestClassifier_d2b94fd6abe3', name='probabilityCol', doc='Column name for predicted class conditional probabilities. Note: Not all models output well-calibrated probability estimates! These probabilities should be treated as confidences, not precise probabilities.'): 'probability', Param(parent='RandomForestClassifier_d2b94fd6abe3', name='rawPredictionCol', doc='raw prediction (a.k.a. confidence) column name.'): 'rawPrediction', Param(parent='RandomForestClassifier_d2b94fd6abe3', name='seed', doc='random seed.'): -5387697053847413545, Param(parent='RandomForestClassifier_d2b94fd6abe3', name='subsamplingRate', doc='Fraction of the training data used for learning each decision tree, in range (0, 1].'): 1.0}\n"
     ]
    }
   ],
   "source": [
    "print(\"Optimal hyperparameters:\", best.stages[-1].extractParamMap())"
   ]
  },
  {
   "cell_type": "markdown",
   "metadata": {},
   "source": [
    "Obtain predictions for the test data"
   ]
  },
  {
   "cell_type": "code",
   "execution_count": 24,
   "metadata": {},
   "outputs": [
    {
     "data": {
      "text/plain": [
       "['aid',\n",
       " 'comments',\n",
       " 'source_text',\n",
       " 'source_title',\n",
       " 'title',\n",
       " 'votes',\n",
       " 'label',\n",
       " 'title_words',\n",
       " 'title_filtered',\n",
       " 'title_rawFeatures',\n",
       " 'title_features',\n",
       " 'source_title_words',\n",
       " 'source_title_filtered',\n",
       " 'source_title_rawFeatures',\n",
       " 'source_title_features',\n",
       " 'source_text_words',\n",
       " 'source_text_filtered',\n",
       " 'source_text_rawFeatures',\n",
       " 'source_text_features',\n",
       " 'features',\n",
       " 'rawPrediction',\n",
       " 'probability',\n",
       " 'prediction']"
      ]
     },
     "execution_count": 24,
     "metadata": {},
     "output_type": "execute_result"
    }
   ],
   "source": [
    "prediction = model.transform(testData)\n",
    "prediction.columns"
   ]
  },
  {
   "cell_type": "markdown",
   "metadata": {},
   "source": [
    "Evaluate the model predictions"
   ]
  },
  {
   "cell_type": "code",
   "execution_count": 25,
   "metadata": {},
   "outputs": [
    {
     "data": {
      "text/plain": [
       "0.8978760867172884"
      ]
     },
     "execution_count": 25,
     "metadata": {},
     "output_type": "execute_result"
    }
   ],
   "source": [
    "eva = evaluation.evaluate(prediction)\n",
    "eva #ROC"
   ]
  },
  {
   "cell_type": "code",
   "execution_count": 26,
   "metadata": {},
   "outputs": [
    {
     "data": {
      "text/plain": [
       "0.8978760867172886"
      ]
     },
     "execution_count": 26,
     "metadata": {},
     "output_type": "execute_result"
    }
   ],
   "source": [
    "evaluator = BinaryClassificationEvaluator()\n",
    "evaluator.evaluate(prediction)"
   ]
  },
  {
   "cell_type": "code",
   "execution_count": 27,
   "metadata": {},
   "outputs": [
    {
     "data": {
      "text/plain": [
       "0.8565310492505354"
      ]
     },
     "execution_count": 27,
     "metadata": {},
     "output_type": "execute_result"
    }
   ],
   "source": [
    "accuracy = prediction.filter(prediction.label == prediction.prediction).count() / float(testData.count())\n",
    "accuracy"
   ]
  },
  {
   "cell_type": "markdown",
   "metadata": {},
   "source": [
    "Save the model locally to access later"
   ]
  },
  {
   "cell_type": "code",
   "execution_count": 28,
   "metadata": {},
   "outputs": [],
   "source": [
    "model.write().overwrite().save('C:/Users/lenne/anaconda3/envs/AA/Advanced_Analytics/Assignment_3/spark/models')"
   ]
  },
  {
   "cell_type": "code",
   "execution_count": null,
   "metadata": {},
   "outputs": [],
   "source": []
  }
 ],
 "metadata": {
  "kernelspec": {
   "display_name": "Python 3 (ipykernel)",
   "language": "python",
   "name": "python3"
  },
  "language_info": {
   "codemirror_mode": {
    "name": "ipython",
    "version": 3
   },
   "file_extension": ".py",
   "mimetype": "text/x-python",
   "name": "python",
   "nbconvert_exporter": "python",
   "pygments_lexer": "ipython3",
   "version": "3.9.13"
  }
 },
 "nbformat": 4,
 "nbformat_minor": 2
}
